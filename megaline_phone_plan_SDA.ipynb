{
 "cells": [
  {
   "cell_type": "markdown",
   "metadata": {},
   "source": [
    "Hi Chukwuemeka! My name is Dmitry, I will be reviewing your project.\n",
    "\n",
    "I’ve left my comments throughout the notebook - look for green, yellow and red boxes! Please don’t delete these comments.\n",
    "\n",
    "<div class=\"alert alert-success\">\n",
    "<b>Reviewer's comment</b>\n",
    "<p>Success: everything is done well</p>\n",
    "</div>\n",
    "\n",
    "<div class=\"alert alert-warning\">\n",
    "<b>Reviewer's comment</b>\n",
    "<p>Remarks: my recommendations to make the project even better</p>\n",
    "</div>\n",
    "\n",
    "<div class=\"alert alert-danger\">\n",
    "<b>Reviewer's comment</b>\n",
    "<p>Error: some issues need fixing!</p>\n",
    "</div>\n",
    "\n",
    "<span style=\"color:red\"> Keep in mind that the project will be accepted only when all the “red” issues are resolved.</span>\n",
    "\n",
    "You can add your replies or questions related to my comments using this template:\n",
    "<div class=\"alert alert-info\">\n",
    "<b>Student's comment</b>\n",
    "</div>\n",
    "\n",
    "### General feedback - V1\n",
    "- Thank you for submitting such a nice project!\n",
    "\n",
    "\n",
    "- There are plently of things you've done great, here is what I liked most:\n",
    "    - Well-structured project with conclusions added after each step makes a very good impression and improves readability for both professional analysts and unqualified people who might be reading your report in real life\n",
    "    - You have some good examples of automatization throughout the project\n",
    "    - I appreciate you taking an extra step to clean the data from outliers - although not explicitly required in this project, it can help us to get a more unbiased result\n",
    "    - It's good that you look at both histograms and density distributions when studying the customers behavior - I would have done it the same way 👍\n",
    "    - The statistical analysis is also done right, although the inputs to it should be corrected (see next point)\n",
    "\n",
    "\n",
    "- There are a couple of important issues that need to be solved for you to arrive to correct conclusions in the end:\n",
    "    - The most important is the choice of data points for the analysis. If I understand correctly, you have chosen to study total usages and revenues for each user in 2018, so you have 500 data points before removing outliers. This approach, however, ignores the fact that some users were registered for the calling plan longer than others. Instead, you should study monthly revenues from users of the two plans: **a data point should be revenue from one user in one month**, and it doesn't matter for us what user that is, or what month that is. Basically, that will give you 500\\*12 data points, excluding the months before registration or after churn (so, probably much less data points, but you get the point). Since this affects a big part of the project, I will not add comments about it in the main body, but only here.\n",
    "    - Please, use the same approach when studying customers behavior in terms of number of calls, messages, internet volume. Again, a data point would be consumption by one user in one month, and it doesn't matter which user it is.\n",
    "    - I've noticed that in revenue calculation you have hard-coded numbers describing the included volumes and prices in the plans. It's better to automatize this by reading those values from \"plans\" dataframe - assume that this dataframe is supplied to you by someone else, and your code should work correctly if that dataframe gets updated (for example, if the prices are increased)\n",
    "\n",
    "\n",
    "- Don't forget to update the conclusions after making changes!\n",
    "- I've left some other comments throughout the text, but in general the project is in a very good shape and I have no doubt you'll make it perfect by the next iteration. Good luck!"
   ]
  },
  {
   "cell_type": "markdown",
   "metadata": {},
   "source": [
    "# Telecom prepaid plan analytics\n",
    "\n",
    "A telecom operator Megaline is looking at using insights from analytics to make adjustments in advertising budget. The company offers its clients two prepaid plans, Surf and Ultimate. The commercial department wants to know which of the plans brings in more revenue in order to adjust the advertising budget.\n",
    "\n",
    "As a Data analyst working for the telecom operator Megaline, you are required to carry out a preliminary analysis of the plans based on a relatively small client selection. You'll have the data on 500 Megaline clients: who the clients are, where they're from, which plan they use, and the number of calls they made and text messages they sent in 2018. Your job is to analyze clients' behavior and determine which prepaid plan brings in more revenue.\n",
    "\n",
    "**Prepaid plans description**\n",
    "\n",
    "**Surf**\n",
    "- Monthly charge: \\$20\n",
    "- 500 monthly minutes, 50 texts and 15 GB of data\n",
    "- After exceeding the package limits: \n",
    "  - 1 minute: 3 cents (\"Megaline\" always rounds up the minute and megabyte values. If the call lasted just one second, it will be counted as one minute)\n",
    "  - 1 text message: 3 cents\n",
    "  - 1 GB of data: \\$10.\n",
    "\n",
    "**Ultimate**\n",
    "- Monthly charge: $70\n",
    "- 3000 monthly minutes, 1000 text messages, and 30 GB of data\n",
    "- After exceeding the package limits: \n",
    "  - 1 minute: 1 cent\n",
    "  - 1 text messgae: 1 cent\n",
    "  - 1 GB of web traffic: \\$7."
   ]
  },
  {
   "cell_type": "markdown",
   "metadata": {},
   "source": [
    "# Objectives\n",
    "\n",
    "The objective of this project is to:\n",
    "- Analyze clients' behavior and determine which prepaid plans brings in more revenue\n",
    "- Use analytics to assists the comercial department in making adjustment in advertising budget\n",
    "- Apply Statistical Data Analysis to a real-life analytical case study."
   ]
  },
  {
   "cell_type": "markdown",
   "metadata": {},
   "source": [
    "<div class=\"alert alert-warning\">\n",
    "<b>Reviewer's comment</b>\n",
    "<p>It's good if you rephrase introduction in your own words, in the same style as your conclusions. That way the project will look more like a researcher's report than a student's work :)</p>\n",
    "</div>"
   ]
  },
  {
   "cell_type": "markdown",
   "metadata": {},
   "source": [
    "<hr>\n",
    "\n",
    " # Table of contents\n",
    "\n",
    "<div class=\"alert alert-block alert-info\" style=\"margin-top: 20px\">\n",
    "    <ol>\n",
    "        <li><a href=\"#open_the_data\">Open the data file and study the general information</a></li>\n",
    "        <li><a href=\"#data_preparation\">Prepare the data</a></li>\n",
    "        <li><a href=\"#analyze_data\">Analyze the data</a></li>\n",
    "        <li><a href=\"#test_hypothesis\">Test the hypothesis</a></li>\n",
    "        <li><a href=\"#overall_conclusion\">Overall conclusion</a></li>\n",
    "    </ol>\n",
    "</div>\n",
    "<br>\n",
    "<hr>"
   ]
  },
  {
   "cell_type": "markdown",
   "metadata": {},
   "source": [
    "<div id=\"open_the_data\">\n",
    "    <h2>Open the data file and study the general information</h2> \n",
    "</div>"
   ]
  },
  {
   "cell_type": "markdown",
   "metadata": {},
   "source": [
    "We require the following libraries: *numpy* and *pandas* for data preprocessing and manipulation, *matplotlib* and *seaborn* for visualization, *math* for factorial calculation, *scipy* for statistical analysis."
   ]
  },
  {
   "cell_type": "code",
   "execution_count": 335,
   "metadata": {},
   "outputs": [
    {
     "name": "stdout",
     "output_type": "stream",
     "text": [
      "Project libraries has been successfully been imported!\n"
     ]
    }
   ],
   "source": [
    "# import pandas and numpy for data preprocessing and manipulation\n",
    "import numpy as np\n",
    "import pandas as pd\n",
    "import re \n",
    "from pandas.api.types import is_string_dtype\n",
    "from pandas.api.types import is_numeric_dtype\n",
    "\n",
    "# matplotlib for visualization\n",
    "import matplotlib.pyplot as plt\n",
    "%matplotlib inline\n",
    "\n",
    "# seaborn for statistical data visualization\n",
    "import seaborn as sns\n",
    "\n",
    "# import the math and scipy packages for statistical analysis\n",
    "import math as mt\n",
    "from math import factorial\n",
    "from scipy import stats as st\n",
    "\n",
    "# import datetime package\n",
    "from datetime import datetime\n",
    "\n",
    "import warnings\n",
    "warnings.filterwarnings(action='ignore', category=np.VisibleDeprecationWarning) \n",
    "\n",
    "print('Project libraries has been successfully been imported!')"
   ]
  },
  {
   "cell_type": "code",
   "execution_count": 336,
   "metadata": {},
   "outputs": [
    {
     "name": "stdout",
     "output_type": "stream",
     "text": [
      "Data has been read correctly!\n"
     ]
    }
   ],
   "source": [
    "# read the data\n",
    "try:\n",
    "    users = pd.read_csv('https://code.s3.yandex.net/datasets/megaline_users1.csv')\n",
    "    calls = pd.read_csv('https://code.s3.yandex.net/datasets/megaline_calls.csv')\n",
    "    messages = pd.read_csv('https://code.s3.yandex.net/datasets/megaline_messages.csv')\n",
    "    internet = pd.read_csv('https://code.s3.yandex.net/datasets/megaline_internet.csv')\n",
    "    plans = pd.read_csv('https://code.s3.yandex.net/datasets/megaline_plans.csv')\n",
    "except:\n",
    "    users = pd.read_csv('C:/Users/hotty/Desktop/Practicum by Yandex/Projects/Statistical Data Analysis/Data/megaline_users1.csv')\n",
    "    calls = pd.read_csv('C:/Users/hotty/Desktop/Practicum by Yandex/Projects/Statistical Data Analysis/Data/megaline_calls.csv')\n",
    "    messages = pd.read_csv('C:/Users/hotty/Desktop/Practicum by Yandex/Projects/Statistical Data Analysis/Data/megaline_messages.csv')\n",
    "    internet = pd.read_csv('C:/Users/hotty/Desktop/Practicum by Yandex/Projects/Statistical Data Analysis/Data/megaline_internet.csv')\n",
    "    plans = pd.read_csv('C:/Users/hotty/Desktop/Practicum by Yandex/Projects/Statistical Data Analysis/Data/megaline_plans.csv')\n",
    "print('Data has been read correctly!')"
   ]
  },
  {
   "cell_type": "code",
   "execution_count": 337,
   "metadata": {},
   "outputs": [],
   "source": [
    "# function to determine if columns in file have null values\n",
    "def get_percent_of_na(df, num):\n",
    "    count = 0\n",
    "    df = df.copy()\n",
    "    s = (df.isna().sum() / df.shape[0])\n",
    "    for column, percent in zip(s.index, s.values):\n",
    "        num_of_nulls = df[column].isna().sum()\n",
    "        if num_of_nulls == 0:\n",
    "            continue\n",
    "        else:\n",
    "            count += 1\n",
    "        print('Column {} has {:.{}%} percent of Nulls, and {} of nulls'.format(column, percent, num, num_of_nulls))\n",
    "    if count != 0:\n",
    "        print(\"\\033[1m\" + 'There are {} columns with NA.'.format(count) + \"\\033[0m\")\n",
    "    else:\n",
    "        print()\n",
    "        print(\"\\033[1m\" + 'There are no columns with NA.' + \"\\033[0m\")\n",
    "        \n",
    "# function to display general information about the dataset\n",
    "def get_info(df):\n",
    "    print(\"\\033[1m\" + '-'*100 + \"\\033[0m\")\n",
    "    print('Head:')\n",
    "    print()\n",
    "    display(df.head())\n",
    "    print('-'*100)\n",
    "    print('Info:')\n",
    "    print()\n",
    "    display(df.info())\n",
    "    print('-'*100)\n",
    "    print('Describe:')\n",
    "    print()\n",
    "    display(df.describe())\n",
    "    print('-'*100)\n",
    "    display(df.describe(include='object'))\n",
    "    print()\n",
    "    print('Columns with nulls:')\n",
    "    display(get_percent_of_na(df, 4))  # check this out\n",
    "    print('-'*100)\n",
    "    print('Shape:')\n",
    "    print(df.shape)\n",
    "    print('-'*100)\n",
    "    print('Duplicated:')\n",
    "    print(\"\\033[1m\" + 'We have {} duplicated rows.\\n'.format(df.duplicated().sum()) + \"\\033[0m\")\n",
    "    print()"
   ]
  },
  {
   "cell_type": "code",
   "execution_count": 338,
   "metadata": {},
   "outputs": [
    {
     "name": "stdout",
     "output_type": "stream",
     "text": [
      "General information about the `calls` dataframe\n",
      "\u001b[1m----------------------------------------------------------------------------------------------------\u001b[0m\n",
      "Head:\n",
      "\n"
     ]
    },
    {
     "data": {
      "text/html": [
       "<div>\n",
       "<style scoped>\n",
       "    .dataframe tbody tr th:only-of-type {\n",
       "        vertical-align: middle;\n",
       "    }\n",
       "\n",
       "    .dataframe tbody tr th {\n",
       "        vertical-align: top;\n",
       "    }\n",
       "\n",
       "    .dataframe thead th {\n",
       "        text-align: right;\n",
       "    }\n",
       "</style>\n",
       "<table border=\"1\" class=\"dataframe\">\n",
       "  <thead>\n",
       "    <tr style=\"text-align: right;\">\n",
       "      <th></th>\n",
       "      <th>id</th>\n",
       "      <th>user_id</th>\n",
       "      <th>call_date</th>\n",
       "      <th>duration</th>\n",
       "    </tr>\n",
       "  </thead>\n",
       "  <tbody>\n",
       "    <tr>\n",
       "      <td>0</td>\n",
       "      <td>1000_93</td>\n",
       "      <td>1000</td>\n",
       "      <td>2018-12-27</td>\n",
       "      <td>8.52</td>\n",
       "    </tr>\n",
       "    <tr>\n",
       "      <td>1</td>\n",
       "      <td>1000_145</td>\n",
       "      <td>1000</td>\n",
       "      <td>2018-12-27</td>\n",
       "      <td>13.66</td>\n",
       "    </tr>\n",
       "    <tr>\n",
       "      <td>2</td>\n",
       "      <td>1000_247</td>\n",
       "      <td>1000</td>\n",
       "      <td>2018-12-27</td>\n",
       "      <td>14.48</td>\n",
       "    </tr>\n",
       "    <tr>\n",
       "      <td>3</td>\n",
       "      <td>1000_309</td>\n",
       "      <td>1000</td>\n",
       "      <td>2018-12-28</td>\n",
       "      <td>5.76</td>\n",
       "    </tr>\n",
       "    <tr>\n",
       "      <td>4</td>\n",
       "      <td>1000_380</td>\n",
       "      <td>1000</td>\n",
       "      <td>2018-12-30</td>\n",
       "      <td>4.22</td>\n",
       "    </tr>\n",
       "  </tbody>\n",
       "</table>\n",
       "</div>"
      ],
      "text/plain": [
       "         id  user_id   call_date  duration\n",
       "0   1000_93     1000  2018-12-27      8.52\n",
       "1  1000_145     1000  2018-12-27     13.66\n",
       "2  1000_247     1000  2018-12-27     14.48\n",
       "3  1000_309     1000  2018-12-28      5.76\n",
       "4  1000_380     1000  2018-12-30      4.22"
      ]
     },
     "metadata": {},
     "output_type": "display_data"
    },
    {
     "name": "stdout",
     "output_type": "stream",
     "text": [
      "----------------------------------------------------------------------------------------------------\n",
      "Info:\n",
      "\n",
      "<class 'pandas.core.frame.DataFrame'>\n",
      "RangeIndex: 137735 entries, 0 to 137734\n",
      "Data columns (total 4 columns):\n",
      "id           137735 non-null object\n",
      "user_id      137735 non-null int64\n",
      "call_date    137735 non-null object\n",
      "duration     137735 non-null float64\n",
      "dtypes: float64(1), int64(1), object(2)\n",
      "memory usage: 4.2+ MB\n"
     ]
    },
    {
     "data": {
      "text/plain": [
       "None"
      ]
     },
     "metadata": {},
     "output_type": "display_data"
    },
    {
     "name": "stdout",
     "output_type": "stream",
     "text": [
      "----------------------------------------------------------------------------------------------------\n",
      "Describe:\n",
      "\n"
     ]
    },
    {
     "data": {
      "text/html": [
       "<div>\n",
       "<style scoped>\n",
       "    .dataframe tbody tr th:only-of-type {\n",
       "        vertical-align: middle;\n",
       "    }\n",
       "\n",
       "    .dataframe tbody tr th {\n",
       "        vertical-align: top;\n",
       "    }\n",
       "\n",
       "    .dataframe thead th {\n",
       "        text-align: right;\n",
       "    }\n",
       "</style>\n",
       "<table border=\"1\" class=\"dataframe\">\n",
       "  <thead>\n",
       "    <tr style=\"text-align: right;\">\n",
       "      <th></th>\n",
       "      <th>user_id</th>\n",
       "      <th>duration</th>\n",
       "    </tr>\n",
       "  </thead>\n",
       "  <tbody>\n",
       "    <tr>\n",
       "      <td>count</td>\n",
       "      <td>137735.000000</td>\n",
       "      <td>137735.000000</td>\n",
       "    </tr>\n",
       "    <tr>\n",
       "      <td>mean</td>\n",
       "      <td>1247.658046</td>\n",
       "      <td>6.745927</td>\n",
       "    </tr>\n",
       "    <tr>\n",
       "      <td>std</td>\n",
       "      <td>139.416268</td>\n",
       "      <td>5.839241</td>\n",
       "    </tr>\n",
       "    <tr>\n",
       "      <td>min</td>\n",
       "      <td>1000.000000</td>\n",
       "      <td>0.000000</td>\n",
       "    </tr>\n",
       "    <tr>\n",
       "      <td>25%</td>\n",
       "      <td>1128.000000</td>\n",
       "      <td>1.290000</td>\n",
       "    </tr>\n",
       "    <tr>\n",
       "      <td>50%</td>\n",
       "      <td>1247.000000</td>\n",
       "      <td>5.980000</td>\n",
       "    </tr>\n",
       "    <tr>\n",
       "      <td>75%</td>\n",
       "      <td>1365.000000</td>\n",
       "      <td>10.690000</td>\n",
       "    </tr>\n",
       "    <tr>\n",
       "      <td>max</td>\n",
       "      <td>1499.000000</td>\n",
       "      <td>37.600000</td>\n",
       "    </tr>\n",
       "  </tbody>\n",
       "</table>\n",
       "</div>"
      ],
      "text/plain": [
       "             user_id       duration\n",
       "count  137735.000000  137735.000000\n",
       "mean     1247.658046       6.745927\n",
       "std       139.416268       5.839241\n",
       "min      1000.000000       0.000000\n",
       "25%      1128.000000       1.290000\n",
       "50%      1247.000000       5.980000\n",
       "75%      1365.000000      10.690000\n",
       "max      1499.000000      37.600000"
      ]
     },
     "metadata": {},
     "output_type": "display_data"
    },
    {
     "name": "stdout",
     "output_type": "stream",
     "text": [
      "----------------------------------------------------------------------------------------------------\n"
     ]
    },
    {
     "data": {
      "text/html": [
       "<div>\n",
       "<style scoped>\n",
       "    .dataframe tbody tr th:only-of-type {\n",
       "        vertical-align: middle;\n",
       "    }\n",
       "\n",
       "    .dataframe tbody tr th {\n",
       "        vertical-align: top;\n",
       "    }\n",
       "\n",
       "    .dataframe thead th {\n",
       "        text-align: right;\n",
       "    }\n",
       "</style>\n",
       "<table border=\"1\" class=\"dataframe\">\n",
       "  <thead>\n",
       "    <tr style=\"text-align: right;\">\n",
       "      <th></th>\n",
       "      <th>id</th>\n",
       "      <th>call_date</th>\n",
       "    </tr>\n",
       "  </thead>\n",
       "  <tbody>\n",
       "    <tr>\n",
       "      <td>count</td>\n",
       "      <td>137735</td>\n",
       "      <td>137735</td>\n",
       "    </tr>\n",
       "    <tr>\n",
       "      <td>unique</td>\n",
       "      <td>137735</td>\n",
       "      <td>351</td>\n",
       "    </tr>\n",
       "    <tr>\n",
       "      <td>top</td>\n",
       "      <td>1048_212</td>\n",
       "      <td>2018-12-27</td>\n",
       "    </tr>\n",
       "    <tr>\n",
       "      <td>freq</td>\n",
       "      <td>1</td>\n",
       "      <td>1091</td>\n",
       "    </tr>\n",
       "  </tbody>\n",
       "</table>\n",
       "</div>"
      ],
      "text/plain": [
       "              id   call_date\n",
       "count     137735      137735\n",
       "unique    137735         351\n",
       "top     1048_212  2018-12-27\n",
       "freq           1        1091"
      ]
     },
     "metadata": {},
     "output_type": "display_data"
    },
    {
     "name": "stdout",
     "output_type": "stream",
     "text": [
      "\n",
      "Columns with nulls:\n",
      "\n",
      "\u001b[1mThere are no columns with NA.\u001b[0m\n"
     ]
    },
    {
     "data": {
      "text/plain": [
       "None"
      ]
     },
     "metadata": {},
     "output_type": "display_data"
    },
    {
     "name": "stdout",
     "output_type": "stream",
     "text": [
      "----------------------------------------------------------------------------------------------------\n",
      "Shape:\n",
      "(137735, 4)\n",
      "----------------------------------------------------------------------------------------------------\n",
      "Duplicated:\n",
      "\u001b[1mWe have 0 duplicated rows.\n",
      "\u001b[0m\n",
      "\n",
      "General information about the `users` dataframe\n",
      "\u001b[1m----------------------------------------------------------------------------------------------------\u001b[0m\n",
      "Head:\n",
      "\n"
     ]
    },
    {
     "data": {
      "text/html": [
       "<div>\n",
       "<style scoped>\n",
       "    .dataframe tbody tr th:only-of-type {\n",
       "        vertical-align: middle;\n",
       "    }\n",
       "\n",
       "    .dataframe tbody tr th {\n",
       "        vertical-align: top;\n",
       "    }\n",
       "\n",
       "    .dataframe thead th {\n",
       "        text-align: right;\n",
       "    }\n",
       "</style>\n",
       "<table border=\"1\" class=\"dataframe\">\n",
       "  <thead>\n",
       "    <tr style=\"text-align: right;\">\n",
       "      <th></th>\n",
       "      <th>user_id</th>\n",
       "      <th>first_name</th>\n",
       "      <th>last_name</th>\n",
       "      <th>age</th>\n",
       "      <th>city</th>\n",
       "      <th>reg_date</th>\n",
       "      <th>tariff</th>\n",
       "      <th>churn_date</th>\n",
       "    </tr>\n",
       "  </thead>\n",
       "  <tbody>\n",
       "    <tr>\n",
       "      <td>0</td>\n",
       "      <td>1000</td>\n",
       "      <td>Anamaria</td>\n",
       "      <td>Bauer</td>\n",
       "      <td>45</td>\n",
       "      <td>Atlanta-Sandy Springs-Roswell, GA MSA</td>\n",
       "      <td>2018-12-24</td>\n",
       "      <td>ultimate</td>\n",
       "      <td>NaN</td>\n",
       "    </tr>\n",
       "    <tr>\n",
       "      <td>1</td>\n",
       "      <td>1001</td>\n",
       "      <td>Mickey</td>\n",
       "      <td>Wilkerson</td>\n",
       "      <td>28</td>\n",
       "      <td>Seattle-Tacoma-Bellevue, WA MSA</td>\n",
       "      <td>2018-08-13</td>\n",
       "      <td>surf</td>\n",
       "      <td>NaN</td>\n",
       "    </tr>\n",
       "    <tr>\n",
       "      <td>2</td>\n",
       "      <td>1002</td>\n",
       "      <td>Carlee</td>\n",
       "      <td>Hoffman</td>\n",
       "      <td>36</td>\n",
       "      <td>Las Vegas-Henderson-Paradise, NV MSA</td>\n",
       "      <td>2018-10-21</td>\n",
       "      <td>surf</td>\n",
       "      <td>NaN</td>\n",
       "    </tr>\n",
       "    <tr>\n",
       "      <td>3</td>\n",
       "      <td>1003</td>\n",
       "      <td>Reynaldo</td>\n",
       "      <td>Jenkins</td>\n",
       "      <td>52</td>\n",
       "      <td>Tulsa, OK MSA</td>\n",
       "      <td>2018-01-28</td>\n",
       "      <td>surf</td>\n",
       "      <td>NaN</td>\n",
       "    </tr>\n",
       "    <tr>\n",
       "      <td>4</td>\n",
       "      <td>1004</td>\n",
       "      <td>Leonila</td>\n",
       "      <td>Thompson</td>\n",
       "      <td>40</td>\n",
       "      <td>Seattle-Tacoma-Bellevue, WA MSA</td>\n",
       "      <td>2018-05-23</td>\n",
       "      <td>surf</td>\n",
       "      <td>NaN</td>\n",
       "    </tr>\n",
       "  </tbody>\n",
       "</table>\n",
       "</div>"
      ],
      "text/plain": [
       "   user_id first_name  last_name  age                                   city  \\\n",
       "0     1000   Anamaria      Bauer   45  Atlanta-Sandy Springs-Roswell, GA MSA   \n",
       "1     1001     Mickey  Wilkerson   28        Seattle-Tacoma-Bellevue, WA MSA   \n",
       "2     1002     Carlee    Hoffman   36   Las Vegas-Henderson-Paradise, NV MSA   \n",
       "3     1003   Reynaldo    Jenkins   52                          Tulsa, OK MSA   \n",
       "4     1004    Leonila   Thompson   40        Seattle-Tacoma-Bellevue, WA MSA   \n",
       "\n",
       "     reg_date    tariff churn_date  \n",
       "0  2018-12-24  ultimate        NaN  \n",
       "1  2018-08-13      surf        NaN  \n",
       "2  2018-10-21      surf        NaN  \n",
       "3  2018-01-28      surf        NaN  \n",
       "4  2018-05-23      surf        NaN  "
      ]
     },
     "metadata": {},
     "output_type": "display_data"
    },
    {
     "name": "stdout",
     "output_type": "stream",
     "text": [
      "----------------------------------------------------------------------------------------------------\n",
      "Info:\n",
      "\n",
      "<class 'pandas.core.frame.DataFrame'>\n",
      "RangeIndex: 500 entries, 0 to 499\n",
      "Data columns (total 8 columns):\n",
      "user_id       500 non-null int64\n",
      "first_name    500 non-null object\n",
      "last_name     500 non-null object\n",
      "age           500 non-null int64\n",
      "city          500 non-null object\n",
      "reg_date      500 non-null object\n",
      "tariff        500 non-null object\n",
      "churn_date    34 non-null object\n",
      "dtypes: int64(2), object(6)\n",
      "memory usage: 31.4+ KB\n"
     ]
    },
    {
     "data": {
      "text/plain": [
       "None"
      ]
     },
     "metadata": {},
     "output_type": "display_data"
    },
    {
     "name": "stdout",
     "output_type": "stream",
     "text": [
      "----------------------------------------------------------------------------------------------------\n",
      "Describe:\n",
      "\n"
     ]
    },
    {
     "data": {
      "text/html": [
       "<div>\n",
       "<style scoped>\n",
       "    .dataframe tbody tr th:only-of-type {\n",
       "        vertical-align: middle;\n",
       "    }\n",
       "\n",
       "    .dataframe tbody tr th {\n",
       "        vertical-align: top;\n",
       "    }\n",
       "\n",
       "    .dataframe thead th {\n",
       "        text-align: right;\n",
       "    }\n",
       "</style>\n",
       "<table border=\"1\" class=\"dataframe\">\n",
       "  <thead>\n",
       "    <tr style=\"text-align: right;\">\n",
       "      <th></th>\n",
       "      <th>user_id</th>\n",
       "      <th>age</th>\n",
       "    </tr>\n",
       "  </thead>\n",
       "  <tbody>\n",
       "    <tr>\n",
       "      <td>count</td>\n",
       "      <td>500.000000</td>\n",
       "      <td>500.000000</td>\n",
       "    </tr>\n",
       "    <tr>\n",
       "      <td>mean</td>\n",
       "      <td>1249.500000</td>\n",
       "      <td>45.486000</td>\n",
       "    </tr>\n",
       "    <tr>\n",
       "      <td>std</td>\n",
       "      <td>144.481833</td>\n",
       "      <td>16.972269</td>\n",
       "    </tr>\n",
       "    <tr>\n",
       "      <td>min</td>\n",
       "      <td>1000.000000</td>\n",
       "      <td>18.000000</td>\n",
       "    </tr>\n",
       "    <tr>\n",
       "      <td>25%</td>\n",
       "      <td>1124.750000</td>\n",
       "      <td>30.000000</td>\n",
       "    </tr>\n",
       "    <tr>\n",
       "      <td>50%</td>\n",
       "      <td>1249.500000</td>\n",
       "      <td>46.000000</td>\n",
       "    </tr>\n",
       "    <tr>\n",
       "      <td>75%</td>\n",
       "      <td>1374.250000</td>\n",
       "      <td>61.000000</td>\n",
       "    </tr>\n",
       "    <tr>\n",
       "      <td>max</td>\n",
       "      <td>1499.000000</td>\n",
       "      <td>75.000000</td>\n",
       "    </tr>\n",
       "  </tbody>\n",
       "</table>\n",
       "</div>"
      ],
      "text/plain": [
       "           user_id         age\n",
       "count   500.000000  500.000000\n",
       "mean   1249.500000   45.486000\n",
       "std     144.481833   16.972269\n",
       "min    1000.000000   18.000000\n",
       "25%    1124.750000   30.000000\n",
       "50%    1249.500000   46.000000\n",
       "75%    1374.250000   61.000000\n",
       "max    1499.000000   75.000000"
      ]
     },
     "metadata": {},
     "output_type": "display_data"
    },
    {
     "name": "stdout",
     "output_type": "stream",
     "text": [
      "----------------------------------------------------------------------------------------------------\n"
     ]
    },
    {
     "data": {
      "text/html": [
       "<div>\n",
       "<style scoped>\n",
       "    .dataframe tbody tr th:only-of-type {\n",
       "        vertical-align: middle;\n",
       "    }\n",
       "\n",
       "    .dataframe tbody tr th {\n",
       "        vertical-align: top;\n",
       "    }\n",
       "\n",
       "    .dataframe thead th {\n",
       "        text-align: right;\n",
       "    }\n",
       "</style>\n",
       "<table border=\"1\" class=\"dataframe\">\n",
       "  <thead>\n",
       "    <tr style=\"text-align: right;\">\n",
       "      <th></th>\n",
       "      <th>first_name</th>\n",
       "      <th>last_name</th>\n",
       "      <th>city</th>\n",
       "      <th>reg_date</th>\n",
       "      <th>tariff</th>\n",
       "      <th>churn_date</th>\n",
       "    </tr>\n",
       "  </thead>\n",
       "  <tbody>\n",
       "    <tr>\n",
       "      <td>count</td>\n",
       "      <td>500</td>\n",
       "      <td>500</td>\n",
       "      <td>500</td>\n",
       "      <td>500</td>\n",
       "      <td>500</td>\n",
       "      <td>34</td>\n",
       "    </tr>\n",
       "    <tr>\n",
       "      <td>unique</td>\n",
       "      <td>458</td>\n",
       "      <td>399</td>\n",
       "      <td>73</td>\n",
       "      <td>266</td>\n",
       "      <td>2</td>\n",
       "      <td>29</td>\n",
       "    </tr>\n",
       "    <tr>\n",
       "      <td>top</td>\n",
       "      <td>Jasper</td>\n",
       "      <td>Reese</td>\n",
       "      <td>New York-Newark-Jersey City, NY-NJ-PA MSA</td>\n",
       "      <td>2018-07-12</td>\n",
       "      <td>surf</td>\n",
       "      <td>2018-12-18</td>\n",
       "    </tr>\n",
       "    <tr>\n",
       "      <td>freq</td>\n",
       "      <td>3</td>\n",
       "      <td>3</td>\n",
       "      <td>80</td>\n",
       "      <td>5</td>\n",
       "      <td>339</td>\n",
       "      <td>3</td>\n",
       "    </tr>\n",
       "  </tbody>\n",
       "</table>\n",
       "</div>"
      ],
      "text/plain": [
       "       first_name last_name                                       city  \\\n",
       "count         500       500                                        500   \n",
       "unique        458       399                                         73   \n",
       "top        Jasper     Reese  New York-Newark-Jersey City, NY-NJ-PA MSA   \n",
       "freq            3         3                                         80   \n",
       "\n",
       "          reg_date tariff  churn_date  \n",
       "count          500    500          34  \n",
       "unique         266      2          29  \n",
       "top     2018-07-12   surf  2018-12-18  \n",
       "freq             5    339           3  "
      ]
     },
     "metadata": {},
     "output_type": "display_data"
    },
    {
     "name": "stdout",
     "output_type": "stream",
     "text": [
      "\n",
      "Columns with nulls:\n",
      "Column churn_date has 93.2000% percent of Nulls, and 466 of nulls\n",
      "\u001b[1mThere are 1 columns with NA.\u001b[0m\n"
     ]
    },
    {
     "data": {
      "text/plain": [
       "None"
      ]
     },
     "metadata": {},
     "output_type": "display_data"
    },
    {
     "name": "stdout",
     "output_type": "stream",
     "text": [
      "----------------------------------------------------------------------------------------------------\n",
      "Shape:\n",
      "(500, 8)\n",
      "----------------------------------------------------------------------------------------------------\n",
      "Duplicated:\n",
      "\u001b[1mWe have 0 duplicated rows.\n",
      "\u001b[0m\n",
      "\n",
      "General information about the `messages` dataframe\n",
      "\u001b[1m----------------------------------------------------------------------------------------------------\u001b[0m\n",
      "Head:\n",
      "\n"
     ]
    },
    {
     "data": {
      "text/html": [
       "<div>\n",
       "<style scoped>\n",
       "    .dataframe tbody tr th:only-of-type {\n",
       "        vertical-align: middle;\n",
       "    }\n",
       "\n",
       "    .dataframe tbody tr th {\n",
       "        vertical-align: top;\n",
       "    }\n",
       "\n",
       "    .dataframe thead th {\n",
       "        text-align: right;\n",
       "    }\n",
       "</style>\n",
       "<table border=\"1\" class=\"dataframe\">\n",
       "  <thead>\n",
       "    <tr style=\"text-align: right;\">\n",
       "      <th></th>\n",
       "      <th>id</th>\n",
       "      <th>user_id</th>\n",
       "      <th>message_date</th>\n",
       "    </tr>\n",
       "  </thead>\n",
       "  <tbody>\n",
       "    <tr>\n",
       "      <td>0</td>\n",
       "      <td>1000_125</td>\n",
       "      <td>1000</td>\n",
       "      <td>2018-12-27</td>\n",
       "    </tr>\n",
       "    <tr>\n",
       "      <td>1</td>\n",
       "      <td>1000_160</td>\n",
       "      <td>1000</td>\n",
       "      <td>2018-12-31</td>\n",
       "    </tr>\n",
       "    <tr>\n",
       "      <td>2</td>\n",
       "      <td>1000_223</td>\n",
       "      <td>1000</td>\n",
       "      <td>2018-12-31</td>\n",
       "    </tr>\n",
       "    <tr>\n",
       "      <td>3</td>\n",
       "      <td>1000_251</td>\n",
       "      <td>1000</td>\n",
       "      <td>2018-12-27</td>\n",
       "    </tr>\n",
       "    <tr>\n",
       "      <td>4</td>\n",
       "      <td>1000_255</td>\n",
       "      <td>1000</td>\n",
       "      <td>2018-12-26</td>\n",
       "    </tr>\n",
       "  </tbody>\n",
       "</table>\n",
       "</div>"
      ],
      "text/plain": [
       "         id  user_id message_date\n",
       "0  1000_125     1000   2018-12-27\n",
       "1  1000_160     1000   2018-12-31\n",
       "2  1000_223     1000   2018-12-31\n",
       "3  1000_251     1000   2018-12-27\n",
       "4  1000_255     1000   2018-12-26"
      ]
     },
     "metadata": {},
     "output_type": "display_data"
    },
    {
     "name": "stdout",
     "output_type": "stream",
     "text": [
      "----------------------------------------------------------------------------------------------------\n",
      "Info:\n",
      "\n",
      "<class 'pandas.core.frame.DataFrame'>\n",
      "RangeIndex: 76051 entries, 0 to 76050\n",
      "Data columns (total 3 columns):\n",
      "id              76051 non-null object\n",
      "user_id         76051 non-null int64\n",
      "message_date    76051 non-null object\n",
      "dtypes: int64(1), object(2)\n",
      "memory usage: 1.7+ MB\n"
     ]
    },
    {
     "data": {
      "text/plain": [
       "None"
      ]
     },
     "metadata": {},
     "output_type": "display_data"
    },
    {
     "name": "stdout",
     "output_type": "stream",
     "text": [
      "----------------------------------------------------------------------------------------------------\n",
      "Describe:\n",
      "\n"
     ]
    },
    {
     "data": {
      "text/html": [
       "<div>\n",
       "<style scoped>\n",
       "    .dataframe tbody tr th:only-of-type {\n",
       "        vertical-align: middle;\n",
       "    }\n",
       "\n",
       "    .dataframe tbody tr th {\n",
       "        vertical-align: top;\n",
       "    }\n",
       "\n",
       "    .dataframe thead th {\n",
       "        text-align: right;\n",
       "    }\n",
       "</style>\n",
       "<table border=\"1\" class=\"dataframe\">\n",
       "  <thead>\n",
       "    <tr style=\"text-align: right;\">\n",
       "      <th></th>\n",
       "      <th>user_id</th>\n",
       "    </tr>\n",
       "  </thead>\n",
       "  <tbody>\n",
       "    <tr>\n",
       "      <td>count</td>\n",
       "      <td>76051.000000</td>\n",
       "    </tr>\n",
       "    <tr>\n",
       "      <td>mean</td>\n",
       "      <td>1245.972768</td>\n",
       "    </tr>\n",
       "    <tr>\n",
       "      <td>std</td>\n",
       "      <td>139.843635</td>\n",
       "    </tr>\n",
       "    <tr>\n",
       "      <td>min</td>\n",
       "      <td>1000.000000</td>\n",
       "    </tr>\n",
       "    <tr>\n",
       "      <td>25%</td>\n",
       "      <td>1123.000000</td>\n",
       "    </tr>\n",
       "    <tr>\n",
       "      <td>50%</td>\n",
       "      <td>1251.000000</td>\n",
       "    </tr>\n",
       "    <tr>\n",
       "      <td>75%</td>\n",
       "      <td>1362.000000</td>\n",
       "    </tr>\n",
       "    <tr>\n",
       "      <td>max</td>\n",
       "      <td>1497.000000</td>\n",
       "    </tr>\n",
       "  </tbody>\n",
       "</table>\n",
       "</div>"
      ],
      "text/plain": [
       "            user_id\n",
       "count  76051.000000\n",
       "mean    1245.972768\n",
       "std      139.843635\n",
       "min     1000.000000\n",
       "25%     1123.000000\n",
       "50%     1251.000000\n",
       "75%     1362.000000\n",
       "max     1497.000000"
      ]
     },
     "metadata": {},
     "output_type": "display_data"
    },
    {
     "name": "stdout",
     "output_type": "stream",
     "text": [
      "----------------------------------------------------------------------------------------------------\n"
     ]
    },
    {
     "data": {
      "text/html": [
       "<div>\n",
       "<style scoped>\n",
       "    .dataframe tbody tr th:only-of-type {\n",
       "        vertical-align: middle;\n",
       "    }\n",
       "\n",
       "    .dataframe tbody tr th {\n",
       "        vertical-align: top;\n",
       "    }\n",
       "\n",
       "    .dataframe thead th {\n",
       "        text-align: right;\n",
       "    }\n",
       "</style>\n",
       "<table border=\"1\" class=\"dataframe\">\n",
       "  <thead>\n",
       "    <tr style=\"text-align: right;\">\n",
       "      <th></th>\n",
       "      <th>id</th>\n",
       "      <th>message_date</th>\n",
       "    </tr>\n",
       "  </thead>\n",
       "  <tbody>\n",
       "    <tr>\n",
       "      <td>count</td>\n",
       "      <td>76051</td>\n",
       "      <td>76051</td>\n",
       "    </tr>\n",
       "    <tr>\n",
       "      <td>unique</td>\n",
       "      <td>76051</td>\n",
       "      <td>351</td>\n",
       "    </tr>\n",
       "    <tr>\n",
       "      <td>top</td>\n",
       "      <td>1416_100</td>\n",
       "      <td>2018-12-28</td>\n",
       "    </tr>\n",
       "    <tr>\n",
       "      <td>freq</td>\n",
       "      <td>1</td>\n",
       "      <td>702</td>\n",
       "    </tr>\n",
       "  </tbody>\n",
       "</table>\n",
       "</div>"
      ],
      "text/plain": [
       "              id message_date\n",
       "count      76051        76051\n",
       "unique     76051          351\n",
       "top     1416_100   2018-12-28\n",
       "freq           1          702"
      ]
     },
     "metadata": {},
     "output_type": "display_data"
    },
    {
     "name": "stdout",
     "output_type": "stream",
     "text": [
      "\n",
      "Columns with nulls:\n",
      "\n",
      "\u001b[1mThere are no columns with NA.\u001b[0m\n"
     ]
    },
    {
     "data": {
      "text/plain": [
       "None"
      ]
     },
     "metadata": {},
     "output_type": "display_data"
    },
    {
     "name": "stdout",
     "output_type": "stream",
     "text": [
      "----------------------------------------------------------------------------------------------------\n",
      "Shape:\n",
      "(76051, 3)\n",
      "----------------------------------------------------------------------------------------------------\n",
      "Duplicated:\n",
      "\u001b[1mWe have 0 duplicated rows.\n",
      "\u001b[0m\n",
      "\n",
      "General information about the `internet` dataframe\n",
      "\u001b[1m----------------------------------------------------------------------------------------------------\u001b[0m\n",
      "Head:\n",
      "\n"
     ]
    },
    {
     "data": {
      "text/html": [
       "<div>\n",
       "<style scoped>\n",
       "    .dataframe tbody tr th:only-of-type {\n",
       "        vertical-align: middle;\n",
       "    }\n",
       "\n",
       "    .dataframe tbody tr th {\n",
       "        vertical-align: top;\n",
       "    }\n",
       "\n",
       "    .dataframe thead th {\n",
       "        text-align: right;\n",
       "    }\n",
       "</style>\n",
       "<table border=\"1\" class=\"dataframe\">\n",
       "  <thead>\n",
       "    <tr style=\"text-align: right;\">\n",
       "      <th></th>\n",
       "      <th>id</th>\n",
       "      <th>user_id</th>\n",
       "      <th>session_date</th>\n",
       "      <th>mb_used</th>\n",
       "    </tr>\n",
       "  </thead>\n",
       "  <tbody>\n",
       "    <tr>\n",
       "      <td>0</td>\n",
       "      <td>1000_13</td>\n",
       "      <td>1000</td>\n",
       "      <td>2018-12-29</td>\n",
       "      <td>89.86</td>\n",
       "    </tr>\n",
       "    <tr>\n",
       "      <td>1</td>\n",
       "      <td>1000_204</td>\n",
       "      <td>1000</td>\n",
       "      <td>2018-12-31</td>\n",
       "      <td>0.00</td>\n",
       "    </tr>\n",
       "    <tr>\n",
       "      <td>2</td>\n",
       "      <td>1000_379</td>\n",
       "      <td>1000</td>\n",
       "      <td>2018-12-28</td>\n",
       "      <td>660.40</td>\n",
       "    </tr>\n",
       "    <tr>\n",
       "      <td>3</td>\n",
       "      <td>1000_413</td>\n",
       "      <td>1000</td>\n",
       "      <td>2018-12-26</td>\n",
       "      <td>270.99</td>\n",
       "    </tr>\n",
       "    <tr>\n",
       "      <td>4</td>\n",
       "      <td>1000_442</td>\n",
       "      <td>1000</td>\n",
       "      <td>2018-12-27</td>\n",
       "      <td>880.22</td>\n",
       "    </tr>\n",
       "  </tbody>\n",
       "</table>\n",
       "</div>"
      ],
      "text/plain": [
       "         id  user_id session_date  mb_used\n",
       "0   1000_13     1000   2018-12-29    89.86\n",
       "1  1000_204     1000   2018-12-31     0.00\n",
       "2  1000_379     1000   2018-12-28   660.40\n",
       "3  1000_413     1000   2018-12-26   270.99\n",
       "4  1000_442     1000   2018-12-27   880.22"
      ]
     },
     "metadata": {},
     "output_type": "display_data"
    },
    {
     "name": "stdout",
     "output_type": "stream",
     "text": [
      "----------------------------------------------------------------------------------------------------\n",
      "Info:\n",
      "\n",
      "<class 'pandas.core.frame.DataFrame'>\n",
      "RangeIndex: 104825 entries, 0 to 104824\n",
      "Data columns (total 4 columns):\n",
      "id              104825 non-null object\n",
      "user_id         104825 non-null int64\n",
      "session_date    104825 non-null object\n",
      "mb_used         104825 non-null float64\n",
      "dtypes: float64(1), int64(1), object(2)\n",
      "memory usage: 3.2+ MB\n"
     ]
    },
    {
     "data": {
      "text/plain": [
       "None"
      ]
     },
     "metadata": {},
     "output_type": "display_data"
    },
    {
     "name": "stdout",
     "output_type": "stream",
     "text": [
      "----------------------------------------------------------------------------------------------------\n",
      "Describe:\n",
      "\n"
     ]
    },
    {
     "data": {
      "text/html": [
       "<div>\n",
       "<style scoped>\n",
       "    .dataframe tbody tr th:only-of-type {\n",
       "        vertical-align: middle;\n",
       "    }\n",
       "\n",
       "    .dataframe tbody tr th {\n",
       "        vertical-align: top;\n",
       "    }\n",
       "\n",
       "    .dataframe thead th {\n",
       "        text-align: right;\n",
       "    }\n",
       "</style>\n",
       "<table border=\"1\" class=\"dataframe\">\n",
       "  <thead>\n",
       "    <tr style=\"text-align: right;\">\n",
       "      <th></th>\n",
       "      <th>user_id</th>\n",
       "      <th>mb_used</th>\n",
       "    </tr>\n",
       "  </thead>\n",
       "  <tbody>\n",
       "    <tr>\n",
       "      <td>count</td>\n",
       "      <td>104825.000000</td>\n",
       "      <td>104825.000000</td>\n",
       "    </tr>\n",
       "    <tr>\n",
       "      <td>mean</td>\n",
       "      <td>1242.496361</td>\n",
       "      <td>366.713701</td>\n",
       "    </tr>\n",
       "    <tr>\n",
       "      <td>std</td>\n",
       "      <td>142.053913</td>\n",
       "      <td>277.170542</td>\n",
       "    </tr>\n",
       "    <tr>\n",
       "      <td>min</td>\n",
       "      <td>1000.000000</td>\n",
       "      <td>0.000000</td>\n",
       "    </tr>\n",
       "    <tr>\n",
       "      <td>25%</td>\n",
       "      <td>1122.000000</td>\n",
       "      <td>136.080000</td>\n",
       "    </tr>\n",
       "    <tr>\n",
       "      <td>50%</td>\n",
       "      <td>1236.000000</td>\n",
       "      <td>343.980000</td>\n",
       "    </tr>\n",
       "    <tr>\n",
       "      <td>75%</td>\n",
       "      <td>1367.000000</td>\n",
       "      <td>554.610000</td>\n",
       "    </tr>\n",
       "    <tr>\n",
       "      <td>max</td>\n",
       "      <td>1499.000000</td>\n",
       "      <td>1693.470000</td>\n",
       "    </tr>\n",
       "  </tbody>\n",
       "</table>\n",
       "</div>"
      ],
      "text/plain": [
       "             user_id        mb_used\n",
       "count  104825.000000  104825.000000\n",
       "mean     1242.496361     366.713701\n",
       "std       142.053913     277.170542\n",
       "min      1000.000000       0.000000\n",
       "25%      1122.000000     136.080000\n",
       "50%      1236.000000     343.980000\n",
       "75%      1367.000000     554.610000\n",
       "max      1499.000000    1693.470000"
      ]
     },
     "metadata": {},
     "output_type": "display_data"
    },
    {
     "name": "stdout",
     "output_type": "stream",
     "text": [
      "----------------------------------------------------------------------------------------------------\n"
     ]
    },
    {
     "data": {
      "text/html": [
       "<div>\n",
       "<style scoped>\n",
       "    .dataframe tbody tr th:only-of-type {\n",
       "        vertical-align: middle;\n",
       "    }\n",
       "\n",
       "    .dataframe tbody tr th {\n",
       "        vertical-align: top;\n",
       "    }\n",
       "\n",
       "    .dataframe thead th {\n",
       "        text-align: right;\n",
       "    }\n",
       "</style>\n",
       "<table border=\"1\" class=\"dataframe\">\n",
       "  <thead>\n",
       "    <tr style=\"text-align: right;\">\n",
       "      <th></th>\n",
       "      <th>id</th>\n",
       "      <th>session_date</th>\n",
       "    </tr>\n",
       "  </thead>\n",
       "  <tbody>\n",
       "    <tr>\n",
       "      <td>count</td>\n",
       "      <td>104825</td>\n",
       "      <td>104825</td>\n",
       "    </tr>\n",
       "    <tr>\n",
       "      <td>unique</td>\n",
       "      <td>104825</td>\n",
       "      <td>351</td>\n",
       "    </tr>\n",
       "    <tr>\n",
       "      <td>top</td>\n",
       "      <td>1336_422</td>\n",
       "      <td>2018-12-24</td>\n",
       "    </tr>\n",
       "    <tr>\n",
       "      <td>freq</td>\n",
       "      <td>1</td>\n",
       "      <td>851</td>\n",
       "    </tr>\n",
       "  </tbody>\n",
       "</table>\n",
       "</div>"
      ],
      "text/plain": [
       "              id session_date\n",
       "count     104825       104825\n",
       "unique    104825          351\n",
       "top     1336_422   2018-12-24\n",
       "freq           1          851"
      ]
     },
     "metadata": {},
     "output_type": "display_data"
    },
    {
     "name": "stdout",
     "output_type": "stream",
     "text": [
      "\n",
      "Columns with nulls:\n",
      "\n",
      "\u001b[1mThere are no columns with NA.\u001b[0m\n"
     ]
    },
    {
     "data": {
      "text/plain": [
       "None"
      ]
     },
     "metadata": {},
     "output_type": "display_data"
    },
    {
     "name": "stdout",
     "output_type": "stream",
     "text": [
      "----------------------------------------------------------------------------------------------------\n",
      "Shape:\n",
      "(104825, 4)\n",
      "----------------------------------------------------------------------------------------------------\n",
      "Duplicated:\n",
      "\u001b[1mWe have 0 duplicated rows.\n",
      "\u001b[0m\n",
      "\n",
      "General information about the `plans` dataframe\n",
      "\u001b[1m----------------------------------------------------------------------------------------------------\u001b[0m\n",
      "Head:\n",
      "\n"
     ]
    },
    {
     "data": {
      "text/html": [
       "<div>\n",
       "<style scoped>\n",
       "    .dataframe tbody tr th:only-of-type {\n",
       "        vertical-align: middle;\n",
       "    }\n",
       "\n",
       "    .dataframe tbody tr th {\n",
       "        vertical-align: top;\n",
       "    }\n",
       "\n",
       "    .dataframe thead th {\n",
       "        text-align: right;\n",
       "    }\n",
       "</style>\n",
       "<table border=\"1\" class=\"dataframe\">\n",
       "  <thead>\n",
       "    <tr style=\"text-align: right;\">\n",
       "      <th></th>\n",
       "      <th>messages_included</th>\n",
       "      <th>mb_per_month_included</th>\n",
       "      <th>minutes_included</th>\n",
       "      <th>usd_monthly_pay</th>\n",
       "      <th>usd_per_gb</th>\n",
       "      <th>usd_per_message</th>\n",
       "      <th>usd_per_minute</th>\n",
       "      <th>plan_name</th>\n",
       "    </tr>\n",
       "  </thead>\n",
       "  <tbody>\n",
       "    <tr>\n",
       "      <td>0</td>\n",
       "      <td>50</td>\n",
       "      <td>15360</td>\n",
       "      <td>500</td>\n",
       "      <td>20</td>\n",
       "      <td>10</td>\n",
       "      <td>0.03</td>\n",
       "      <td>0.03</td>\n",
       "      <td>surf</td>\n",
       "    </tr>\n",
       "    <tr>\n",
       "      <td>1</td>\n",
       "      <td>1000</td>\n",
       "      <td>30720</td>\n",
       "      <td>3000</td>\n",
       "      <td>70</td>\n",
       "      <td>7</td>\n",
       "      <td>0.01</td>\n",
       "      <td>0.01</td>\n",
       "      <td>ultimate</td>\n",
       "    </tr>\n",
       "  </tbody>\n",
       "</table>\n",
       "</div>"
      ],
      "text/plain": [
       "   messages_included  mb_per_month_included  minutes_included  \\\n",
       "0                 50                  15360               500   \n",
       "1               1000                  30720              3000   \n",
       "\n",
       "   usd_monthly_pay  usd_per_gb  usd_per_message  usd_per_minute plan_name  \n",
       "0               20          10             0.03            0.03      surf  \n",
       "1               70           7             0.01            0.01  ultimate  "
      ]
     },
     "metadata": {},
     "output_type": "display_data"
    },
    {
     "name": "stdout",
     "output_type": "stream",
     "text": [
      "----------------------------------------------------------------------------------------------------\n",
      "Info:\n",
      "\n",
      "<class 'pandas.core.frame.DataFrame'>\n",
      "RangeIndex: 2 entries, 0 to 1\n",
      "Data columns (total 8 columns):\n",
      "messages_included        2 non-null int64\n",
      "mb_per_month_included    2 non-null int64\n",
      "minutes_included         2 non-null int64\n",
      "usd_monthly_pay          2 non-null int64\n",
      "usd_per_gb               2 non-null int64\n",
      "usd_per_message          2 non-null float64\n",
      "usd_per_minute           2 non-null float64\n",
      "plan_name                2 non-null object\n",
      "dtypes: float64(2), int64(5), object(1)\n",
      "memory usage: 256.0+ bytes\n"
     ]
    },
    {
     "data": {
      "text/plain": [
       "None"
      ]
     },
     "metadata": {},
     "output_type": "display_data"
    },
    {
     "name": "stdout",
     "output_type": "stream",
     "text": [
      "----------------------------------------------------------------------------------------------------\n",
      "Describe:\n",
      "\n"
     ]
    },
    {
     "data": {
      "text/html": [
       "<div>\n",
       "<style scoped>\n",
       "    .dataframe tbody tr th:only-of-type {\n",
       "        vertical-align: middle;\n",
       "    }\n",
       "\n",
       "    .dataframe tbody tr th {\n",
       "        vertical-align: top;\n",
       "    }\n",
       "\n",
       "    .dataframe thead th {\n",
       "        text-align: right;\n",
       "    }\n",
       "</style>\n",
       "<table border=\"1\" class=\"dataframe\">\n",
       "  <thead>\n",
       "    <tr style=\"text-align: right;\">\n",
       "      <th></th>\n",
       "      <th>messages_included</th>\n",
       "      <th>mb_per_month_included</th>\n",
       "      <th>minutes_included</th>\n",
       "      <th>usd_monthly_pay</th>\n",
       "      <th>usd_per_gb</th>\n",
       "      <th>usd_per_message</th>\n",
       "      <th>usd_per_minute</th>\n",
       "    </tr>\n",
       "  </thead>\n",
       "  <tbody>\n",
       "    <tr>\n",
       "      <td>count</td>\n",
       "      <td>2.000000</td>\n",
       "      <td>2.000000</td>\n",
       "      <td>2.000000</td>\n",
       "      <td>2.000000</td>\n",
       "      <td>2.00000</td>\n",
       "      <td>2.000000</td>\n",
       "      <td>2.000000</td>\n",
       "    </tr>\n",
       "    <tr>\n",
       "      <td>mean</td>\n",
       "      <td>525.000000</td>\n",
       "      <td>23040.000000</td>\n",
       "      <td>1750.000000</td>\n",
       "      <td>45.000000</td>\n",
       "      <td>8.50000</td>\n",
       "      <td>0.020000</td>\n",
       "      <td>0.020000</td>\n",
       "    </tr>\n",
       "    <tr>\n",
       "      <td>std</td>\n",
       "      <td>671.751442</td>\n",
       "      <td>10861.160159</td>\n",
       "      <td>1767.766953</td>\n",
       "      <td>35.355339</td>\n",
       "      <td>2.12132</td>\n",
       "      <td>0.014142</td>\n",
       "      <td>0.014142</td>\n",
       "    </tr>\n",
       "    <tr>\n",
       "      <td>min</td>\n",
       "      <td>50.000000</td>\n",
       "      <td>15360.000000</td>\n",
       "      <td>500.000000</td>\n",
       "      <td>20.000000</td>\n",
       "      <td>7.00000</td>\n",
       "      <td>0.010000</td>\n",
       "      <td>0.010000</td>\n",
       "    </tr>\n",
       "    <tr>\n",
       "      <td>25%</td>\n",
       "      <td>287.500000</td>\n",
       "      <td>19200.000000</td>\n",
       "      <td>1125.000000</td>\n",
       "      <td>32.500000</td>\n",
       "      <td>7.75000</td>\n",
       "      <td>0.015000</td>\n",
       "      <td>0.015000</td>\n",
       "    </tr>\n",
       "    <tr>\n",
       "      <td>50%</td>\n",
       "      <td>525.000000</td>\n",
       "      <td>23040.000000</td>\n",
       "      <td>1750.000000</td>\n",
       "      <td>45.000000</td>\n",
       "      <td>8.50000</td>\n",
       "      <td>0.020000</td>\n",
       "      <td>0.020000</td>\n",
       "    </tr>\n",
       "    <tr>\n",
       "      <td>75%</td>\n",
       "      <td>762.500000</td>\n",
       "      <td>26880.000000</td>\n",
       "      <td>2375.000000</td>\n",
       "      <td>57.500000</td>\n",
       "      <td>9.25000</td>\n",
       "      <td>0.025000</td>\n",
       "      <td>0.025000</td>\n",
       "    </tr>\n",
       "    <tr>\n",
       "      <td>max</td>\n",
       "      <td>1000.000000</td>\n",
       "      <td>30720.000000</td>\n",
       "      <td>3000.000000</td>\n",
       "      <td>70.000000</td>\n",
       "      <td>10.00000</td>\n",
       "      <td>0.030000</td>\n",
       "      <td>0.030000</td>\n",
       "    </tr>\n",
       "  </tbody>\n",
       "</table>\n",
       "</div>"
      ],
      "text/plain": [
       "       messages_included  mb_per_month_included  minutes_included  \\\n",
       "count           2.000000               2.000000          2.000000   \n",
       "mean          525.000000           23040.000000       1750.000000   \n",
       "std           671.751442           10861.160159       1767.766953   \n",
       "min            50.000000           15360.000000        500.000000   \n",
       "25%           287.500000           19200.000000       1125.000000   \n",
       "50%           525.000000           23040.000000       1750.000000   \n",
       "75%           762.500000           26880.000000       2375.000000   \n",
       "max          1000.000000           30720.000000       3000.000000   \n",
       "\n",
       "       usd_monthly_pay  usd_per_gb  usd_per_message  usd_per_minute  \n",
       "count         2.000000     2.00000         2.000000        2.000000  \n",
       "mean         45.000000     8.50000         0.020000        0.020000  \n",
       "std          35.355339     2.12132         0.014142        0.014142  \n",
       "min          20.000000     7.00000         0.010000        0.010000  \n",
       "25%          32.500000     7.75000         0.015000        0.015000  \n",
       "50%          45.000000     8.50000         0.020000        0.020000  \n",
       "75%          57.500000     9.25000         0.025000        0.025000  \n",
       "max          70.000000    10.00000         0.030000        0.030000  "
      ]
     },
     "metadata": {},
     "output_type": "display_data"
    },
    {
     "name": "stdout",
     "output_type": "stream",
     "text": [
      "----------------------------------------------------------------------------------------------------\n"
     ]
    },
    {
     "data": {
      "text/html": [
       "<div>\n",
       "<style scoped>\n",
       "    .dataframe tbody tr th:only-of-type {\n",
       "        vertical-align: middle;\n",
       "    }\n",
       "\n",
       "    .dataframe tbody tr th {\n",
       "        vertical-align: top;\n",
       "    }\n",
       "\n",
       "    .dataframe thead th {\n",
       "        text-align: right;\n",
       "    }\n",
       "</style>\n",
       "<table border=\"1\" class=\"dataframe\">\n",
       "  <thead>\n",
       "    <tr style=\"text-align: right;\">\n",
       "      <th></th>\n",
       "      <th>plan_name</th>\n",
       "    </tr>\n",
       "  </thead>\n",
       "  <tbody>\n",
       "    <tr>\n",
       "      <td>count</td>\n",
       "      <td>2</td>\n",
       "    </tr>\n",
       "    <tr>\n",
       "      <td>unique</td>\n",
       "      <td>2</td>\n",
       "    </tr>\n",
       "    <tr>\n",
       "      <td>top</td>\n",
       "      <td>surf</td>\n",
       "    </tr>\n",
       "    <tr>\n",
       "      <td>freq</td>\n",
       "      <td>1</td>\n",
       "    </tr>\n",
       "  </tbody>\n",
       "</table>\n",
       "</div>"
      ],
      "text/plain": [
       "       plan_name\n",
       "count          2\n",
       "unique         2\n",
       "top         surf\n",
       "freq           1"
      ]
     },
     "metadata": {},
     "output_type": "display_data"
    },
    {
     "name": "stdout",
     "output_type": "stream",
     "text": [
      "\n",
      "Columns with nulls:\n",
      "\n",
      "\u001b[1mThere are no columns with NA.\u001b[0m\n"
     ]
    },
    {
     "data": {
      "text/plain": [
       "None"
      ]
     },
     "metadata": {},
     "output_type": "display_data"
    },
    {
     "name": "stdout",
     "output_type": "stream",
     "text": [
      "----------------------------------------------------------------------------------------------------\n",
      "Shape:\n",
      "(2, 8)\n",
      "----------------------------------------------------------------------------------------------------\n",
      "Duplicated:\n",
      "\u001b[1mWe have 0 duplicated rows.\n",
      "\u001b[0m\n",
      "\n"
     ]
    }
   ],
   "source": [
    "# study the general information about the dataset \n",
    "print('General information about the `calls` dataframe')\n",
    "get_info(calls)\n",
    "\n",
    "print('General information about the `users` dataframe')\n",
    "get_info(users)\n",
    "\n",
    "print('General information about the `messages` dataframe')\n",
    "get_info(messages)\n",
    "\n",
    "print('General information about the `internet` dataframe')\n",
    "get_info(internet)\n",
    "\n",
    "print('General information about the `plans` dataframe')\n",
    "get_info(plans)"
   ]
  },
  {
   "cell_type": "markdown",
   "metadata": {},
   "source": [
    "### Conclusion"
   ]
  },
  {
   "cell_type": "markdown",
   "metadata": {},
   "source": [
    "From the general information about the dataset, we can see that the dataset contains different data with different datatype. One of the problems identified while looking through the data is that some columns have the wrong datatype. We would need to change datatypes to the right format. For instance, *call_date* in the `calls` dataframe needs to be changed to datetime, *reg_date* and *churn_date* in the `users` need to be changed to datetime, *message_date* in the `messages` needs to be changed to datetime, *session_date* in the `internet` needs to be changed to datetime. We would also need to check for missing values, carry out some data preprocessing, and data type replacement. "
   ]
  },
  {
   "cell_type": "markdown",
   "metadata": {},
   "source": [
    "<div class=\"alert alert-success\">\n",
    "<b>Reviewer's comment</b>\n",
    "<p>Correct!</p>\n",
    "</div>"
   ]
  },
  {
   "cell_type": "markdown",
   "metadata": {},
   "source": [
    "<div id=\"data_preparation\">\n",
    "    <h2>Prepare the data</h2> \n",
    "</div>"
   ]
  },
  {
   "cell_type": "markdown",
   "metadata": {},
   "source": [
    "#### Convert data to the necessary types"
   ]
  },
  {
   "cell_type": "code",
   "execution_count": 339,
   "metadata": {},
   "outputs": [],
   "source": [
    "# apply numpy vectorizing to id\n",
    "get_id = np.vectorize(lambda x: re.sub('.*_', '' ,  x))"
   ]
  },
  {
   "cell_type": "code",
   "execution_count": 340,
   "metadata": {},
   "outputs": [],
   "source": [
    "# change date type to datetime and split into day, month and year\n",
    "def new_date_features(df):\n",
    "    columns = df.columns.tolist()\n",
    "    idx = [columns.index(x) for x in columns if 'date' in x][0]\n",
    "    \n",
    "    df[columns[idx]] = pd.to_datetime(df[columns[idx]])\n",
    "    df['day'] = df[columns[idx]].dt.day_name()\n",
    "    df['month'] = df[columns[idx]].dt.month_name()\n",
    "    df['year'] = df[columns[idx]].dt.year\n",
    "    return df    "
   ]
  },
  {
   "cell_type": "markdown",
   "metadata": {},
   "source": [
    "##### Prepare Call Data"
   ]
  },
  {
   "cell_type": "markdown",
   "metadata": {},
   "source": [
    "From the general information about the `calls` dataframe, we can see that there is no null values in the dataframe. We proceed to convert datatypes in the `calls` dataframe. By inspecting the `calls` data, we identified another problem with the data. Some data in the `duration` column has values greater than 0 but less than 1 minutes. For such values, we would be rounding up `duration` less than 1 minutes to 1 minutes."
   ]
  },
  {
   "cell_type": "code",
   "execution_count": 341,
   "metadata": {},
   "outputs": [
    {
     "data": {
      "text/html": [
       "<div>\n",
       "<style scoped>\n",
       "    .dataframe tbody tr th:only-of-type {\n",
       "        vertical-align: middle;\n",
       "    }\n",
       "\n",
       "    .dataframe tbody tr th {\n",
       "        vertical-align: top;\n",
       "    }\n",
       "\n",
       "    .dataframe thead th {\n",
       "        text-align: right;\n",
       "    }\n",
       "</style>\n",
       "<table border=\"1\" class=\"dataframe\">\n",
       "  <thead>\n",
       "    <tr style=\"text-align: right;\">\n",
       "      <th></th>\n",
       "      <th>id</th>\n",
       "      <th>user_id</th>\n",
       "      <th>call_date</th>\n",
       "      <th>duration</th>\n",
       "      <th>day</th>\n",
       "      <th>month</th>\n",
       "      <th>year</th>\n",
       "      <th>call type</th>\n",
       "    </tr>\n",
       "  </thead>\n",
       "  <tbody>\n",
       "    <tr>\n",
       "      <td>0</td>\n",
       "      <td>93</td>\n",
       "      <td>1000</td>\n",
       "      <td>2018-12-27</td>\n",
       "      <td>8.52</td>\n",
       "      <td>Thursday</td>\n",
       "      <td>December</td>\n",
       "      <td>2018</td>\n",
       "      <td>Connected call</td>\n",
       "    </tr>\n",
       "    <tr>\n",
       "      <td>1</td>\n",
       "      <td>145</td>\n",
       "      <td>1000</td>\n",
       "      <td>2018-12-27</td>\n",
       "      <td>13.66</td>\n",
       "      <td>Thursday</td>\n",
       "      <td>December</td>\n",
       "      <td>2018</td>\n",
       "      <td>Connected call</td>\n",
       "    </tr>\n",
       "    <tr>\n",
       "      <td>2</td>\n",
       "      <td>247</td>\n",
       "      <td>1000</td>\n",
       "      <td>2018-12-27</td>\n",
       "      <td>14.48</td>\n",
       "      <td>Thursday</td>\n",
       "      <td>December</td>\n",
       "      <td>2018</td>\n",
       "      <td>Connected call</td>\n",
       "    </tr>\n",
       "    <tr>\n",
       "      <td>3</td>\n",
       "      <td>309</td>\n",
       "      <td>1000</td>\n",
       "      <td>2018-12-28</td>\n",
       "      <td>5.76</td>\n",
       "      <td>Friday</td>\n",
       "      <td>December</td>\n",
       "      <td>2018</td>\n",
       "      <td>Connected call</td>\n",
       "    </tr>\n",
       "    <tr>\n",
       "      <td>4</td>\n",
       "      <td>380</td>\n",
       "      <td>1000</td>\n",
       "      <td>2018-12-30</td>\n",
       "      <td>4.22</td>\n",
       "      <td>Sunday</td>\n",
       "      <td>December</td>\n",
       "      <td>2018</td>\n",
       "      <td>Connected call</td>\n",
       "    </tr>\n",
       "  </tbody>\n",
       "</table>\n",
       "</div>"
      ],
      "text/plain": [
       "    id  user_id  call_date  duration       day     month  year       call type\n",
       "0   93     1000 2018-12-27      8.52  Thursday  December  2018  Connected call\n",
       "1  145     1000 2018-12-27     13.66  Thursday  December  2018  Connected call\n",
       "2  247     1000 2018-12-27     14.48  Thursday  December  2018  Connected call\n",
       "3  309     1000 2018-12-28      5.76    Friday  December  2018  Connected call\n",
       "4  380     1000 2018-12-30      4.22    Sunday  December  2018  Connected call"
      ]
     },
     "execution_count": 341,
     "metadata": {},
     "output_type": "execute_result"
    }
   ],
   "source": [
    "# change the `calls_date` to datetime datatype\n",
    "calls['call_date'] = pd.to_datetime(calls['call_date'], format='%Y-%m-%d %H:%M:%S', errors='raise')\n",
    "calls['id'] = get_id(calls['id'])\n",
    "calls = new_date_features(calls)\n",
    "calls['call type'] = np.where(calls['duration'] == 0, 'Missed call', 'Connected call')\n",
    "calls.head()"
   ]
  },
  {
   "cell_type": "code",
   "execution_count": 342,
   "metadata": {},
   "outputs": [
    {
     "data": {
      "text/html": [
       "<div>\n",
       "<style scoped>\n",
       "    .dataframe tbody tr th:only-of-type {\n",
       "        vertical-align: middle;\n",
       "    }\n",
       "\n",
       "    .dataframe tbody tr th {\n",
       "        vertical-align: top;\n",
       "    }\n",
       "\n",
       "    .dataframe thead th {\n",
       "        text-align: right;\n",
       "    }\n",
       "</style>\n",
       "<table border=\"1\" class=\"dataframe\">\n",
       "  <thead>\n",
       "    <tr style=\"text-align: right;\">\n",
       "      <th></th>\n",
       "      <th>id</th>\n",
       "      <th>user</th>\n",
       "      <th>call date</th>\n",
       "      <th>duration</th>\n",
       "      <th>day</th>\n",
       "      <th>month</th>\n",
       "      <th>year</th>\n",
       "      <th>call type</th>\n",
       "    </tr>\n",
       "  </thead>\n",
       "  <tbody>\n",
       "    <tr>\n",
       "      <td>0</td>\n",
       "      <td>93</td>\n",
       "      <td>1000</td>\n",
       "      <td>2018-12-27</td>\n",
       "      <td>9</td>\n",
       "      <td>Thursday</td>\n",
       "      <td>December</td>\n",
       "      <td>2018</td>\n",
       "      <td>Connected call</td>\n",
       "    </tr>\n",
       "    <tr>\n",
       "      <td>1</td>\n",
       "      <td>145</td>\n",
       "      <td>1000</td>\n",
       "      <td>2018-12-27</td>\n",
       "      <td>14</td>\n",
       "      <td>Thursday</td>\n",
       "      <td>December</td>\n",
       "      <td>2018</td>\n",
       "      <td>Connected call</td>\n",
       "    </tr>\n",
       "    <tr>\n",
       "      <td>2</td>\n",
       "      <td>247</td>\n",
       "      <td>1000</td>\n",
       "      <td>2018-12-27</td>\n",
       "      <td>15</td>\n",
       "      <td>Thursday</td>\n",
       "      <td>December</td>\n",
       "      <td>2018</td>\n",
       "      <td>Connected call</td>\n",
       "    </tr>\n",
       "    <tr>\n",
       "      <td>3</td>\n",
       "      <td>309</td>\n",
       "      <td>1000</td>\n",
       "      <td>2018-12-28</td>\n",
       "      <td>6</td>\n",
       "      <td>Friday</td>\n",
       "      <td>December</td>\n",
       "      <td>2018</td>\n",
       "      <td>Connected call</td>\n",
       "    </tr>\n",
       "    <tr>\n",
       "      <td>4</td>\n",
       "      <td>380</td>\n",
       "      <td>1000</td>\n",
       "      <td>2018-12-30</td>\n",
       "      <td>5</td>\n",
       "      <td>Sunday</td>\n",
       "      <td>December</td>\n",
       "      <td>2018</td>\n",
       "      <td>Connected call</td>\n",
       "    </tr>\n",
       "  </tbody>\n",
       "</table>\n",
       "</div>"
      ],
      "text/plain": [
       "    id  user  call date  duration       day     month  year       call type\n",
       "0   93  1000 2018-12-27         9  Thursday  December  2018  Connected call\n",
       "1  145  1000 2018-12-27        14  Thursday  December  2018  Connected call\n",
       "2  247  1000 2018-12-27        15  Thursday  December  2018  Connected call\n",
       "3  309  1000 2018-12-28         6    Friday  December  2018  Connected call\n",
       "4  380  1000 2018-12-30         5    Sunday  December  2018  Connected call"
      ]
     },
     "execution_count": 342,
     "metadata": {},
     "output_type": "execute_result"
    }
   ],
   "source": [
    "# check and round all call duration\n",
    "calls['duration'] = (\n",
    "    calls['duration'].apply(np.ceil).astype('int64')\n",
    ")\n",
    "\n",
    "# rename columns\n",
    "calls.columns = ['id', 'user', 'call date', 'duration', 'day', 'month', 'year', 'call type']\n",
    "calls.head() "
   ]
  },
  {
   "cell_type": "markdown",
   "metadata": {},
   "source": [
    "<div class=\"alert alert-danger\">\n",
    "<b>Reviewer's comment</b>\n",
    "<p>Call duration should be rounded up for all calls, not only the 1s ones. From project description: \"For calls, <b>each individual call</b> is rounded up: even if the call lasted just one second, it will be counted as one minute\".</p>\n",
    "Also, the calls that lasted 0s should *not* be rounded up to 1: these are missed calls and they are not charged. \n",
    "</div>\n"
   ]
  },
  {
   "cell_type": "markdown",
   "metadata": {},
   "source": [
    "<div class=\"alert alert-info\">\n",
    "<b>Student's comment</b>\n",
    "<p>Done!!!</p>\n",
    "</div>\n"
   ]
  },
  {
   "cell_type": "markdown",
   "metadata": {},
   "source": [
    "##### Prepare User Data"
   ]
  },
  {
   "cell_type": "markdown",
   "metadata": {},
   "source": [
    "We look at the `user` dataframe by checking for null values and change datatype in this dataframe. Another error we noticed is in the `churn_date` column where 466 values is missing. This large portion of missing values in the `churn_date` field will be transformed into either churn ='Yes' or no churn = 'No', thus it can be analyzed as a categorical variable."
   ]
  },
  {
   "cell_type": "code",
   "execution_count": 343,
   "metadata": {},
   "outputs": [
    {
     "data": {
      "text/plain": [
       "user_id         0\n",
       "first_name      0\n",
       "last_name       0\n",
       "age             0\n",
       "city            0\n",
       "reg_date        0\n",
       "tariff          0\n",
       "churn_date    466\n",
       "dtype: int64"
      ]
     },
     "execution_count": 343,
     "metadata": {},
     "output_type": "execute_result"
    }
   ],
   "source": [
    "# check for null values\n",
    "users.isna().sum()"
   ]
  },
  {
   "cell_type": "code",
   "execution_count": 344,
   "metadata": {},
   "outputs": [
    {
     "data": {
      "text/html": [
       "<div>\n",
       "<style scoped>\n",
       "    .dataframe tbody tr th:only-of-type {\n",
       "        vertical-align: middle;\n",
       "    }\n",
       "\n",
       "    .dataframe tbody tr th {\n",
       "        vertical-align: top;\n",
       "    }\n",
       "\n",
       "    .dataframe thead th {\n",
       "        text-align: right;\n",
       "    }\n",
       "</style>\n",
       "<table border=\"1\" class=\"dataframe\">\n",
       "  <thead>\n",
       "    <tr style=\"text-align: right;\">\n",
       "      <th></th>\n",
       "      <th>user</th>\n",
       "      <th>first name</th>\n",
       "      <th>last name</th>\n",
       "      <th>age</th>\n",
       "      <th>city</th>\n",
       "      <th>subscription date</th>\n",
       "      <th>plan</th>\n",
       "      <th>churn date</th>\n",
       "      <th>customer churn</th>\n",
       "    </tr>\n",
       "  </thead>\n",
       "  <tbody>\n",
       "    <tr>\n",
       "      <td>0</td>\n",
       "      <td>1000</td>\n",
       "      <td>Anamaria</td>\n",
       "      <td>Bauer</td>\n",
       "      <td>45</td>\n",
       "      <td>Atlanta-Sandy Springs-Roswell, GA MSA</td>\n",
       "      <td>2018-12-24</td>\n",
       "      <td>ultimate</td>\n",
       "      <td>NaT</td>\n",
       "      <td>No</td>\n",
       "    </tr>\n",
       "    <tr>\n",
       "      <td>1</td>\n",
       "      <td>1001</td>\n",
       "      <td>Mickey</td>\n",
       "      <td>Wilkerson</td>\n",
       "      <td>28</td>\n",
       "      <td>Seattle-Tacoma-Bellevue, WA MSA</td>\n",
       "      <td>2018-08-13</td>\n",
       "      <td>surf</td>\n",
       "      <td>NaT</td>\n",
       "      <td>No</td>\n",
       "    </tr>\n",
       "    <tr>\n",
       "      <td>2</td>\n",
       "      <td>1002</td>\n",
       "      <td>Carlee</td>\n",
       "      <td>Hoffman</td>\n",
       "      <td>36</td>\n",
       "      <td>Las Vegas-Henderson-Paradise, NV MSA</td>\n",
       "      <td>2018-10-21</td>\n",
       "      <td>surf</td>\n",
       "      <td>NaT</td>\n",
       "      <td>No</td>\n",
       "    </tr>\n",
       "    <tr>\n",
       "      <td>3</td>\n",
       "      <td>1003</td>\n",
       "      <td>Reynaldo</td>\n",
       "      <td>Jenkins</td>\n",
       "      <td>52</td>\n",
       "      <td>Tulsa, OK MSA</td>\n",
       "      <td>2018-01-28</td>\n",
       "      <td>surf</td>\n",
       "      <td>NaT</td>\n",
       "      <td>No</td>\n",
       "    </tr>\n",
       "    <tr>\n",
       "      <td>4</td>\n",
       "      <td>1004</td>\n",
       "      <td>Leonila</td>\n",
       "      <td>Thompson</td>\n",
       "      <td>40</td>\n",
       "      <td>Seattle-Tacoma-Bellevue, WA MSA</td>\n",
       "      <td>2018-05-23</td>\n",
       "      <td>surf</td>\n",
       "      <td>NaT</td>\n",
       "      <td>No</td>\n",
       "    </tr>\n",
       "  </tbody>\n",
       "</table>\n",
       "</div>"
      ],
      "text/plain": [
       "   user first name  last name  age                                   city  \\\n",
       "0  1000   Anamaria      Bauer   45  Atlanta-Sandy Springs-Roswell, GA MSA   \n",
       "1  1001     Mickey  Wilkerson   28        Seattle-Tacoma-Bellevue, WA MSA   \n",
       "2  1002     Carlee    Hoffman   36   Las Vegas-Henderson-Paradise, NV MSA   \n",
       "3  1003   Reynaldo    Jenkins   52                          Tulsa, OK MSA   \n",
       "4  1004    Leonila   Thompson   40        Seattle-Tacoma-Bellevue, WA MSA   \n",
       "\n",
       "  subscription date      plan churn date customer churn  \n",
       "0        2018-12-24  ultimate        NaT             No  \n",
       "1        2018-08-13      surf        NaT             No  \n",
       "2        2018-10-21      surf        NaT             No  \n",
       "3        2018-01-28      surf        NaT             No  \n",
       "4        2018-05-23      surf        NaT             No  "
      ]
     },
     "execution_count": 344,
     "metadata": {},
     "output_type": "execute_result"
    }
   ],
   "source": [
    "# change the `reg_date` in the `users` to datetime\n",
    "users['reg_date'] = pd.to_datetime(users['reg_date'], format='%Y-%m-%d %H:%M:%S', errors='raise')\n",
    "\n",
    "# change the `churn date` to datetime\n",
    "users['churn_date'] = pd.to_datetime(users['churn_date'], format='%Y-%m-%d %H:%M:%S', errors='raise')\n",
    "users.columns = ['user', 'first name', 'last name', 'age', 'city', 'subscription date', 'plan', 'churn date']\n",
    "\n",
    "# create categorical variable for whether customer churn or not\n",
    "users['customer churn'] = np.where(users['churn date'].isnull(), 'No', 'Yes')\n",
    "users.head() "
   ]
  },
  {
   "cell_type": "markdown",
   "metadata": {},
   "source": [
    "<div class=\"alert alert-warning\">\n",
    "<b>Reviewer's comment</b>\n",
    "    <p>For customers who didn't terminate the plan, you can set December 31st, 2018 as churn date, because we only consider 2018 in this project. Make sure that you don't count the revenue before registration or after churn date - there may be errors in data!</p>\n",
    "</div>\n"
   ]
  },
  {
   "cell_type": "markdown",
   "metadata": {},
   "source": [
    "We look at the `messages`, `internet` and `plans`. We need to change datatype to datetime, and rename the columns."
   ]
  },
  {
   "cell_type": "markdown",
   "metadata": {},
   "source": [
    "##### Prepare Message Data"
   ]
  },
  {
   "cell_type": "code",
   "execution_count": 345,
   "metadata": {},
   "outputs": [
    {
     "data": {
      "text/html": [
       "<div>\n",
       "<style scoped>\n",
       "    .dataframe tbody tr th:only-of-type {\n",
       "        vertical-align: middle;\n",
       "    }\n",
       "\n",
       "    .dataframe tbody tr th {\n",
       "        vertical-align: top;\n",
       "    }\n",
       "\n",
       "    .dataframe thead th {\n",
       "        text-align: right;\n",
       "    }\n",
       "</style>\n",
       "<table border=\"1\" class=\"dataframe\">\n",
       "  <thead>\n",
       "    <tr style=\"text-align: right;\">\n",
       "      <th></th>\n",
       "      <th>id</th>\n",
       "      <th>user</th>\n",
       "      <th>message date</th>\n",
       "      <th>day</th>\n",
       "      <th>month</th>\n",
       "      <th>year</th>\n",
       "    </tr>\n",
       "  </thead>\n",
       "  <tbody>\n",
       "    <tr>\n",
       "      <td>0</td>\n",
       "      <td>125</td>\n",
       "      <td>1000</td>\n",
       "      <td>2018-12-27</td>\n",
       "      <td>Thursday</td>\n",
       "      <td>December</td>\n",
       "      <td>2018</td>\n",
       "    </tr>\n",
       "    <tr>\n",
       "      <td>1</td>\n",
       "      <td>160</td>\n",
       "      <td>1000</td>\n",
       "      <td>2018-12-31</td>\n",
       "      <td>Monday</td>\n",
       "      <td>December</td>\n",
       "      <td>2018</td>\n",
       "    </tr>\n",
       "    <tr>\n",
       "      <td>2</td>\n",
       "      <td>223</td>\n",
       "      <td>1000</td>\n",
       "      <td>2018-12-31</td>\n",
       "      <td>Monday</td>\n",
       "      <td>December</td>\n",
       "      <td>2018</td>\n",
       "    </tr>\n",
       "    <tr>\n",
       "      <td>3</td>\n",
       "      <td>251</td>\n",
       "      <td>1000</td>\n",
       "      <td>2018-12-27</td>\n",
       "      <td>Thursday</td>\n",
       "      <td>December</td>\n",
       "      <td>2018</td>\n",
       "    </tr>\n",
       "    <tr>\n",
       "      <td>4</td>\n",
       "      <td>255</td>\n",
       "      <td>1000</td>\n",
       "      <td>2018-12-26</td>\n",
       "      <td>Wednesday</td>\n",
       "      <td>December</td>\n",
       "      <td>2018</td>\n",
       "    </tr>\n",
       "  </tbody>\n",
       "</table>\n",
       "</div>"
      ],
      "text/plain": [
       "    id  user message date        day     month  year\n",
       "0  125  1000   2018-12-27   Thursday  December  2018\n",
       "1  160  1000   2018-12-31     Monday  December  2018\n",
       "2  223  1000   2018-12-31     Monday  December  2018\n",
       "3  251  1000   2018-12-27   Thursday  December  2018\n",
       "4  255  1000   2018-12-26  Wednesday  December  2018"
      ]
     },
     "execution_count": 345,
     "metadata": {},
     "output_type": "execute_result"
    }
   ],
   "source": [
    "# change the `message_date` in the `messages` to datetime\n",
    "#messages['message_date'] = pd.to_datetime(messages['message_date'], format='%Y-%m-%d %H:%M:%S', errors='raise')\n",
    "messages['id'] = get_id(messages['id'])\n",
    "messages = new_date_features(messages)\n",
    "messages.columns = ['id', 'user', 'message date', 'day', 'month', 'year']\n",
    "messages.head()"
   ]
  },
  {
   "cell_type": "markdown",
   "metadata": {},
   "source": [
    "##### Prepare Internet Data"
   ]
  },
  {
   "cell_type": "code",
   "execution_count": 346,
   "metadata": {},
   "outputs": [
    {
     "data": {
      "text/html": [
       "<div>\n",
       "<style scoped>\n",
       "    .dataframe tbody tr th:only-of-type {\n",
       "        vertical-align: middle;\n",
       "    }\n",
       "\n",
       "    .dataframe tbody tr th {\n",
       "        vertical-align: top;\n",
       "    }\n",
       "\n",
       "    .dataframe thead th {\n",
       "        text-align: right;\n",
       "    }\n",
       "</style>\n",
       "<table border=\"1\" class=\"dataframe\">\n",
       "  <thead>\n",
       "    <tr style=\"text-align: right;\">\n",
       "      <th></th>\n",
       "      <th>id</th>\n",
       "      <th>user</th>\n",
       "      <th>session date</th>\n",
       "      <th>data used</th>\n",
       "      <th>day</th>\n",
       "      <th>month</th>\n",
       "      <th>year</th>\n",
       "    </tr>\n",
       "  </thead>\n",
       "  <tbody>\n",
       "    <tr>\n",
       "      <td>0</td>\n",
       "      <td>13</td>\n",
       "      <td>1000</td>\n",
       "      <td>2018-12-29</td>\n",
       "      <td>89.86</td>\n",
       "      <td>Saturday</td>\n",
       "      <td>December</td>\n",
       "      <td>2018</td>\n",
       "    </tr>\n",
       "    <tr>\n",
       "      <td>1</td>\n",
       "      <td>204</td>\n",
       "      <td>1000</td>\n",
       "      <td>2018-12-31</td>\n",
       "      <td>0.00</td>\n",
       "      <td>Monday</td>\n",
       "      <td>December</td>\n",
       "      <td>2018</td>\n",
       "    </tr>\n",
       "    <tr>\n",
       "      <td>2</td>\n",
       "      <td>379</td>\n",
       "      <td>1000</td>\n",
       "      <td>2018-12-28</td>\n",
       "      <td>660.40</td>\n",
       "      <td>Friday</td>\n",
       "      <td>December</td>\n",
       "      <td>2018</td>\n",
       "    </tr>\n",
       "    <tr>\n",
       "      <td>3</td>\n",
       "      <td>413</td>\n",
       "      <td>1000</td>\n",
       "      <td>2018-12-26</td>\n",
       "      <td>270.99</td>\n",
       "      <td>Wednesday</td>\n",
       "      <td>December</td>\n",
       "      <td>2018</td>\n",
       "    </tr>\n",
       "    <tr>\n",
       "      <td>4</td>\n",
       "      <td>442</td>\n",
       "      <td>1000</td>\n",
       "      <td>2018-12-27</td>\n",
       "      <td>880.22</td>\n",
       "      <td>Thursday</td>\n",
       "      <td>December</td>\n",
       "      <td>2018</td>\n",
       "    </tr>\n",
       "  </tbody>\n",
       "</table>\n",
       "</div>"
      ],
      "text/plain": [
       "    id  user session date  data used        day     month  year\n",
       "0   13  1000   2018-12-29      89.86   Saturday  December  2018\n",
       "1  204  1000   2018-12-31       0.00     Monday  December  2018\n",
       "2  379  1000   2018-12-28     660.40     Friday  December  2018\n",
       "3  413  1000   2018-12-26     270.99  Wednesday  December  2018\n",
       "4  442  1000   2018-12-27     880.22   Thursday  December  2018"
      ]
     },
     "execution_count": 346,
     "metadata": {},
     "output_type": "execute_result"
    }
   ],
   "source": [
    "# change the `session_date` in `internet` to datetime\n",
    "internet['session_date'] = pd.to_datetime(internet['session_date'], format='%Y-%m-%d %H:%M:%S', errors='raise')\n",
    "internet['id'] = get_id(internet['id'])\n",
    "internet = new_date_features(internet)\n",
    "internet.columns = ['id', 'user', 'session date', 'data used', 'day', 'month', 'year'] # rename columns\n",
    "internet.head()"
   ]
  },
  {
   "cell_type": "code",
   "execution_count": 347,
   "metadata": {},
   "outputs": [
    {
     "data": {
      "text/html": [
       "<div>\n",
       "<style scoped>\n",
       "    .dataframe tbody tr th:only-of-type {\n",
       "        vertical-align: middle;\n",
       "    }\n",
       "\n",
       "    .dataframe tbody tr th {\n",
       "        vertical-align: top;\n",
       "    }\n",
       "\n",
       "    .dataframe thead th {\n",
       "        text-align: right;\n",
       "    }\n",
       "</style>\n",
       "<table border=\"1\" class=\"dataframe\">\n",
       "  <thead>\n",
       "    <tr style=\"text-align: right;\">\n",
       "      <th></th>\n",
       "      <th>messages included</th>\n",
       "      <th>data volume per month</th>\n",
       "      <th>minutes included</th>\n",
       "      <th>monthly fee</th>\n",
       "      <th>price per gb</th>\n",
       "      <th>price per message</th>\n",
       "      <th>price per minute</th>\n",
       "      <th>plan</th>\n",
       "    </tr>\n",
       "  </thead>\n",
       "  <tbody>\n",
       "    <tr>\n",
       "      <td>0</td>\n",
       "      <td>50</td>\n",
       "      <td>15360</td>\n",
       "      <td>500</td>\n",
       "      <td>20</td>\n",
       "      <td>10</td>\n",
       "      <td>0.03</td>\n",
       "      <td>0.03</td>\n",
       "      <td>surf</td>\n",
       "    </tr>\n",
       "    <tr>\n",
       "      <td>1</td>\n",
       "      <td>1000</td>\n",
       "      <td>30720</td>\n",
       "      <td>3000</td>\n",
       "      <td>70</td>\n",
       "      <td>7</td>\n",
       "      <td>0.01</td>\n",
       "      <td>0.01</td>\n",
       "      <td>ultimate</td>\n",
       "    </tr>\n",
       "  </tbody>\n",
       "</table>\n",
       "</div>"
      ],
      "text/plain": [
       "   messages included  data volume per month  minutes included  monthly fee  \\\n",
       "0                 50                  15360               500           20   \n",
       "1               1000                  30720              3000           70   \n",
       "\n",
       "   price per gb  price per message  price per minute      plan  \n",
       "0            10               0.03              0.03      surf  \n",
       "1             7               0.01              0.01  ultimate  "
      ]
     },
     "execution_count": 347,
     "metadata": {},
     "output_type": "execute_result"
    }
   ],
   "source": [
    "# rename `plans` columns\n",
    "plans.columns = ['messages included', 'data volume per month', 'minutes included', 'monthly fee', 'price per gb', 'price per message', 'price per minute', 'plan']\n",
    "plans.head()"
   ]
  },
  {
   "cell_type": "markdown",
   "metadata": {},
   "source": [
    "#### Conclusion"
   ]
  },
  {
   "cell_type": "markdown",
   "metadata": {},
   "source": [
    "We identified the problem with the datatype in earlier section. In this section, we fixed some of the problems identifies. One of the problems identified in the dataset is that the *subscription date*, *churn date* in the `users` dataframe, *call date* in the `calls` dataframe, *message date* in the `messages` dataframe, and *session date* in the `internet` dataframe are of datatype object. We converted this datatype to datetime datatype. We also rounded up each individual calls. In addition, we created a new column in the `users` dataframe to show whether a customer churn or not."
   ]
  },
  {
   "cell_type": "markdown",
   "metadata": {},
   "source": [
    "#### Make calculations"
   ]
  },
  {
   "cell_type": "markdown",
   "metadata": {},
   "source": [
    "Using the new dataframe we now have, we can find for each user:\n",
    "- The number of calls made and minutes used per month\n",
    "- The number of text messages sent per month\n",
    "- The volume of data per month\n",
    "- The monthly revenue from each user (subtract the free package limit from the total number of calls, text messages, and data; multiply the result by the calling plan value; add the monthly charge depending on the calling plan)"
   ]
  },
  {
   "cell_type": "code",
   "execution_count": 348,
   "metadata": {},
   "outputs": [
    {
     "name": "stdout",
     "output_type": "stream",
     "text": [
      "481\n",
      "500\n",
      "402\n",
      "489\n"
     ]
    }
   ],
   "source": [
    "# check if all users are accounted for in other tables\n",
    "print(calls['user'].nunique())\n",
    "print(users['user'].nunique())\n",
    "print(messages['user'].nunique())\n",
    "print(internet['user'].nunique())"
   ]
  },
  {
   "cell_type": "code",
   "execution_count": 349,
   "metadata": {},
   "outputs": [],
   "source": [
    "# function to display tables side by side for analysis\n",
    "from IPython.display import display_html\n",
    "from itertools import chain,cycle\n",
    "def display_side_by_side(*args,titles=cycle([''])):\n",
    "    html_str=''\n",
    "    for df,title in zip(args, chain(titles,cycle(['</br>'])) ):\n",
    "        html_str+='<th style=\"text-align:center\"><td style=\"vertical-align:top\">'\n",
    "        html_str+=f'<h6>{title}</h6>'\n",
    "        html_str+=df.to_html().replace('table','table style=\"display:inline\"')\n",
    "        html_str+='</td></th>'\n",
    "    display_html(html_str,raw=True)"
   ]
  },
  {
   "cell_type": "code",
   "execution_count": 350,
   "metadata": {},
   "outputs": [
    {
     "data": {
      "text/html": [
       "<th style=\"text-align:center\"><td style=\"vertical-align:top\"><h6>Head of calls per month</h6><table style=\"display:inline\" border=\"1\" class=\"dataframe\">\n",
       "  <thead>\n",
       "    <tr style=\"text-align: right;\">\n",
       "      <th></th>\n",
       "      <th></th>\n",
       "      <th>calls made</th>\n",
       "    </tr>\n",
       "    <tr>\n",
       "      <th>user</th>\n",
       "      <th>month</th>\n",
       "      <th></th>\n",
       "    </tr>\n",
       "  </thead>\n",
       "  <tbody>\n",
       "    <tr>\n",
       "      <th>1000</th>\n",
       "      <th>December</th>\n",
       "      <td>16</td>\n",
       "    </tr>\n",
       "    <tr>\n",
       "      <th rowspan=\"4\" valign=\"top\">1001</th>\n",
       "      <th>August</th>\n",
       "      <td>27</td>\n",
       "    </tr>\n",
       "    <tr>\n",
       "      <th>December</th>\n",
       "      <td>56</td>\n",
       "    </tr>\n",
       "    <tr>\n",
       "      <th>November</th>\n",
       "      <td>64</td>\n",
       "    </tr>\n",
       "    <tr>\n",
       "      <th>October</th>\n",
       "      <td>65</td>\n",
       "    </tr>\n",
       "  </tbody>\n",
       "</table style=\"display:inline\"></td></th><th style=\"text-align:center\"><td style=\"vertical-align:top\"><h6>Describe calls per month</h6><table style=\"display:inline\" border=\"1\" class=\"dataframe\">\n",
       "  <thead>\n",
       "    <tr style=\"text-align: right;\">\n",
       "      <th></th>\n",
       "      <th>calls made</th>\n",
       "    </tr>\n",
       "  </thead>\n",
       "  <tbody>\n",
       "    <tr>\n",
       "      <th>count</th>\n",
       "      <td>2258.000000</td>\n",
       "    </tr>\n",
       "    <tr>\n",
       "      <th>mean</th>\n",
       "      <td>60.998671</td>\n",
       "    </tr>\n",
       "    <tr>\n",
       "      <th>std</th>\n",
       "      <td>31.770869</td>\n",
       "    </tr>\n",
       "    <tr>\n",
       "      <th>min</th>\n",
       "      <td>1.000000</td>\n",
       "    </tr>\n",
       "    <tr>\n",
       "      <th>25%</th>\n",
       "      <td>39.000000</td>\n",
       "    </tr>\n",
       "    <tr>\n",
       "      <th>50%</th>\n",
       "      <td>60.000000</td>\n",
       "    </tr>\n",
       "    <tr>\n",
       "      <th>75%</th>\n",
       "      <td>80.000000</td>\n",
       "    </tr>\n",
       "    <tr>\n",
       "      <th>max</th>\n",
       "      <td>205.000000</td>\n",
       "    </tr>\n",
       "  </tbody>\n",
       "</table style=\"display:inline\"></td></th>"
      ]
     },
     "metadata": {},
     "output_type": "display_data"
    },
    {
     "data": {
      "text/html": [
       "<th style=\"text-align:center\"><td style=\"vertical-align:top\"><h6>Head of minutes per month</h6><table style=\"display:inline\" border=\"1\" class=\"dataframe\">\n",
       "  <thead>\n",
       "    <tr style=\"text-align: right;\">\n",
       "      <th></th>\n",
       "      <th></th>\n",
       "      <th>minutes spent</th>\n",
       "    </tr>\n",
       "    <tr>\n",
       "      <th>user</th>\n",
       "      <th>month</th>\n",
       "      <th></th>\n",
       "    </tr>\n",
       "  </thead>\n",
       "  <tbody>\n",
       "    <tr>\n",
       "      <th>1000</th>\n",
       "      <th>December</th>\n",
       "      <td>124</td>\n",
       "    </tr>\n",
       "    <tr>\n",
       "      <th rowspan=\"4\" valign=\"top\">1001</th>\n",
       "      <th>August</th>\n",
       "      <td>182</td>\n",
       "    </tr>\n",
       "    <tr>\n",
       "      <th>December</th>\n",
       "      <td>412</td>\n",
       "    </tr>\n",
       "    <tr>\n",
       "      <th>November</th>\n",
       "      <td>426</td>\n",
       "    </tr>\n",
       "    <tr>\n",
       "      <th>October</th>\n",
       "      <td>393</td>\n",
       "    </tr>\n",
       "  </tbody>\n",
       "</table style=\"display:inline\"></td></th><th style=\"text-align:center\"><td style=\"vertical-align:top\"><h6>Describe minutes per month</h6><table style=\"display:inline\" border=\"1\" class=\"dataframe\">\n",
       "  <thead>\n",
       "    <tr style=\"text-align: right;\">\n",
       "      <th></th>\n",
       "      <th>minutes spent</th>\n",
       "    </tr>\n",
       "  </thead>\n",
       "  <tbody>\n",
       "    <tr>\n",
       "      <th>count</th>\n",
       "      <td>2258.000000</td>\n",
       "    </tr>\n",
       "    <tr>\n",
       "      <th>mean</th>\n",
       "      <td>435.937555</td>\n",
       "    </tr>\n",
       "    <tr>\n",
       "      <th>std</th>\n",
       "      <td>231.972343</td>\n",
       "    </tr>\n",
       "    <tr>\n",
       "      <th>min</th>\n",
       "      <td>0.000000</td>\n",
       "    </tr>\n",
       "    <tr>\n",
       "      <th>25%</th>\n",
       "      <td>275.000000</td>\n",
       "    </tr>\n",
       "    <tr>\n",
       "      <th>50%</th>\n",
       "      <td>429.000000</td>\n",
       "    </tr>\n",
       "    <tr>\n",
       "      <th>75%</th>\n",
       "      <td>574.750000</td>\n",
       "    </tr>\n",
       "    <tr>\n",
       "      <th>max</th>\n",
       "      <td>1510.000000</td>\n",
       "    </tr>\n",
       "  </tbody>\n",
       "</table style=\"display:inline\"></td></th>"
      ]
     },
     "metadata": {},
     "output_type": "display_data"
    }
   ],
   "source": [
    "# calls per user per month\n",
    "calls_per_month = calls.groupby(['user', 'month']).agg({'id': 'count'}).rename(columns={'id': 'calls made'})#.reset_index()\n",
    "display_side_by_side(calls_per_month.head(), calls_per_month.describe(), titles=[\n",
    "    'Head of calls per month', 'Describe calls per month'])\n",
    "\n",
    "# minutes per user per month\n",
    "mins_per_month = calls.groupby(['user', 'month']).agg({'duration': 'sum'}).rename(columns={'duration': 'minutes spent'})\n",
    "display_side_by_side(mins_per_month.head(), mins_per_month.describe(), titles=[\n",
    "    'Head of minutes per month', 'Describe minutes per month'])"
   ]
  },
  {
   "cell_type": "markdown",
   "metadata": {},
   "source": [
    "From the number of calls made per month, we can see that about 1499 users made calls out of 2258 users. The person with the highest call rate made 205 calls and spent a total minute of 1510 minutes, while the person with the lowest call rate made just 1 calls with 0 minutes which could have even been a missed call. Since the mean of `minutes spent` is *greater* than the median, we expect the distribution to be skewed to the right. This means the data could contain outliers."
   ]
  },
  {
   "cell_type": "code",
   "execution_count": 351,
   "metadata": {},
   "outputs": [
    {
     "data": {
      "text/html": [
       "<th style=\"text-align:center\"><td style=\"vertical-align:top\"><h6>Head of messages per month</h6><table style=\"display:inline\" border=\"1\" class=\"dataframe\">\n",
       "  <thead>\n",
       "    <tr style=\"text-align: right;\">\n",
       "      <th></th>\n",
       "      <th></th>\n",
       "      <th>messages sent</th>\n",
       "    </tr>\n",
       "    <tr>\n",
       "      <th>user</th>\n",
       "      <th>month</th>\n",
       "      <th></th>\n",
       "    </tr>\n",
       "  </thead>\n",
       "  <tbody>\n",
       "    <tr>\n",
       "      <th>1000</th>\n",
       "      <th>December</th>\n",
       "      <td>11</td>\n",
       "    </tr>\n",
       "    <tr>\n",
       "      <th rowspan=\"4\" valign=\"top\">1001</th>\n",
       "      <th>August</th>\n",
       "      <td>30</td>\n",
       "    </tr>\n",
       "    <tr>\n",
       "      <th>December</th>\n",
       "      <td>44</td>\n",
       "    </tr>\n",
       "    <tr>\n",
       "      <th>November</th>\n",
       "      <td>36</td>\n",
       "    </tr>\n",
       "    <tr>\n",
       "      <th>October</th>\n",
       "      <td>53</td>\n",
       "    </tr>\n",
       "  </tbody>\n",
       "</table style=\"display:inline\"></td></th><th style=\"text-align:center\"><td style=\"vertical-align:top\"><h6>Describe messages per month</h6><table style=\"display:inline\" border=\"1\" class=\"dataframe\">\n",
       "  <thead>\n",
       "    <tr style=\"text-align: right;\">\n",
       "      <th></th>\n",
       "      <th>messages sent</th>\n",
       "    </tr>\n",
       "  </thead>\n",
       "  <tbody>\n",
       "    <tr>\n",
       "      <th>count</th>\n",
       "      <td>1806.000000</td>\n",
       "    </tr>\n",
       "    <tr>\n",
       "      <th>mean</th>\n",
       "      <td>42.110188</td>\n",
       "    </tr>\n",
       "    <tr>\n",
       "      <th>std</th>\n",
       "      <td>33.122931</td>\n",
       "    </tr>\n",
       "    <tr>\n",
       "      <th>min</th>\n",
       "      <td>1.000000</td>\n",
       "    </tr>\n",
       "    <tr>\n",
       "      <th>25%</th>\n",
       "      <td>17.000000</td>\n",
       "    </tr>\n",
       "    <tr>\n",
       "      <th>50%</th>\n",
       "      <td>34.000000</td>\n",
       "    </tr>\n",
       "    <tr>\n",
       "      <th>75%</th>\n",
       "      <td>59.000000</td>\n",
       "    </tr>\n",
       "    <tr>\n",
       "      <th>max</th>\n",
       "      <td>266.000000</td>\n",
       "    </tr>\n",
       "  </tbody>\n",
       "</table style=\"display:inline\"></td></th>"
      ]
     },
     "metadata": {},
     "output_type": "display_data"
    }
   ],
   "source": [
    "#messages per user per month\n",
    "messages_per_month = messages.groupby(['user', 'month']).agg({'id': 'count'}).rename(columns={'id': 'messages sent'})\n",
    "display_side_by_side(messages_per_month.head(), messages_per_month.describe(), titles=[\n",
    "    'Head of messages per month', 'Describe messages per month'])"
   ]
  },
  {
   "cell_type": "markdown",
   "metadata": {},
   "source": [
    "On the average, about 1806 messages was sent per user per month. The least number of message sent was 1 while the most message sent was 266. Since the mean of `messages sent` is *greater* than the median, we expect the distribution to be skewed to the right. This means the data could contain outliers. "
   ]
  },
  {
   "cell_type": "code",
   "execution_count": 352,
   "metadata": {},
   "outputs": [
    {
     "data": {
      "text/html": [
       "<th style=\"text-align:center\"><td style=\"vertical-align:top\"><h6>Head of data used per month</h6><table style=\"display:inline\" border=\"1\" class=\"dataframe\">\n",
       "  <thead>\n",
       "    <tr style=\"text-align: right;\">\n",
       "      <th></th>\n",
       "      <th></th>\n",
       "      <th>data used</th>\n",
       "    </tr>\n",
       "    <tr>\n",
       "      <th>user</th>\n",
       "      <th>month</th>\n",
       "      <th></th>\n",
       "    </tr>\n",
       "  </thead>\n",
       "  <tbody>\n",
       "    <tr>\n",
       "      <th>1000</th>\n",
       "      <th>December</th>\n",
       "      <td>2048.0</td>\n",
       "    </tr>\n",
       "    <tr>\n",
       "      <th rowspan=\"4\" valign=\"top\">1001</th>\n",
       "      <th>August</th>\n",
       "      <td>7168.0</td>\n",
       "    </tr>\n",
       "    <tr>\n",
       "      <th>December</th>\n",
       "      <td>19456.0</td>\n",
       "    </tr>\n",
       "    <tr>\n",
       "      <th>November</th>\n",
       "      <td>19456.0</td>\n",
       "    </tr>\n",
       "    <tr>\n",
       "      <th>October</th>\n",
       "      <td>22528.0</td>\n",
       "    </tr>\n",
       "  </tbody>\n",
       "</table style=\"display:inline\"></td></th><th style=\"text-align:center\"><td style=\"vertical-align:top\"><h6>Describe data used per month</h6><table style=\"display:inline\" border=\"1\" class=\"dataframe\">\n",
       "  <thead>\n",
       "    <tr style=\"text-align: right;\">\n",
       "      <th></th>\n",
       "      <th>data used</th>\n",
       "    </tr>\n",
       "  </thead>\n",
       "  <tbody>\n",
       "    <tr>\n",
       "      <th>count</th>\n",
       "      <td>2277.000000</td>\n",
       "    </tr>\n",
       "    <tr>\n",
       "      <th>mean</th>\n",
       "      <td>17396.757137</td>\n",
       "    </tr>\n",
       "    <tr>\n",
       "      <th>std</th>\n",
       "      <td>7878.331628</td>\n",
       "    </tr>\n",
       "    <tr>\n",
       "      <th>min</th>\n",
       "      <td>1024.000000</td>\n",
       "    </tr>\n",
       "    <tr>\n",
       "      <th>25%</th>\n",
       "      <td>13312.000000</td>\n",
       "    </tr>\n",
       "    <tr>\n",
       "      <th>50%</th>\n",
       "      <td>17408.000000</td>\n",
       "    </tr>\n",
       "    <tr>\n",
       "      <th>75%</th>\n",
       "      <td>21504.000000</td>\n",
       "    </tr>\n",
       "    <tr>\n",
       "      <th>max</th>\n",
       "      <td>71680.000000</td>\n",
       "    </tr>\n",
       "  </tbody>\n",
       "</table style=\"display:inline\"></td></th>"
      ]
     },
     "metadata": {},
     "output_type": "display_data"
    }
   ],
   "source": [
    "# internet traffic per user per month\n",
    "internet_per_month = (internet.groupby(['user', 'month']).agg({'data used': 'sum'})/1024).apply(np.ceil)*1024\n",
    "display_side_by_side(internet_per_month.head(), internet_per_month.describe(), titles=[\n",
    "    'Head of data used per month', 'Describe data used per month'])"
   ]
  },
  {
   "cell_type": "markdown",
   "metadata": {},
   "source": [
    "From the volume of internet data used per month, we can see that about 1499 users used data out of 2277 users. On the average, about 17,397MB of data was used. The person with the lowest data volume used $\\approx$1024MB while the person with the most data usage used $\\approx$71,680MB of data. Since the mean of `data volume` is slightly *lesser* than the median, we would expect the distribution to be skewed to the left. This means that the data could contain outliers. "
   ]
  },
  {
   "cell_type": "markdown",
   "metadata": {},
   "source": [
    "We will now proceed to combine the calculated values to obtain a new dataset."
   ]
  },
  {
   "cell_type": "code",
   "execution_count": 353,
   "metadata": {},
   "outputs": [
    {
     "data": {
      "text/html": [
       "<div>\n",
       "<style scoped>\n",
       "    .dataframe tbody tr th:only-of-type {\n",
       "        vertical-align: middle;\n",
       "    }\n",
       "\n",
       "    .dataframe tbody tr th {\n",
       "        vertical-align: top;\n",
       "    }\n",
       "\n",
       "    .dataframe thead th {\n",
       "        text-align: right;\n",
       "    }\n",
       "</style>\n",
       "<table border=\"1\" class=\"dataframe\">\n",
       "  <thead>\n",
       "    <tr style=\"text-align: right;\">\n",
       "      <th></th>\n",
       "      <th>user</th>\n",
       "      <th>month</th>\n",
       "      <th>calls made</th>\n",
       "      <th>call duration</th>\n",
       "      <th>messages sent</th>\n",
       "      <th>mb used</th>\n",
       "      <th>first name</th>\n",
       "      <th>last name</th>\n",
       "      <th>age</th>\n",
       "      <th>city</th>\n",
       "      <th>subscription date</th>\n",
       "      <th>plan</th>\n",
       "      <th>churn date</th>\n",
       "      <th>customer churn</th>\n",
       "    </tr>\n",
       "  </thead>\n",
       "  <tbody>\n",
       "    <tr>\n",
       "      <td>0</td>\n",
       "      <td>1000</td>\n",
       "      <td>December</td>\n",
       "      <td>16.0</td>\n",
       "      <td>124.0</td>\n",
       "      <td>11.0</td>\n",
       "      <td>2048.0</td>\n",
       "      <td>Anamaria</td>\n",
       "      <td>Bauer</td>\n",
       "      <td>45</td>\n",
       "      <td>Atlanta-Sandy Springs-Roswell, GA MSA</td>\n",
       "      <td>2018-12-24</td>\n",
       "      <td>ultimate</td>\n",
       "      <td>NaT</td>\n",
       "      <td>No</td>\n",
       "    </tr>\n",
       "    <tr>\n",
       "      <td>1</td>\n",
       "      <td>1001</td>\n",
       "      <td>August</td>\n",
       "      <td>27.0</td>\n",
       "      <td>182.0</td>\n",
       "      <td>30.0</td>\n",
       "      <td>7168.0</td>\n",
       "      <td>Mickey</td>\n",
       "      <td>Wilkerson</td>\n",
       "      <td>28</td>\n",
       "      <td>Seattle-Tacoma-Bellevue, WA MSA</td>\n",
       "      <td>2018-08-13</td>\n",
       "      <td>surf</td>\n",
       "      <td>NaT</td>\n",
       "      <td>No</td>\n",
       "    </tr>\n",
       "    <tr>\n",
       "      <td>2</td>\n",
       "      <td>1001</td>\n",
       "      <td>December</td>\n",
       "      <td>56.0</td>\n",
       "      <td>412.0</td>\n",
       "      <td>44.0</td>\n",
       "      <td>19456.0</td>\n",
       "      <td>Mickey</td>\n",
       "      <td>Wilkerson</td>\n",
       "      <td>28</td>\n",
       "      <td>Seattle-Tacoma-Bellevue, WA MSA</td>\n",
       "      <td>2018-08-13</td>\n",
       "      <td>surf</td>\n",
       "      <td>NaT</td>\n",
       "      <td>No</td>\n",
       "    </tr>\n",
       "    <tr>\n",
       "      <td>3</td>\n",
       "      <td>1001</td>\n",
       "      <td>November</td>\n",
       "      <td>64.0</td>\n",
       "      <td>426.0</td>\n",
       "      <td>36.0</td>\n",
       "      <td>19456.0</td>\n",
       "      <td>Mickey</td>\n",
       "      <td>Wilkerson</td>\n",
       "      <td>28</td>\n",
       "      <td>Seattle-Tacoma-Bellevue, WA MSA</td>\n",
       "      <td>2018-08-13</td>\n",
       "      <td>surf</td>\n",
       "      <td>NaT</td>\n",
       "      <td>No</td>\n",
       "    </tr>\n",
       "    <tr>\n",
       "      <td>4</td>\n",
       "      <td>1001</td>\n",
       "      <td>October</td>\n",
       "      <td>65.0</td>\n",
       "      <td>393.0</td>\n",
       "      <td>53.0</td>\n",
       "      <td>22528.0</td>\n",
       "      <td>Mickey</td>\n",
       "      <td>Wilkerson</td>\n",
       "      <td>28</td>\n",
       "      <td>Seattle-Tacoma-Bellevue, WA MSA</td>\n",
       "      <td>2018-08-13</td>\n",
       "      <td>surf</td>\n",
       "      <td>NaT</td>\n",
       "      <td>No</td>\n",
       "    </tr>\n",
       "    <tr>\n",
       "      <td>...</td>\n",
       "      <td>...</td>\n",
       "      <td>...</td>\n",
       "      <td>...</td>\n",
       "      <td>...</td>\n",
       "      <td>...</td>\n",
       "      <td>...</td>\n",
       "      <td>...</td>\n",
       "      <td>...</td>\n",
       "      <td>...</td>\n",
       "      <td>...</td>\n",
       "      <td>...</td>\n",
       "      <td>...</td>\n",
       "      <td>...</td>\n",
       "      <td>...</td>\n",
       "    </tr>\n",
       "    <tr>\n",
       "      <td>2288</td>\n",
       "      <td>1498</td>\n",
       "      <td>September</td>\n",
       "      <td>45.0</td>\n",
       "      <td>363.0</td>\n",
       "      <td>0.0</td>\n",
       "      <td>23552.0</td>\n",
       "      <td>Scot</td>\n",
       "      <td>Williamson</td>\n",
       "      <td>51</td>\n",
       "      <td>New York-Newark-Jersey City, NY-NJ-PA MSA</td>\n",
       "      <td>2018-02-04</td>\n",
       "      <td>surf</td>\n",
       "      <td>NaT</td>\n",
       "      <td>No</td>\n",
       "    </tr>\n",
       "    <tr>\n",
       "      <td>2289</td>\n",
       "      <td>1499</td>\n",
       "      <td>December</td>\n",
       "      <td>65.0</td>\n",
       "      <td>496.0</td>\n",
       "      <td>0.0</td>\n",
       "      <td>22528.0</td>\n",
       "      <td>Shena</td>\n",
       "      <td>Dickson</td>\n",
       "      <td>37</td>\n",
       "      <td>Orlando-Kissimmee-Sanford, FL MSA</td>\n",
       "      <td>2018-05-06</td>\n",
       "      <td>surf</td>\n",
       "      <td>NaT</td>\n",
       "      <td>No</td>\n",
       "    </tr>\n",
       "    <tr>\n",
       "      <td>2290</td>\n",
       "      <td>1499</td>\n",
       "      <td>November</td>\n",
       "      <td>45.0</td>\n",
       "      <td>308.0</td>\n",
       "      <td>0.0</td>\n",
       "      <td>17408.0</td>\n",
       "      <td>Shena</td>\n",
       "      <td>Dickson</td>\n",
       "      <td>37</td>\n",
       "      <td>Orlando-Kissimmee-Sanford, FL MSA</td>\n",
       "      <td>2018-05-06</td>\n",
       "      <td>surf</td>\n",
       "      <td>NaT</td>\n",
       "      <td>No</td>\n",
       "    </tr>\n",
       "    <tr>\n",
       "      <td>2291</td>\n",
       "      <td>1499</td>\n",
       "      <td>October</td>\n",
       "      <td>53.0</td>\n",
       "      <td>385.0</td>\n",
       "      <td>0.0</td>\n",
       "      <td>20480.0</td>\n",
       "      <td>Shena</td>\n",
       "      <td>Dickson</td>\n",
       "      <td>37</td>\n",
       "      <td>Orlando-Kissimmee-Sanford, FL MSA</td>\n",
       "      <td>2018-05-06</td>\n",
       "      <td>surf</td>\n",
       "      <td>NaT</td>\n",
       "      <td>No</td>\n",
       "    </tr>\n",
       "    <tr>\n",
       "      <td>2292</td>\n",
       "      <td>1499</td>\n",
       "      <td>September</td>\n",
       "      <td>41.0</td>\n",
       "      <td>346.0</td>\n",
       "      <td>0.0</td>\n",
       "      <td>13312.0</td>\n",
       "      <td>Shena</td>\n",
       "      <td>Dickson</td>\n",
       "      <td>37</td>\n",
       "      <td>Orlando-Kissimmee-Sanford, FL MSA</td>\n",
       "      <td>2018-05-06</td>\n",
       "      <td>surf</td>\n",
       "      <td>NaT</td>\n",
       "      <td>No</td>\n",
       "    </tr>\n",
       "  </tbody>\n",
       "</table>\n",
       "<p>2293 rows × 14 columns</p>\n",
       "</div>"
      ],
      "text/plain": [
       "      user      month  calls made  call duration  messages sent  mb used  \\\n",
       "0     1000   December        16.0          124.0           11.0   2048.0   \n",
       "1     1001     August        27.0          182.0           30.0   7168.0   \n",
       "2     1001   December        56.0          412.0           44.0  19456.0   \n",
       "3     1001   November        64.0          426.0           36.0  19456.0   \n",
       "4     1001    October        65.0          393.0           53.0  22528.0   \n",
       "...    ...        ...         ...            ...            ...      ...   \n",
       "2288  1498  September        45.0          363.0            0.0  23552.0   \n",
       "2289  1499   December        65.0          496.0            0.0  22528.0   \n",
       "2290  1499   November        45.0          308.0            0.0  17408.0   \n",
       "2291  1499    October        53.0          385.0            0.0  20480.0   \n",
       "2292  1499  September        41.0          346.0            0.0  13312.0   \n",
       "\n",
       "     first name   last name  age                                       city  \\\n",
       "0      Anamaria       Bauer   45      Atlanta-Sandy Springs-Roswell, GA MSA   \n",
       "1        Mickey   Wilkerson   28            Seattle-Tacoma-Bellevue, WA MSA   \n",
       "2        Mickey   Wilkerson   28            Seattle-Tacoma-Bellevue, WA MSA   \n",
       "3        Mickey   Wilkerson   28            Seattle-Tacoma-Bellevue, WA MSA   \n",
       "4        Mickey   Wilkerson   28            Seattle-Tacoma-Bellevue, WA MSA   \n",
       "...         ...         ...  ...                                        ...   \n",
       "2288       Scot  Williamson   51  New York-Newark-Jersey City, NY-NJ-PA MSA   \n",
       "2289      Shena     Dickson   37          Orlando-Kissimmee-Sanford, FL MSA   \n",
       "2290      Shena     Dickson   37          Orlando-Kissimmee-Sanford, FL MSA   \n",
       "2291      Shena     Dickson   37          Orlando-Kissimmee-Sanford, FL MSA   \n",
       "2292      Shena     Dickson   37          Orlando-Kissimmee-Sanford, FL MSA   \n",
       "\n",
       "     subscription date      plan churn date customer churn  \n",
       "0           2018-12-24  ultimate        NaT             No  \n",
       "1           2018-08-13      surf        NaT             No  \n",
       "2           2018-08-13      surf        NaT             No  \n",
       "3           2018-08-13      surf        NaT             No  \n",
       "4           2018-08-13      surf        NaT             No  \n",
       "...                ...       ...        ...            ...  \n",
       "2288        2018-02-04      surf        NaT             No  \n",
       "2289        2018-05-06      surf        NaT             No  \n",
       "2290        2018-05-06      surf        NaT             No  \n",
       "2291        2018-05-06      surf        NaT             No  \n",
       "2292        2018-05-06      surf        NaT             No  \n",
       "\n",
       "[2293 rows x 14 columns]"
      ]
     },
     "execution_count": 353,
     "metadata": {},
     "output_type": "execute_result"
    }
   ],
   "source": [
    "# combine aggregates into one table\n",
    "agg_df = pd.concat([calls_per_month, mins_per_month, messages_per_month, internet_per_month], axis=1).reset_index().fillna(0)\n",
    "agg_df.columns = ['user', 'month', 'calls made', 'call duration', 'messages sent', 'mb used']\n",
    "agg_df = agg_df.merge(users, on='user')\n",
    "agg_df"
   ]
  },
  {
   "cell_type": "markdown",
   "metadata": {},
   "source": [
    "We have been able to aggregate our data. We now have the number of calls per month, total minutes used per month, messages sent per month, volume of data per month, monthly plan, and volume of data in gigabytes. Now we have to calculate the monthly revenue from each user."
   ]
  },
  {
   "cell_type": "code",
   "execution_count": 354,
   "metadata": {},
   "outputs": [
    {
     "data": {
      "text/html": [
       "<div>\n",
       "<style scoped>\n",
       "    .dataframe tbody tr th:only-of-type {\n",
       "        vertical-align: middle;\n",
       "    }\n",
       "\n",
       "    .dataframe tbody tr th {\n",
       "        vertical-align: top;\n",
       "    }\n",
       "\n",
       "    .dataframe thead th {\n",
       "        text-align: right;\n",
       "    }\n",
       "</style>\n",
       "<table border=\"1\" class=\"dataframe\">\n",
       "  <thead>\n",
       "    <tr style=\"text-align: right;\">\n",
       "      <th></th>\n",
       "      <th>user</th>\n",
       "      <th>month</th>\n",
       "      <th>calls made</th>\n",
       "      <th>call duration</th>\n",
       "      <th>messages sent</th>\n",
       "      <th>mb used</th>\n",
       "      <th>first name</th>\n",
       "      <th>last name</th>\n",
       "      <th>age</th>\n",
       "      <th>city</th>\n",
       "      <th>...</th>\n",
       "      <th>plan</th>\n",
       "      <th>churn date</th>\n",
       "      <th>customer churn</th>\n",
       "      <th>messages included</th>\n",
       "      <th>data volume per month</th>\n",
       "      <th>minutes included</th>\n",
       "      <th>monthly fee</th>\n",
       "      <th>price per gb</th>\n",
       "      <th>price per message</th>\n",
       "      <th>price per minute</th>\n",
       "    </tr>\n",
       "  </thead>\n",
       "  <tbody>\n",
       "    <tr>\n",
       "      <td>0</td>\n",
       "      <td>1000</td>\n",
       "      <td>December</td>\n",
       "      <td>16.0</td>\n",
       "      <td>124.0</td>\n",
       "      <td>11.0</td>\n",
       "      <td>2048.0</td>\n",
       "      <td>Anamaria</td>\n",
       "      <td>Bauer</td>\n",
       "      <td>45</td>\n",
       "      <td>Atlanta-Sandy Springs-Roswell, GA MSA</td>\n",
       "      <td>...</td>\n",
       "      <td>ultimate</td>\n",
       "      <td>NaT</td>\n",
       "      <td>No</td>\n",
       "      <td>1000</td>\n",
       "      <td>30720</td>\n",
       "      <td>3000</td>\n",
       "      <td>70</td>\n",
       "      <td>7</td>\n",
       "      <td>0.01</td>\n",
       "      <td>0.01</td>\n",
       "    </tr>\n",
       "    <tr>\n",
       "      <td>1</td>\n",
       "      <td>1006</td>\n",
       "      <td>December</td>\n",
       "      <td>9.0</td>\n",
       "      <td>59.0</td>\n",
       "      <td>139.0</td>\n",
       "      <td>32768.0</td>\n",
       "      <td>Jesusa</td>\n",
       "      <td>Bradford</td>\n",
       "      <td>73</td>\n",
       "      <td>San Francisco-Oakland-Berkeley, CA MSA</td>\n",
       "      <td>...</td>\n",
       "      <td>ultimate</td>\n",
       "      <td>2018-12-18</td>\n",
       "      <td>Yes</td>\n",
       "      <td>1000</td>\n",
       "      <td>30720</td>\n",
       "      <td>3000</td>\n",
       "      <td>70</td>\n",
       "      <td>7</td>\n",
       "      <td>0.01</td>\n",
       "      <td>0.01</td>\n",
       "    </tr>\n",
       "    <tr>\n",
       "      <td>2</td>\n",
       "      <td>1006</td>\n",
       "      <td>November</td>\n",
       "      <td>2.0</td>\n",
       "      <td>10.0</td>\n",
       "      <td>15.0</td>\n",
       "      <td>3072.0</td>\n",
       "      <td>Jesusa</td>\n",
       "      <td>Bradford</td>\n",
       "      <td>73</td>\n",
       "      <td>San Francisco-Oakland-Berkeley, CA MSA</td>\n",
       "      <td>...</td>\n",
       "      <td>ultimate</td>\n",
       "      <td>2018-12-18</td>\n",
       "      <td>Yes</td>\n",
       "      <td>1000</td>\n",
       "      <td>30720</td>\n",
       "      <td>3000</td>\n",
       "      <td>70</td>\n",
       "      <td>7</td>\n",
       "      <td>0.01</td>\n",
       "      <td>0.01</td>\n",
       "    </tr>\n",
       "    <tr>\n",
       "      <td>3</td>\n",
       "      <td>1008</td>\n",
       "      <td>December</td>\n",
       "      <td>85.0</td>\n",
       "      <td>634.0</td>\n",
       "      <td>26.0</td>\n",
       "      <td>15360.0</td>\n",
       "      <td>Emely</td>\n",
       "      <td>Hoffman</td>\n",
       "      <td>53</td>\n",
       "      <td>Orlando-Kissimmee-Sanford, FL MSA</td>\n",
       "      <td>...</td>\n",
       "      <td>ultimate</td>\n",
       "      <td>NaT</td>\n",
       "      <td>No</td>\n",
       "      <td>1000</td>\n",
       "      <td>30720</td>\n",
       "      <td>3000</td>\n",
       "      <td>70</td>\n",
       "      <td>7</td>\n",
       "      <td>0.01</td>\n",
       "      <td>0.01</td>\n",
       "    </tr>\n",
       "    <tr>\n",
       "      <td>4</td>\n",
       "      <td>1008</td>\n",
       "      <td>November</td>\n",
       "      <td>63.0</td>\n",
       "      <td>446.0</td>\n",
       "      <td>37.0</td>\n",
       "      <td>24576.0</td>\n",
       "      <td>Emely</td>\n",
       "      <td>Hoffman</td>\n",
       "      <td>53</td>\n",
       "      <td>Orlando-Kissimmee-Sanford, FL MSA</td>\n",
       "      <td>...</td>\n",
       "      <td>ultimate</td>\n",
       "      <td>NaT</td>\n",
       "      <td>No</td>\n",
       "      <td>1000</td>\n",
       "      <td>30720</td>\n",
       "      <td>3000</td>\n",
       "      <td>70</td>\n",
       "      <td>7</td>\n",
       "      <td>0.01</td>\n",
       "      <td>0.01</td>\n",
       "    </tr>\n",
       "  </tbody>\n",
       "</table>\n",
       "<p>5 rows × 21 columns</p>\n",
       "</div>"
      ],
      "text/plain": [
       "   user     month  calls made  call duration  messages sent  mb used  \\\n",
       "0  1000  December        16.0          124.0           11.0   2048.0   \n",
       "1  1006  December         9.0           59.0          139.0  32768.0   \n",
       "2  1006  November         2.0           10.0           15.0   3072.0   \n",
       "3  1008  December        85.0          634.0           26.0  15360.0   \n",
       "4  1008  November        63.0          446.0           37.0  24576.0   \n",
       "\n",
       "  first name last name  age                                    city  ...  \\\n",
       "0   Anamaria     Bauer   45   Atlanta-Sandy Springs-Roswell, GA MSA  ...   \n",
       "1     Jesusa  Bradford   73  San Francisco-Oakland-Berkeley, CA MSA  ...   \n",
       "2     Jesusa  Bradford   73  San Francisco-Oakland-Berkeley, CA MSA  ...   \n",
       "3      Emely   Hoffman   53       Orlando-Kissimmee-Sanford, FL MSA  ...   \n",
       "4      Emely   Hoffman   53       Orlando-Kissimmee-Sanford, FL MSA  ...   \n",
       "\n",
       "       plan churn date customer churn messages included  \\\n",
       "0  ultimate        NaT             No              1000   \n",
       "1  ultimate 2018-12-18            Yes              1000   \n",
       "2  ultimate 2018-12-18            Yes              1000   \n",
       "3  ultimate        NaT             No              1000   \n",
       "4  ultimate        NaT             No              1000   \n",
       "\n",
       "   data volume per month  minutes included  monthly fee  price per gb  \\\n",
       "0                  30720              3000           70             7   \n",
       "1                  30720              3000           70             7   \n",
       "2                  30720              3000           70             7   \n",
       "3                  30720              3000           70             7   \n",
       "4                  30720              3000           70             7   \n",
       "\n",
       "   price per message  price per minute  \n",
       "0               0.01              0.01  \n",
       "1               0.01              0.01  \n",
       "2               0.01              0.01  \n",
       "3               0.01              0.01  \n",
       "4               0.01              0.01  \n",
       "\n",
       "[5 rows x 21 columns]"
      ]
     },
     "execution_count": 354,
     "metadata": {},
     "output_type": "execute_result"
    }
   ],
   "source": [
    "# aggregate data to the plan dataframe\n",
    "agg_df = agg_df.merge(plans, left_on='plan', right_on='plan')\n",
    "agg_df.head()"
   ]
  },
  {
   "cell_type": "code",
   "execution_count": 355,
   "metadata": {},
   "outputs": [
    {
     "data": {
      "text/html": [
       "<div>\n",
       "<style scoped>\n",
       "    .dataframe tbody tr th:only-of-type {\n",
       "        vertical-align: middle;\n",
       "    }\n",
       "\n",
       "    .dataframe tbody tr th {\n",
       "        vertical-align: top;\n",
       "    }\n",
       "\n",
       "    .dataframe thead th {\n",
       "        text-align: right;\n",
       "    }\n",
       "</style>\n",
       "<table border=\"1\" class=\"dataframe\">\n",
       "  <thead>\n",
       "    <tr style=\"text-align: right;\">\n",
       "      <th></th>\n",
       "      <th>user</th>\n",
       "      <th>month</th>\n",
       "      <th>calls made</th>\n",
       "      <th>call duration</th>\n",
       "      <th>messages sent</th>\n",
       "      <th>mb used</th>\n",
       "      <th>first name</th>\n",
       "      <th>last name</th>\n",
       "      <th>age</th>\n",
       "      <th>city</th>\n",
       "      <th>...</th>\n",
       "      <th>data volume per month</th>\n",
       "      <th>minutes included</th>\n",
       "      <th>monthly fee</th>\n",
       "      <th>price per gb</th>\n",
       "      <th>price per message</th>\n",
       "      <th>price per minute</th>\n",
       "      <th>message cost</th>\n",
       "      <th>call cost</th>\n",
       "      <th>gb cost</th>\n",
       "      <th>revenue</th>\n",
       "    </tr>\n",
       "  </thead>\n",
       "  <tbody>\n",
       "    <tr>\n",
       "      <td>0</td>\n",
       "      <td>1000</td>\n",
       "      <td>December</td>\n",
       "      <td>16.0</td>\n",
       "      <td>124.0</td>\n",
       "      <td>11.0</td>\n",
       "      <td>2048.0</td>\n",
       "      <td>Anamaria</td>\n",
       "      <td>Bauer</td>\n",
       "      <td>45</td>\n",
       "      <td>Atlanta-Sandy Springs-Roswell, GA MSA</td>\n",
       "      <td>...</td>\n",
       "      <td>30720</td>\n",
       "      <td>3000</td>\n",
       "      <td>70</td>\n",
       "      <td>7</td>\n",
       "      <td>0.01</td>\n",
       "      <td>0.01</td>\n",
       "      <td>0.0</td>\n",
       "      <td>0.0</td>\n",
       "      <td>0.0</td>\n",
       "      <td>70.0</td>\n",
       "    </tr>\n",
       "    <tr>\n",
       "      <td>1</td>\n",
       "      <td>1006</td>\n",
       "      <td>December</td>\n",
       "      <td>9.0</td>\n",
       "      <td>59.0</td>\n",
       "      <td>139.0</td>\n",
       "      <td>32768.0</td>\n",
       "      <td>Jesusa</td>\n",
       "      <td>Bradford</td>\n",
       "      <td>73</td>\n",
       "      <td>San Francisco-Oakland-Berkeley, CA MSA</td>\n",
       "      <td>...</td>\n",
       "      <td>30720</td>\n",
       "      <td>3000</td>\n",
       "      <td>70</td>\n",
       "      <td>7</td>\n",
       "      <td>0.01</td>\n",
       "      <td>0.01</td>\n",
       "      <td>0.0</td>\n",
       "      <td>0.0</td>\n",
       "      <td>14.0</td>\n",
       "      <td>84.0</td>\n",
       "    </tr>\n",
       "    <tr>\n",
       "      <td>2</td>\n",
       "      <td>1006</td>\n",
       "      <td>November</td>\n",
       "      <td>2.0</td>\n",
       "      <td>10.0</td>\n",
       "      <td>15.0</td>\n",
       "      <td>3072.0</td>\n",
       "      <td>Jesusa</td>\n",
       "      <td>Bradford</td>\n",
       "      <td>73</td>\n",
       "      <td>San Francisco-Oakland-Berkeley, CA MSA</td>\n",
       "      <td>...</td>\n",
       "      <td>30720</td>\n",
       "      <td>3000</td>\n",
       "      <td>70</td>\n",
       "      <td>7</td>\n",
       "      <td>0.01</td>\n",
       "      <td>0.01</td>\n",
       "      <td>0.0</td>\n",
       "      <td>0.0</td>\n",
       "      <td>0.0</td>\n",
       "      <td>70.0</td>\n",
       "    </tr>\n",
       "    <tr>\n",
       "      <td>3</td>\n",
       "      <td>1008</td>\n",
       "      <td>December</td>\n",
       "      <td>85.0</td>\n",
       "      <td>634.0</td>\n",
       "      <td>26.0</td>\n",
       "      <td>15360.0</td>\n",
       "      <td>Emely</td>\n",
       "      <td>Hoffman</td>\n",
       "      <td>53</td>\n",
       "      <td>Orlando-Kissimmee-Sanford, FL MSA</td>\n",
       "      <td>...</td>\n",
       "      <td>30720</td>\n",
       "      <td>3000</td>\n",
       "      <td>70</td>\n",
       "      <td>7</td>\n",
       "      <td>0.01</td>\n",
       "      <td>0.01</td>\n",
       "      <td>0.0</td>\n",
       "      <td>0.0</td>\n",
       "      <td>0.0</td>\n",
       "      <td>70.0</td>\n",
       "    </tr>\n",
       "    <tr>\n",
       "      <td>4</td>\n",
       "      <td>1008</td>\n",
       "      <td>November</td>\n",
       "      <td>63.0</td>\n",
       "      <td>446.0</td>\n",
       "      <td>37.0</td>\n",
       "      <td>24576.0</td>\n",
       "      <td>Emely</td>\n",
       "      <td>Hoffman</td>\n",
       "      <td>53</td>\n",
       "      <td>Orlando-Kissimmee-Sanford, FL MSA</td>\n",
       "      <td>...</td>\n",
       "      <td>30720</td>\n",
       "      <td>3000</td>\n",
       "      <td>70</td>\n",
       "      <td>7</td>\n",
       "      <td>0.01</td>\n",
       "      <td>0.01</td>\n",
       "      <td>0.0</td>\n",
       "      <td>0.0</td>\n",
       "      <td>0.0</td>\n",
       "      <td>70.0</td>\n",
       "    </tr>\n",
       "  </tbody>\n",
       "</table>\n",
       "<p>5 rows × 25 columns</p>\n",
       "</div>"
      ],
      "text/plain": [
       "   user     month  calls made  call duration  messages sent  mb used  \\\n",
       "0  1000  December        16.0          124.0           11.0   2048.0   \n",
       "1  1006  December         9.0           59.0          139.0  32768.0   \n",
       "2  1006  November         2.0           10.0           15.0   3072.0   \n",
       "3  1008  December        85.0          634.0           26.0  15360.0   \n",
       "4  1008  November        63.0          446.0           37.0  24576.0   \n",
       "\n",
       "  first name last name  age                                    city  ...  \\\n",
       "0   Anamaria     Bauer   45   Atlanta-Sandy Springs-Roswell, GA MSA  ...   \n",
       "1     Jesusa  Bradford   73  San Francisco-Oakland-Berkeley, CA MSA  ...   \n",
       "2     Jesusa  Bradford   73  San Francisco-Oakland-Berkeley, CA MSA  ...   \n",
       "3      Emely   Hoffman   53       Orlando-Kissimmee-Sanford, FL MSA  ...   \n",
       "4      Emely   Hoffman   53       Orlando-Kissimmee-Sanford, FL MSA  ...   \n",
       "\n",
       "  data volume per month minutes included monthly fee price per gb  \\\n",
       "0                 30720             3000          70            7   \n",
       "1                 30720             3000          70            7   \n",
       "2                 30720             3000          70            7   \n",
       "3                 30720             3000          70            7   \n",
       "4                 30720             3000          70            7   \n",
       "\n",
       "   price per message  price per minute  message cost  call cost  gb cost  \\\n",
       "0               0.01              0.01           0.0        0.0      0.0   \n",
       "1               0.01              0.01           0.0        0.0     14.0   \n",
       "2               0.01              0.01           0.0        0.0      0.0   \n",
       "3               0.01              0.01           0.0        0.0      0.0   \n",
       "4               0.01              0.01           0.0        0.0      0.0   \n",
       "\n",
       "   revenue  \n",
       "0     70.0  \n",
       "1     84.0  \n",
       "2     70.0  \n",
       "3     70.0  \n",
       "4     70.0  \n",
       "\n",
       "[5 rows x 25 columns]"
      ]
     },
     "execution_count": 355,
     "metadata": {},
     "output_type": "execute_result"
    }
   ],
   "source": [
    "# determine revenue from allowance and charges\n",
    "agg_df['message cost'] = agg_df.apply(lambda x: max(0, x['messages sent'] - x['messages included']) * x['price per message'], \n",
    "                                      axis = 1)\n",
    "agg_df['call cost'] = agg_df.apply(lambda x: max(0, x['call duration'] - x['minutes included']) * x['price per minute'], \n",
    "                                   axis = 1)\n",
    "agg_df['gb cost'] = agg_df.apply(lambda x: np.ceil(max(0, x['mb used'] - x['data volume per month'])/1024)*x['price per gb'], \n",
    "                                axis = 1)\n",
    "agg_df['revenue'] = agg_df['message cost'] + agg_df['call cost'] + agg_df['gb cost'] + agg_df['monthly fee']\n",
    "agg_df.head()"
   ]
  },
  {
   "cell_type": "markdown",
   "metadata": {},
   "source": [
    "<div class=\"alert alert-danger\">\n",
    "<b>Reviewer's comment</b>\n",
    "<p>In the 2 cells above, try to avoid hard-coding the numbers - take them from \"plans\" dataframe instead.</p> \n",
    "</div>\n",
    "<div class=\"alert alert-danger\">\n",
    "<b>Reviewer's comment</b>\n",
    "<p>Revenue should be calculated for each month individually, not for usage summed over entire year.</p> \n",
    "</div>\n",
    "<div class=\"alert alert-danger\">\n",
    "<b>Reviewer's comment</b>\n",
    "<p>Also, make sure to round up number of gigabytes used per month.</p> \n",
    "</div>\n",
    "\n",
    "<div class=\"alert alert-success\">\n",
    "<b>Reviewer's comment</b>\n",
    "<p>But nice implementation with the functions! Another way to compute a function per row is to use .apply() method of pd.DataFrame. You can have something like data['revenue'] = data.apply(calc_revenue), and the first argument in the definiton of calc_revenue() will be a row of data. </p> \n",
    "</div>"
   ]
  },
  {
   "cell_type": "code",
   "execution_count": 356,
   "metadata": {},
   "outputs": [
    {
     "name": "stdout",
     "output_type": "stream",
     "text": [
      "The mean of the revenue is: 64.35\n"
     ]
    }
   ],
   "source": [
    "# determine mean of revenue\n",
    "print('The mean of the revenue is: {:.2f}'.format(agg_df['revenue'].mean()))"
   ]
  },
  {
   "cell_type": "markdown",
   "metadata": {},
   "source": [
    "#### Conclusion"
   ]
  },
  {
   "cell_type": "markdown",
   "metadata": {},
   "source": [
    "At the end of this section, we have been able to prepare the data for analysis by first converting to the appropriate datatypes. We also found some errors in the data which was handled. One of the errors observed was that some data in the `duration` column has values greater than 0 but less than 1 minutes. For such values, we rounded up duration less than 1 minutes to 1 minutes. We transformed the large portion of missing values in the `churn_date` field into either churn ='Yes' or no churn = 'No', thus it can be analyzed as a categorical variable. We made some calculations, joined the data and computed the revenue. We determined the average revenue per month to be $64.35."
   ]
  },
  {
   "cell_type": "markdown",
   "metadata": {},
   "source": [
    "<div id=\"analyze_data\">\n",
    "    <h2>Analyze the data</h2> \n",
    "</div>"
   ]
  },
  {
   "cell_type": "markdown",
   "metadata": {},
   "source": [
    "#### Carry out Exploratory Data Analysis"
   ]
  },
  {
   "cell_type": "markdown",
   "metadata": {},
   "source": [
    "We begin by carrying out exploratory data analysis to describe the distribution of our data. "
   ]
  },
  {
   "cell_type": "code",
   "execution_count": 357,
   "metadata": {},
   "outputs": [
    {
     "name": "stdout",
     "output_type": "stream",
     "text": [
      "['calls made', 'call duration', 'messages sent', 'mb used', 'call cost', 'gb cost', 'message cost', 'revenue']\n",
      "['plan']\n"
     ]
    }
   ],
   "source": [
    "# populate the list of numeric and categorical attributes\n",
    "num_list = []\n",
    "cat_list = []\n",
    "plot_data = agg_df[['calls made', 'call duration', 'messages sent', 'mb used', 'plan', 'call cost', 'gb cost', 'message cost', 'revenue']]\n",
    "\n",
    "for column in plot_data:\n",
    "    if is_numeric_dtype(plot_data[column]):\n",
    "        num_list.append(column)\n",
    "    elif is_string_dtype(plot_data[column]):\n",
    "        cat_list.append(column)\n",
    "        \n",
    "print(num_list)\n",
    "print(cat_list)"
   ]
  },
  {
   "cell_type": "code",
   "execution_count": 358,
   "metadata": {},
   "outputs": [
    {
     "data": {
      "image/png": "[encoded data removed]",
      "text/plain": [
       "<Figure size 432x288 with 1 Axes>"
      ]
     },
     "metadata": {
      "needs_background": "light"
     },
     "output_type": "display_data"
    },
    {
     "data": {
      "image/png": "[encoded data removed]",
      "text/plain": [
       "<Figure size 432x288 with 1 Axes>"
      ]
     },
     "metadata": {
      "needs_background": "light"
     },
     "output_type": "display_data"
    },
    {
     "data": {
      "image/png": "[encoded data removed]",
      "text/plain": [
       "<Figure size 432x288 with 1 Axes>"
      ]
     },
     "metadata": {
      "needs_background": "light"
     },
     "output_type": "display_data"
    },
    {
     "data": {
      "image/png": "[encoded data removed]",
      "text/plain": [
       "<Figure size 432x288 with 1 Axes>"
      ]
     },
     "metadata": {
      "needs_background": "light"
     },
     "output_type": "display_data"
    },
    {
     "data": {
      "image/png": "[encoded data removed]",
      "text/plain": [
       "<Figure size 432x288 with 1 Axes>"
      ]
     },
     "metadata": {
      "needs_background": "light"
     },
     "output_type": "display_data"
    },
    {
     "data": {
      "image/png": "[encoded data removed]",
      "text/plain": [
       "<Figure size 432x288 with 1 Axes>"
      ]
     },
     "metadata": {
      "needs_background": "light"
     },
     "output_type": "display_data"
    },
    {
     "data": {
      "image/png": "[encoded data removed]",
      "text/plain": [
       "<Figure size 432x288 with 1 Axes>"
      ]
     },
     "metadata": {
      "needs_background": "light"
     },
     "output_type": "display_data"
    },
    {
     "data": {
      "image/png": "[encoded data removed]",
      "text/plain": [
       "<Figure size 432x288 with 1 Axes>"
      ]
     },
     "metadata": {
      "needs_background": "light"
     },
     "output_type": "display_data"
    },
    {
     "data": {
      "image/png": "[encoded data removed]",
      "text/plain": [
       "<Figure size 432x288 with 1 Axes>"
      ]
     },
     "metadata": {
      "needs_background": "light"
     },
     "output_type": "display_data"
    }
   ],
   "source": [
    "# create histogram and bar chart\n",
    "for column in plot_data:\n",
    "    plt.figure(column)\n",
    "    plt.xlabel(column)\n",
    "    plt.ylabel('frequency')\n",
    "    plt.title('Histogram of ' + column)\n",
    "    if is_numeric_dtype(plot_data[column]):\n",
    "        agg_df[column].plot(kind = 'hist')\n",
    "    elif is_string_dtype(plot_data[column]):\n",
    "        agg_df[column].value_counts().plot(kind = 'bar')"
   ]
  },
  {
   "cell_type": "markdown",
   "metadata": {},
   "source": [
    "#### Conclusion"
   ]
  },
  {
   "cell_type": "markdown",
   "metadata": {},
   "source": [
    "We used a for loop to iterate through the columns in the data frame and create a plot for each column. We use a histogram to plot numerical variables and a bar plot for categorical variables. The plot above shows the frequency distribution of the features in our data. All the charts above with the exception of the `histogram of plan` show that the distribution is somewhat **skewed right**. In the histogram of messages sent, most messages sent is between 0 and 266. Since the *mean* is greater than the *median*, we can conclude that the data has some outliers. The minimum message sent is 0 and the maximum is 266 with a *standard deviation* of 34. This shows that we have outlier in this column since the *mean* at 33 is greater than the *median* at 26. The bar plot for the plan shows that surf had the most frequency than ultimate. This means more people used the surf plan than the ultimate plan. We need to further analyze the data to determine which plan brings in more revenue. Since the data is skewed, we would have to detect and remove outliers in the data."
   ]
  },
  {
   "cell_type": "markdown",
   "metadata": {},
   "source": [
    "#### Outlier detection and removal"
   ]
  },
  {
   "cell_type": "markdown",
   "metadata": {},
   "source": [
    "We will determine the upper limits of outliers, remove the outliers and store them in a separate DataFrame, and continue working with the filtered data. "
   ]
  },
  {
   "cell_type": "code",
   "execution_count": 359,
   "metadata": {},
   "outputs": [
    {
     "name": "stdout",
     "output_type": "stream",
     "text": [
      "The inter-quartile range are - calls made: 41.0, call duration: 307.00, messages sent: 48.0,  mb used: 9216.00, and revenue: 46.52\n",
      "\n",
      "The upper bound are - calls made: 140.5, call duration: 1032.50, messages sent: 123.0,  mb used: 35328.00, and revenue: 139.78\n",
      "\n",
      "The lower bound are - calls made: -23.5, call duration: -195.50, messages sent: -69.0,  mb used: -1536.00, and revenue: -46.30\n"
     ]
    }
   ],
   "source": [
    "# upper limit of the outliers\n",
    "telecom = agg_df[['calls made', 'call duration', 'messages sent', 'mb used', 'revenue']]\n",
    "iqr = telecom.quantile(0.75) - telecom.quantile(0.25)\n",
    "telecom_outliers_upper = telecom.quantile(0.75) + iqr*1.5\n",
    "telecom_outliers_lower = telecom.quantile(0.25) - iqr*1.5\n",
    "print('The inter-quartile range are - calls made: {}, call duration: {:.2f}, messages sent: {},  mb used: {:.2f}, and revenue: {:.2f}'.format(*iqr))\n",
    "print()\n",
    "print('The upper bound are - calls made: {}, call duration: {:.2f}, messages sent: {},  mb used: {:.2f}, and revenue: {:.2f}'.format(*telecom_outliers_upper))\n",
    "print()\n",
    "print('The lower bound are - calls made: {}, call duration: {:.2f}, messages sent: {},  mb used: {:.2f}, and revenue: {:.2f}'.format(*telecom_outliers_lower))"
   ]
  },
  {
   "cell_type": "code",
   "execution_count": 360,
   "metadata": {},
   "outputs": [
    {
     "data": {
      "text/plain": [
       "array([[-1.36030011, -1.29210377, -0.65075944, -1.90782275,  0.12118159],\n",
       "       [-1.57637953, -1.56721445,  3.10702167,  1.94105774,  0.42151554],\n",
       "       [-1.79245895, -1.77460558, -0.53332878, -1.77952673,  0.12118159],\n",
       "       ...,\n",
       "       [-0.46511394, -0.51332891, -0.97369375,  0.0166175 , -0.52239115],\n",
       "       [-0.21816604, -0.18742856, -0.97369375,  0.40150554,  0.12118159],\n",
       "       [-0.5885879 , -0.35249497, -0.97369375, -0.49656657, -0.95143964]])"
      ]
     },
     "execution_count": 360,
     "metadata": {},
     "output_type": "execute_result"
    }
   ],
   "source": [
    "# import stats from scipy\n",
    "from scipy import stats\n",
    "\n",
    "# z-score for 'calls made', 'call duration', 'messages sent', 'mb used', 'revenue'\n",
    "stats.zscore(telecom)"
   ]
  },
  {
   "cell_type": "code",
   "execution_count": 361,
   "metadata": {},
   "outputs": [
    {
     "data": {
      "text/html": [
       "<div>\n",
       "<style scoped>\n",
       "    .dataframe tbody tr th:only-of-type {\n",
       "        vertical-align: middle;\n",
       "    }\n",
       "\n",
       "    .dataframe tbody tr th {\n",
       "        vertical-align: top;\n",
       "    }\n",
       "\n",
       "    .dataframe thead th {\n",
       "        text-align: right;\n",
       "    }\n",
       "</style>\n",
       "<table border=\"1\" class=\"dataframe\">\n",
       "  <thead>\n",
       "    <tr style=\"text-align: right;\">\n",
       "      <th></th>\n",
       "      <th>calls made</th>\n",
       "      <th>call duration</th>\n",
       "      <th>messages sent</th>\n",
       "      <th>mb used</th>\n",
       "      <th>revenue</th>\n",
       "    </tr>\n",
       "  </thead>\n",
       "  <tbody>\n",
       "    <tr>\n",
       "      <td>0</td>\n",
       "      <td>16.0</td>\n",
       "      <td>124.0</td>\n",
       "      <td>11.0</td>\n",
       "      <td>2048.0</td>\n",
       "      <td>70.0</td>\n",
       "    </tr>\n",
       "    <tr>\n",
       "      <td>1</td>\n",
       "      <td>2.0</td>\n",
       "      <td>10.0</td>\n",
       "      <td>15.0</td>\n",
       "      <td>3072.0</td>\n",
       "      <td>70.0</td>\n",
       "    </tr>\n",
       "    <tr>\n",
       "      <td>2</td>\n",
       "      <td>85.0</td>\n",
       "      <td>634.0</td>\n",
       "      <td>26.0</td>\n",
       "      <td>15360.0</td>\n",
       "      <td>70.0</td>\n",
       "    </tr>\n",
       "    <tr>\n",
       "      <td>3</td>\n",
       "      <td>63.0</td>\n",
       "      <td>446.0</td>\n",
       "      <td>37.0</td>\n",
       "      <td>24576.0</td>\n",
       "      <td>70.0</td>\n",
       "    </tr>\n",
       "    <tr>\n",
       "      <td>4</td>\n",
       "      <td>71.0</td>\n",
       "      <td>476.0</td>\n",
       "      <td>21.0</td>\n",
       "      <td>17408.0</td>\n",
       "      <td>70.0</td>\n",
       "    </tr>\n",
       "    <tr>\n",
       "      <td>...</td>\n",
       "      <td>...</td>\n",
       "      <td>...</td>\n",
       "      <td>...</td>\n",
       "      <td>...</td>\n",
       "      <td>...</td>\n",
       "    </tr>\n",
       "    <tr>\n",
       "      <td>2186</td>\n",
       "      <td>45.0</td>\n",
       "      <td>363.0</td>\n",
       "      <td>0.0</td>\n",
       "      <td>23552.0</td>\n",
       "      <td>100.0</td>\n",
       "    </tr>\n",
       "    <tr>\n",
       "      <td>2187</td>\n",
       "      <td>65.0</td>\n",
       "      <td>496.0</td>\n",
       "      <td>0.0</td>\n",
       "      <td>22528.0</td>\n",
       "      <td>90.0</td>\n",
       "    </tr>\n",
       "    <tr>\n",
       "      <td>2188</td>\n",
       "      <td>45.0</td>\n",
       "      <td>308.0</td>\n",
       "      <td>0.0</td>\n",
       "      <td>17408.0</td>\n",
       "      <td>40.0</td>\n",
       "    </tr>\n",
       "    <tr>\n",
       "      <td>2189</td>\n",
       "      <td>53.0</td>\n",
       "      <td>385.0</td>\n",
       "      <td>0.0</td>\n",
       "      <td>20480.0</td>\n",
       "      <td>70.0</td>\n",
       "    </tr>\n",
       "    <tr>\n",
       "      <td>2190</td>\n",
       "      <td>41.0</td>\n",
       "      <td>346.0</td>\n",
       "      <td>0.0</td>\n",
       "      <td>13312.0</td>\n",
       "      <td>20.0</td>\n",
       "    </tr>\n",
       "  </tbody>\n",
       "</table>\n",
       "<p>2191 rows × 5 columns</p>\n",
       "</div>"
      ],
      "text/plain": [
       "      calls made  call duration  messages sent  mb used  revenue\n",
       "0           16.0          124.0           11.0   2048.0     70.0\n",
       "1            2.0           10.0           15.0   3072.0     70.0\n",
       "2           85.0          634.0           26.0  15360.0     70.0\n",
       "3           63.0          446.0           37.0  24576.0     70.0\n",
       "4           71.0          476.0           21.0  17408.0     70.0\n",
       "...          ...            ...            ...      ...      ...\n",
       "2186        45.0          363.0            0.0  23552.0    100.0\n",
       "2187        65.0          496.0            0.0  22528.0     90.0\n",
       "2188        45.0          308.0            0.0  17408.0     40.0\n",
       "2189        53.0          385.0            0.0  20480.0     70.0\n",
       "2190        41.0          346.0            0.0  13312.0     20.0\n",
       "\n",
       "[2191 rows x 5 columns]"
      ]
     },
     "execution_count": 361,
     "metadata": {},
     "output_type": "execute_result"
    }
   ],
   "source": [
    "# filtered dataset\n",
    "telecom_filtered = telecom[(np.abs(stats.zscore(telecom)) < 3).all(axis=1)]\n",
    "telecom_filtered = telecom_filtered.reset_index(drop=True, inplace=False)\n",
    "telecom_filtered"
   ]
  },
  {
   "cell_type": "code",
   "execution_count": 362,
   "metadata": {},
   "outputs": [
    {
     "data": {
      "text/html": [
       "<div>\n",
       "<style scoped>\n",
       "    .dataframe tbody tr th:only-of-type {\n",
       "        vertical-align: middle;\n",
       "    }\n",
       "\n",
       "    .dataframe tbody tr th {\n",
       "        vertical-align: top;\n",
       "    }\n",
       "\n",
       "    .dataframe thead th {\n",
       "        text-align: right;\n",
       "    }\n",
       "</style>\n",
       "<table border=\"1\" class=\"dataframe\">\n",
       "  <thead>\n",
       "    <tr style=\"text-align: right;\">\n",
       "      <th></th>\n",
       "      <th>calls made</th>\n",
       "      <th>call duration</th>\n",
       "      <th>messages sent</th>\n",
       "      <th>mb used</th>\n",
       "      <th>revenue</th>\n",
       "    </tr>\n",
       "  </thead>\n",
       "  <tbody>\n",
       "    <tr>\n",
       "      <td>count</td>\n",
       "      <td>2191.000000</td>\n",
       "      <td>2191.000000</td>\n",
       "      <td>2191.000000</td>\n",
       "      <td>2191.000000</td>\n",
       "      <td>2191.000000</td>\n",
       "    </tr>\n",
       "    <tr>\n",
       "      <td>mean</td>\n",
       "      <td>58.340484</td>\n",
       "      <td>416.820630</td>\n",
       "      <td>30.577362</td>\n",
       "      <td>16677.506162</td>\n",
       "      <td>59.596919</td>\n",
       "    </tr>\n",
       "    <tr>\n",
       "      <td>std</td>\n",
       "      <td>30.152095</td>\n",
       "      <td>220.277704</td>\n",
       "      <td>29.843065</td>\n",
       "      <td>7130.831165</td>\n",
       "      <td>35.069814</td>\n",
       "    </tr>\n",
       "    <tr>\n",
       "      <td>min</td>\n",
       "      <td>0.000000</td>\n",
       "      <td>0.000000</td>\n",
       "      <td>0.000000</td>\n",
       "      <td>0.000000</td>\n",
       "      <td>20.000000</td>\n",
       "    </tr>\n",
       "    <tr>\n",
       "      <td>25%</td>\n",
       "      <td>37.000000</td>\n",
       "      <td>260.000000</td>\n",
       "      <td>3.000000</td>\n",
       "      <td>12288.000000</td>\n",
       "      <td>22.430000</td>\n",
       "    </tr>\n",
       "    <tr>\n",
       "      <td>50%</td>\n",
       "      <td>59.000000</td>\n",
       "      <td>418.000000</td>\n",
       "      <td>24.000000</td>\n",
       "      <td>17408.000000</td>\n",
       "      <td>70.000000</td>\n",
       "    </tr>\n",
       "    <tr>\n",
       "      <td>75%</td>\n",
       "      <td>78.000000</td>\n",
       "      <td>562.000000</td>\n",
       "      <td>49.000000</td>\n",
       "      <td>21504.000000</td>\n",
       "      <td>70.000000</td>\n",
       "    </tr>\n",
       "    <tr>\n",
       "      <td>max</td>\n",
       "      <td>155.000000</td>\n",
       "      <td>1131.000000</td>\n",
       "      <td>134.000000</td>\n",
       "      <td>40960.000000</td>\n",
       "      <td>201.830000</td>\n",
       "    </tr>\n",
       "  </tbody>\n",
       "</table>\n",
       "</div>"
      ],
      "text/plain": [
       "        calls made  call duration  messages sent       mb used      revenue\n",
       "count  2191.000000    2191.000000    2191.000000   2191.000000  2191.000000\n",
       "mean     58.340484     416.820630      30.577362  16677.506162    59.596919\n",
       "std      30.152095     220.277704      29.843065   7130.831165    35.069814\n",
       "min       0.000000       0.000000       0.000000      0.000000    20.000000\n",
       "25%      37.000000     260.000000       3.000000  12288.000000    22.430000\n",
       "50%      59.000000     418.000000      24.000000  17408.000000    70.000000\n",
       "75%      78.000000     562.000000      49.000000  21504.000000    70.000000\n",
       "max     155.000000    1131.000000     134.000000  40960.000000   201.830000"
      ]
     },
     "execution_count": 362,
     "metadata": {},
     "output_type": "execute_result"
    }
   ],
   "source": [
    "# describe the filtered data\n",
    "telecom_filtered.describe()"
   ]
  },
  {
   "cell_type": "code",
   "execution_count": 363,
   "metadata": {},
   "outputs": [
    {
     "data": {
      "image/png": "[encoded data removed]",
      "text/plain": [
       "<Figure size 1080x720 with 6 Axes>"
      ]
     },
     "metadata": {
      "needs_background": "light"
     },
     "output_type": "display_data"
    }
   ],
   "source": [
    "# plot histogram of filtered data\n",
    "telecom_filtered[['calls made', 'call duration', 'messages sent', 'mb used', 'revenue']].hist(bins=30, figsize=(15, 10))\n",
    "plt.suptitle('Histogram of selected parameters in filtered data', y=0.95);"
   ]
  },
  {
   "cell_type": "markdown",
   "metadata": {},
   "source": [
    "Before removing outliers, we had high values in the histogram of the data. After removing outliers using the Z-score technique, we observe from the histogram that the mean is closer to the median, and the distribution of the data is closer to a normal distribution than before."
   ]
  },
  {
   "cell_type": "markdown",
   "metadata": {},
   "source": [
    "#### Conclusion"
   ]
  },
  {
   "cell_type": "markdown",
   "metadata": {},
   "source": [
    "We detected outlier in the data from the initial histogram plotted. We use the `stats` package in scipy to determine the Z-score and filter the data to obtain the distribution where the mean is 0 and the standard deviation is 1. We have successfully removed outliers from the data. By looking at the statistics of the filtered data, we can see that outliers have been removed."
   ]
  },
  {
   "cell_type": "markdown",
   "metadata": {},
   "source": [
    "#### Describe the customers' behavior"
   ]
  },
  {
   "cell_type": "markdown",
   "metadata": {},
   "source": [
    "###### Find the minutes the users of each plan require per month"
   ]
  },
  {
   "cell_type": "code",
   "execution_count": 364,
   "metadata": {},
   "outputs": [
    {
     "data": {
      "text/html": [
       "<div>\n",
       "<style scoped>\n",
       "    .dataframe tbody tr th:only-of-type {\n",
       "        vertical-align: middle;\n",
       "    }\n",
       "\n",
       "    .dataframe tbody tr th {\n",
       "        vertical-align: top;\n",
       "    }\n",
       "\n",
       "    .dataframe thead th {\n",
       "        text-align: right;\n",
       "    }\n",
       "</style>\n",
       "<table border=\"1\" class=\"dataframe\">\n",
       "  <thead>\n",
       "    <tr style=\"text-align: right;\">\n",
       "      <th></th>\n",
       "      <th>mean</th>\n",
       "      <th>var</th>\n",
       "      <th>std</th>\n",
       "    </tr>\n",
       "    <tr>\n",
       "      <th>plan</th>\n",
       "      <th></th>\n",
       "      <th></th>\n",
       "      <th></th>\n",
       "    </tr>\n",
       "  </thead>\n",
       "  <tbody>\n",
       "    <tr>\n",
       "      <td>surf</td>\n",
       "      <td>428.749523</td>\n",
       "      <td>54968.279461</td>\n",
       "      <td>234.453150</td>\n",
       "    </tr>\n",
       "    <tr>\n",
       "      <td>ultimate</td>\n",
       "      <td>430.450000</td>\n",
       "      <td>57844.464812</td>\n",
       "      <td>240.508762</td>\n",
       "    </tr>\n",
       "  </tbody>\n",
       "</table>\n",
       "</div>"
      ],
      "text/plain": [
       "                mean           var         std\n",
       "plan                                          \n",
       "surf      428.749523  54968.279461  234.453150\n",
       "ultimate  430.450000  57844.464812  240.508762"
      ]
     },
     "execution_count": 364,
     "metadata": {},
     "output_type": "execute_result"
    }
   ],
   "source": [
    "# minutes users of each plan require per month\n",
    "agg_df.groupby('plan')['call duration'].agg([np.mean, np.var, np.std])"
   ]
  },
  {
   "cell_type": "markdown",
   "metadata": {},
   "source": [
    "What's the difference in average monthly call duration for customers in the two plans?"
   ]
  },
  {
   "cell_type": "code",
   "execution_count": 365,
   "metadata": {},
   "outputs": [
    {
     "data": {
      "text/html": [
       "<div>\n",
       "<style scoped>\n",
       "    .dataframe tbody tr th:only-of-type {\n",
       "        vertical-align: middle;\n",
       "    }\n",
       "\n",
       "    .dataframe tbody tr th {\n",
       "        vertical-align: top;\n",
       "    }\n",
       "\n",
       "    .dataframe thead th {\n",
       "        text-align: right;\n",
       "    }\n",
       "</style>\n",
       "<table border=\"1\" class=\"dataframe\">\n",
       "  <thead>\n",
       "    <tr style=\"text-align: right;\">\n",
       "      <th></th>\n",
       "      <th>count</th>\n",
       "      <th>mean</th>\n",
       "      <th>std</th>\n",
       "      <th>min</th>\n",
       "      <th>25%</th>\n",
       "      <th>50%</th>\n",
       "      <th>75%</th>\n",
       "      <th>max</th>\n",
       "    </tr>\n",
       "    <tr>\n",
       "      <th>plan</th>\n",
       "      <th></th>\n",
       "      <th></th>\n",
       "      <th></th>\n",
       "      <th></th>\n",
       "      <th></th>\n",
       "      <th></th>\n",
       "      <th></th>\n",
       "      <th></th>\n",
       "    </tr>\n",
       "  </thead>\n",
       "  <tbody>\n",
       "    <tr>\n",
       "      <td>surf</td>\n",
       "      <td>1573.0</td>\n",
       "      <td>428.749523</td>\n",
       "      <td>234.453150</td>\n",
       "      <td>0.0</td>\n",
       "      <td>272.0</td>\n",
       "      <td>425.0</td>\n",
       "      <td>576.00</td>\n",
       "      <td>1510.0</td>\n",
       "    </tr>\n",
       "    <tr>\n",
       "      <td>ultimate</td>\n",
       "      <td>720.0</td>\n",
       "      <td>430.450000</td>\n",
       "      <td>240.508762</td>\n",
       "      <td>0.0</td>\n",
       "      <td>260.0</td>\n",
       "      <td>424.0</td>\n",
       "      <td>565.25</td>\n",
       "      <td>1369.0</td>\n",
       "    </tr>\n",
       "  </tbody>\n",
       "</table>\n",
       "</div>"
      ],
      "text/plain": [
       "           count        mean         std  min    25%    50%     75%     max\n",
       "plan                                                                       \n",
       "surf      1573.0  428.749523  234.453150  0.0  272.0  425.0  576.00  1510.0\n",
       "ultimate   720.0  430.450000  240.508762  0.0  260.0  424.0  565.25  1369.0"
      ]
     },
     "execution_count": 365,
     "metadata": {},
     "output_type": "execute_result"
    }
   ],
   "source": [
    "# difference in average monthly call duration\n",
    "agg_df.groupby('plan')['call duration']. describe()"
   ]
  },
  {
   "cell_type": "markdown",
   "metadata": {},
   "source": [
    "From the above calculation, we observe that the users in the ultimate plan spend more minutes per month than users in the surf plan. Let's see if we get the same result if we remove outliers in the data."
   ]
  },
  {
   "cell_type": "code",
   "execution_count": 366,
   "metadata": {},
   "outputs": [
    {
     "data": {
      "text/html": [
       "<div>\n",
       "<style scoped>\n",
       "    .dataframe tbody tr th:only-of-type {\n",
       "        vertical-align: middle;\n",
       "    }\n",
       "\n",
       "    .dataframe tbody tr th {\n",
       "        vertical-align: top;\n",
       "    }\n",
       "\n",
       "    .dataframe thead th {\n",
       "        text-align: right;\n",
       "    }\n",
       "</style>\n",
       "<table border=\"1\" class=\"dataframe\">\n",
       "  <thead>\n",
       "    <tr style=\"text-align: right;\">\n",
       "      <th></th>\n",
       "      <th>calls made</th>\n",
       "      <th>call duration</th>\n",
       "      <th>messages sent</th>\n",
       "      <th>mb used</th>\n",
       "      <th>revenue</th>\n",
       "    </tr>\n",
       "  </thead>\n",
       "  <tbody>\n",
       "    <tr>\n",
       "      <td>count</td>\n",
       "      <td>677.000000</td>\n",
       "      <td>677.000000</td>\n",
       "      <td>677.000000</td>\n",
       "      <td>677.000000</td>\n",
       "      <td>677.000000</td>\n",
       "    </tr>\n",
       "    <tr>\n",
       "      <td>mean</td>\n",
       "      <td>58.970458</td>\n",
       "      <td>418.196455</td>\n",
       "      <td>34.302806</td>\n",
       "      <td>16877.093058</td>\n",
       "      <td>70.568685</td>\n",
       "    </tr>\n",
       "    <tr>\n",
       "      <td>std</td>\n",
       "      <td>29.979860</td>\n",
       "      <td>216.700769</td>\n",
       "      <td>31.274291</td>\n",
       "      <td>6916.348803</td>\n",
       "      <td>3.677063</td>\n",
       "    </tr>\n",
       "    <tr>\n",
       "      <td>min</td>\n",
       "      <td>0.000000</td>\n",
       "      <td>0.000000</td>\n",
       "      <td>0.000000</td>\n",
       "      <td>0.000000</td>\n",
       "      <td>70.000000</td>\n",
       "    </tr>\n",
       "    <tr>\n",
       "      <td>25%</td>\n",
       "      <td>36.000000</td>\n",
       "      <td>260.000000</td>\n",
       "      <td>5.000000</td>\n",
       "      <td>13312.000000</td>\n",
       "      <td>70.000000</td>\n",
       "    </tr>\n",
       "    <tr>\n",
       "      <td>50%</td>\n",
       "      <td>60.000000</td>\n",
       "      <td>420.000000</td>\n",
       "      <td>28.000000</td>\n",
       "      <td>17408.000000</td>\n",
       "      <td>70.000000</td>\n",
       "    </tr>\n",
       "    <tr>\n",
       "      <td>75%</td>\n",
       "      <td>78.000000</td>\n",
       "      <td>546.000000</td>\n",
       "      <td>56.000000</td>\n",
       "      <td>20480.000000</td>\n",
       "      <td>70.000000</td>\n",
       "    </tr>\n",
       "    <tr>\n",
       "      <td>max</td>\n",
       "      <td>159.000000</td>\n",
       "      <td>1111.000000</td>\n",
       "      <td>139.000000</td>\n",
       "      <td>35840.000000</td>\n",
       "      <td>105.000000</td>\n",
       "    </tr>\n",
       "  </tbody>\n",
       "</table>\n",
       "</div>"
      ],
      "text/plain": [
       "       calls made  call duration  messages sent       mb used     revenue\n",
       "count  677.000000     677.000000     677.000000    677.000000  677.000000\n",
       "mean    58.970458     418.196455      34.302806  16877.093058   70.568685\n",
       "std     29.979860     216.700769      31.274291   6916.348803    3.677063\n",
       "min      0.000000       0.000000       0.000000      0.000000   70.000000\n",
       "25%     36.000000     260.000000       5.000000  13312.000000   70.000000\n",
       "50%     60.000000     420.000000      28.000000  17408.000000   70.000000\n",
       "75%     78.000000     546.000000      56.000000  20480.000000   70.000000\n",
       "max    159.000000    1111.000000     139.000000  35840.000000  105.000000"
      ]
     },
     "execution_count": 366,
     "metadata": {},
     "output_type": "execute_result"
    }
   ],
   "source": [
    "# extract filtered data for the ultimate plan\n",
    "ultimate_data = agg_df.query(\"plan == 'ultimate'\")\n",
    "ultimate_plan = ultimate_data[['calls made', 'call duration', 'messages sent', 'mb used', 'revenue']]\n",
    "\n",
    "ultimate_plan_filtered = ultimate_plan[(np.abs(stats.zscore(ultimate_plan)) < 3).all(axis=1)]\n",
    "ultimate_plan_filtered = ultimate_plan_filtered.reset_index(drop=True, inplace=False)\n",
    "ultimate_plan_filtered.describe()"
   ]
  },
  {
   "cell_type": "code",
   "execution_count": 367,
   "metadata": {},
   "outputs": [
    {
     "name": "stdout",
     "output_type": "stream",
     "text": [
      "Variance of the calls made is 898.79\n",
      "Variance of the call duration is 46959.22\n",
      "Variance of the messages sent is 978.08\n",
      "Variance of the mb used is 47835880.77\n",
      "Variance of the revenue is 13.52\n"
     ]
    }
   ],
   "source": [
    "# variance of the ultimate plan\n",
    "for column in ultimate_plan_filtered:\n",
    "    ultimate_plan_filtered[column].var()\n",
    "    print('Variance of the ' + column + ' is {: >5.2f}'.format(ultimate_plan_filtered[column].var()))"
   ]
  },
  {
   "cell_type": "markdown",
   "metadata": {},
   "source": [
    "From the above `describe()` method, we determined that `ultimate` users on the average make 58 calls, use 418 minutes per month, sent about 34 messages, and use 16877 MB of data per month. The variance of the data for ultimate user is 898.79 calls made and 978 messages sent."
   ]
  },
  {
   "cell_type": "code",
   "execution_count": 368,
   "metadata": {},
   "outputs": [
    {
     "data": {
      "text/html": [
       "<div>\n",
       "<style scoped>\n",
       "    .dataframe tbody tr th:only-of-type {\n",
       "        vertical-align: middle;\n",
       "    }\n",
       "\n",
       "    .dataframe tbody tr th {\n",
       "        vertical-align: top;\n",
       "    }\n",
       "\n",
       "    .dataframe thead th {\n",
       "        text-align: right;\n",
       "    }\n",
       "</style>\n",
       "<table border=\"1\" class=\"dataframe\">\n",
       "  <thead>\n",
       "    <tr style=\"text-align: right;\">\n",
       "      <th></th>\n",
       "      <th>calls made</th>\n",
       "      <th>call duration</th>\n",
       "      <th>messages sent</th>\n",
       "      <th>mb used</th>\n",
       "      <th>revenue</th>\n",
       "    </tr>\n",
       "  </thead>\n",
       "  <tbody>\n",
       "    <tr>\n",
       "      <td>count</td>\n",
       "      <td>1508.000000</td>\n",
       "      <td>1508.000000</td>\n",
       "      <td>1508.000000</td>\n",
       "      <td>1508.000000</td>\n",
       "      <td>1508.000000</td>\n",
       "    </tr>\n",
       "    <tr>\n",
       "      <td>mean</td>\n",
       "      <td>58.357427</td>\n",
       "      <td>418.277188</td>\n",
       "      <td>28.301724</td>\n",
       "      <td>16553.761273</td>\n",
       "      <td>55.500756</td>\n",
       "    </tr>\n",
       "    <tr>\n",
       "      <td>std</td>\n",
       "      <td>30.313364</td>\n",
       "      <td>222.179680</td>\n",
       "      <td>28.408758</td>\n",
       "      <td>7093.722639</td>\n",
       "      <td>43.459006</td>\n",
       "    </tr>\n",
       "    <tr>\n",
       "      <td>min</td>\n",
       "      <td>0.000000</td>\n",
       "      <td>0.000000</td>\n",
       "      <td>0.000000</td>\n",
       "      <td>0.000000</td>\n",
       "      <td>20.000000</td>\n",
       "    </tr>\n",
       "    <tr>\n",
       "      <td>25%</td>\n",
       "      <td>38.000000</td>\n",
       "      <td>263.000000</td>\n",
       "      <td>2.000000</td>\n",
       "      <td>12288.000000</td>\n",
       "      <td>20.000000</td>\n",
       "    </tr>\n",
       "    <tr>\n",
       "      <td>50%</td>\n",
       "      <td>59.000000</td>\n",
       "      <td>416.500000</td>\n",
       "      <td>23.000000</td>\n",
       "      <td>17408.000000</td>\n",
       "      <td>40.000000</td>\n",
       "    </tr>\n",
       "    <tr>\n",
       "      <td>75%</td>\n",
       "      <td>78.000000</td>\n",
       "      <td>565.000000</td>\n",
       "      <td>44.000000</td>\n",
       "      <td>21504.000000</td>\n",
       "      <td>80.000000</td>\n",
       "    </tr>\n",
       "    <tr>\n",
       "      <td>max</td>\n",
       "      <td>155.000000</td>\n",
       "      <td>1131.000000</td>\n",
       "      <td>130.000000</td>\n",
       "      <td>35840.000000</td>\n",
       "      <td>224.230000</td>\n",
       "    </tr>\n",
       "  </tbody>\n",
       "</table>\n",
       "</div>"
      ],
      "text/plain": [
       "        calls made  call duration  messages sent       mb used      revenue\n",
       "count  1508.000000    1508.000000    1508.000000   1508.000000  1508.000000\n",
       "mean     58.357427     418.277188      28.301724  16553.761273    55.500756\n",
       "std      30.313364     222.179680      28.408758   7093.722639    43.459006\n",
       "min       0.000000       0.000000       0.000000      0.000000    20.000000\n",
       "25%      38.000000     263.000000       2.000000  12288.000000    20.000000\n",
       "50%      59.000000     416.500000      23.000000  17408.000000    40.000000\n",
       "75%      78.000000     565.000000      44.000000  21504.000000    80.000000\n",
       "max     155.000000    1131.000000     130.000000  35840.000000   224.230000"
      ]
     },
     "execution_count": 368,
     "metadata": {},
     "output_type": "execute_result"
    }
   ],
   "source": [
    "# extract filtered data for the surf plan\n",
    "surf_data = agg_df.query(\"plan == 'surf'\")\n",
    "surf_plan = surf_data[['calls made', 'call duration', 'messages sent', 'mb used', 'revenue']]\n",
    "\n",
    "surf_plan_filtered = surf_plan[(np.abs(stats.zscore(surf_plan)) < 3).all(axis=1)]\n",
    "surf_plan_filtered = surf_plan_filtered.reset_index(drop=True, inplace=False)\n",
    "surf_plan_filtered.describe()"
   ]
  },
  {
   "cell_type": "code",
   "execution_count": 369,
   "metadata": {},
   "outputs": [
    {
     "name": "stdout",
     "output_type": "stream",
     "text": [
      "Variance of calls made is: 918.90\n",
      "Variance of call duration is: 49363.81\n",
      "Variance of messages sent is: 807.06\n",
      "Variance of mb used is: 50320900.88\n",
      "Variance of revenue is: 1888.69\n"
     ]
    }
   ],
   "source": [
    "# variance for the surf plan\n",
    "for column in surf_plan_filtered:\n",
    "    surf_plan_filtered[column].var()\n",
    "    print('Variance of ' + column + ' is: {: >5.2f}'.format(surf_plan_filtered[column].var()))"
   ]
  },
  {
   "cell_type": "markdown",
   "metadata": {},
   "source": [
    "Similarly when we use the `describe()` method on the data for `surf` users, we can see that on the average users make 58 calls, use 418 minutes per month, sent about 28 messages, and use 16553 MB of data per month. The variance of the data for surf user is 918.90 calls made and 807 messages sent."
   ]
  },
  {
   "cell_type": "code",
   "execution_count": 370,
   "metadata": {},
   "outputs": [
    {
     "data": {
      "image/png": "[encoded data removed]",
      "text/plain": [
       "<Figure size 432x360 with 1 Axes>"
      ]
     },
     "metadata": {
      "needs_background": "light"
     },
     "output_type": "display_data"
    }
   ],
   "source": [
    "# histogram of number of calls per month\n",
    "plt.figure(figsize=(6,5))\n",
    "plt.hist(ultimate_plan_filtered['calls made'], bins=20, alpha=0.5, label='ultimate')\n",
    "plt.hist(surf_plan_filtered['calls made'], bins=20, alpha=0.5, label='surf')\n",
    "\n",
    "plt.xlabel('Calls count', size=10)\n",
    "plt.ylabel('Count', size=10)\n",
    "plt.title('Overlay of histogram for number of calls made per month')\n",
    "plt.legend(loc='upper right');"
   ]
  },
  {
   "cell_type": "markdown",
   "metadata": {},
   "source": [
    "We first plotted an overlay of histogram to visually compare the distribution of number of calls per month across plans. From the overlay of histogram plot, we can see that the `surf` plan had the most representation for the number of calls per month. "
   ]
  },
  {
   "cell_type": "code",
   "execution_count": 371,
   "metadata": {},
   "outputs": [
    {
     "data": {
      "image/png": "[encoded data removed]",
      "text/plain": [
       "<Figure size 432x288 with 1 Axes>"
      ]
     },
     "metadata": {
      "needs_background": "light"
     },
     "output_type": "display_data"
    }
   ],
   "source": [
    "# density histogram showing frequency density of number of calls per month\n",
    "plt.hist([ultimate_plan_filtered['calls made'], surf_plan_filtered['calls made']], label= ['ultimate', 'surf'], density = True)\n",
    "plt.legend()\n",
    "plt.ylabel('Frequency Density')\n",
    "plt.xlabel('Number of calls')\n",
    "plt.title('Frequency density of number of calls per month');"
   ]
  },
  {
   "cell_type": "markdown",
   "metadata": {},
   "source": [
    "We compare the frequency density distribution of number of calls for each user per month in order to compare values across groups. We did this by plotting a grouped density histogram where multiple distributions are plotted in a single plot. Looking at the plot, the `surf` plan had the most number of calls per month than the `ultimate` plan. With the frequency density plot, we can see the number of calls made per users across phone plan. We can see at a glance that the `surf` plan has more number of calls than the `ultimate` plan."
   ]
  },
  {
   "cell_type": "code",
   "execution_count": 372,
   "metadata": {},
   "outputs": [
    {
     "data": {
      "image/png": "[encoded data removed]",
      "text/plain": [
       "<Figure size 432x360 with 1 Axes>"
      ]
     },
     "metadata": {
      "needs_background": "light"
     },
     "output_type": "display_data"
    }
   ],
   "source": [
    "# histogram of call duration per month\n",
    "plt.figure(figsize=(6,5))\n",
    "plt.hist(ultimate_plan_filtered['call duration'], bins=20, alpha=0.5, label='ultimate')\n",
    "plt.hist(surf_plan_filtered['call duration'], bins=20, alpha=0.5, label='surf')\n",
    "\n",
    "plt.xlabel('Call duration', size=10)\n",
    "plt.ylabel('Count', size=10)\n",
    "plt.title('Histogram of call duration for users per month')\n",
    "plt.legend(loc='upper right');"
   ]
  },
  {
   "cell_type": "code",
   "execution_count": 373,
   "metadata": {},
   "outputs": [
    {
     "data": {
      "image/png": "[encoded data removed]",
      "text/plain": [
       "<Figure size 432x288 with 1 Axes>"
      ]
     },
     "metadata": {
      "needs_background": "light"
     },
     "output_type": "display_data"
    }
   ],
   "source": [
    "# density histogram showing frequency density of call duration per month\n",
    "plt.hist([ultimate_plan_filtered['call duration'], surf_plan_filtered['call duration']], label= ['ultimate', 'surf'], density = True)\n",
    "plt.legend()\n",
    "plt.ylabel('Frequency Density')\n",
    "plt.xlabel('Call duration')\n",
    "plt.title('Frequency density of call duration for users per month');"
   ]
  },
  {
   "cell_type": "markdown",
   "metadata": {},
   "source": [
    "**Conclusion:** From the overlay of histogram plot, we can see that `ultimate` plan has more call duration per month than users in the `surf` plan even though on the average users on the `surf` plan made more calls than users in the `ultimate` plan."
   ]
  },
  {
   "cell_type": "markdown",
   "metadata": {},
   "source": [
    "###### Find the messages the users of each plan send per month"
   ]
  },
  {
   "cell_type": "code",
   "execution_count": 374,
   "metadata": {},
   "outputs": [
    {
     "data": {
      "text/html": [
       "<div>\n",
       "<style scoped>\n",
       "    .dataframe tbody tr th:only-of-type {\n",
       "        vertical-align: middle;\n",
       "    }\n",
       "\n",
       "    .dataframe tbody tr th {\n",
       "        vertical-align: top;\n",
       "    }\n",
       "\n",
       "    .dataframe thead th {\n",
       "        text-align: right;\n",
       "    }\n",
       "</style>\n",
       "<table border=\"1\" class=\"dataframe\">\n",
       "  <thead>\n",
       "    <tr style=\"text-align: right;\">\n",
       "      <th></th>\n",
       "      <th>mean</th>\n",
       "      <th>var</th>\n",
       "      <th>std</th>\n",
       "    </tr>\n",
       "    <tr>\n",
       "      <th>plan</th>\n",
       "      <th></th>\n",
       "      <th></th>\n",
       "      <th></th>\n",
       "    </tr>\n",
       "  </thead>\n",
       "  <tbody>\n",
       "    <tr>\n",
       "      <td>surf</td>\n",
       "      <td>31.159568</td>\n",
       "      <td>1126.724522</td>\n",
       "      <td>33.566717</td>\n",
       "    </tr>\n",
       "    <tr>\n",
       "      <td>ultimate</td>\n",
       "      <td>37.551389</td>\n",
       "      <td>1208.756744</td>\n",
       "      <td>34.767179</td>\n",
       "    </tr>\n",
       "  </tbody>\n",
       "</table>\n",
       "</div>"
      ],
      "text/plain": [
       "               mean          var        std\n",
       "plan                                       \n",
       "surf      31.159568  1126.724522  33.566717\n",
       "ultimate  37.551389  1208.756744  34.767179"
      ]
     },
     "execution_count": 374,
     "metadata": {},
     "output_type": "execute_result"
    }
   ],
   "source": [
    "# messages users of each plan send per month\n",
    "agg_df.groupby('plan')['messages sent'].agg([np.mean, np.var, np.std])"
   ]
  },
  {
   "cell_type": "markdown",
   "metadata": {},
   "source": [
    "What's the difference in average message sent for customers in the two plans?"
   ]
  },
  {
   "cell_type": "code",
   "execution_count": 375,
   "metadata": {},
   "outputs": [
    {
     "data": {
      "text/html": [
       "<div>\n",
       "<style scoped>\n",
       "    .dataframe tbody tr th:only-of-type {\n",
       "        vertical-align: middle;\n",
       "    }\n",
       "\n",
       "    .dataframe tbody tr th {\n",
       "        vertical-align: top;\n",
       "    }\n",
       "\n",
       "    .dataframe thead th {\n",
       "        text-align: right;\n",
       "    }\n",
       "</style>\n",
       "<table border=\"1\" class=\"dataframe\">\n",
       "  <thead>\n",
       "    <tr style=\"text-align: right;\">\n",
       "      <th></th>\n",
       "      <th>count</th>\n",
       "      <th>mean</th>\n",
       "      <th>std</th>\n",
       "      <th>min</th>\n",
       "      <th>25%</th>\n",
       "      <th>50%</th>\n",
       "      <th>75%</th>\n",
       "      <th>max</th>\n",
       "    </tr>\n",
       "    <tr>\n",
       "      <th>plan</th>\n",
       "      <th></th>\n",
       "      <th></th>\n",
       "      <th></th>\n",
       "      <th></th>\n",
       "      <th></th>\n",
       "      <th></th>\n",
       "      <th></th>\n",
       "      <th></th>\n",
       "    </tr>\n",
       "  </thead>\n",
       "  <tbody>\n",
       "    <tr>\n",
       "      <td>surf</td>\n",
       "      <td>1573.0</td>\n",
       "      <td>31.159568</td>\n",
       "      <td>33.566717</td>\n",
       "      <td>0.0</td>\n",
       "      <td>3.0</td>\n",
       "      <td>24.0</td>\n",
       "      <td>47.0</td>\n",
       "      <td>266.0</td>\n",
       "    </tr>\n",
       "    <tr>\n",
       "      <td>ultimate</td>\n",
       "      <td>720.0</td>\n",
       "      <td>37.551389</td>\n",
       "      <td>34.767179</td>\n",
       "      <td>0.0</td>\n",
       "      <td>7.0</td>\n",
       "      <td>30.0</td>\n",
       "      <td>61.0</td>\n",
       "      <td>166.0</td>\n",
       "    </tr>\n",
       "  </tbody>\n",
       "</table>\n",
       "</div>"
      ],
      "text/plain": [
       "           count       mean        std  min  25%   50%   75%    max\n",
       "plan                                                               \n",
       "surf      1573.0  31.159568  33.566717  0.0  3.0  24.0  47.0  266.0\n",
       "ultimate   720.0  37.551389  34.767179  0.0  7.0  30.0  61.0  166.0"
      ]
     },
     "execution_count": 375,
     "metadata": {},
     "output_type": "execute_result"
    }
   ],
   "source": [
    "# difference in average monthly messages sent\n",
    "agg_df.groupby('plan')['messages sent']. describe()"
   ]
  },
  {
   "cell_type": "markdown",
   "metadata": {},
   "source": [
    "We can see that the users of the `ultimate` plan on the average sends more messages per month than users of the `surf` plan. Let's look at how this is distributed using the histogram plot."
   ]
  },
  {
   "cell_type": "code",
   "execution_count": 376,
   "metadata": {},
   "outputs": [
    {
     "data": {
      "image/png": "[encoded data removed]",
      "text/plain": [
       "<Figure size 432x360 with 1 Axes>"
      ]
     },
     "metadata": {
      "needs_background": "light"
     },
     "output_type": "display_data"
    }
   ],
   "source": [
    "# histogram of messages sent each month\n",
    "plt.figure(figsize=(6,5))\n",
    "plt.hist(ultimate_plan_filtered['messages sent'], bins=20, alpha=0.5, label='ultimate')\n",
    "plt.hist(surf_plan_filtered['messages sent'], bins=20, alpha=0.5, label='surf')\n",
    "\n",
    "plt.xlabel('Messages sent', size=10)\n",
    "plt.ylabel('Count', size=10)\n",
    "plt.title('Histogram of total messages sent per month')\n",
    "plt.legend(loc='upper right');"
   ]
  },
  {
   "cell_type": "code",
   "execution_count": 377,
   "metadata": {},
   "outputs": [
    {
     "data": {
      "image/png": "[encoded data removed]",
      "text/plain": [
       "<Figure size 432x288 with 1 Axes>"
      ]
     },
     "metadata": {
      "needs_background": "light"
     },
     "output_type": "display_data"
    }
   ],
   "source": [
    "# density histogram showing frequency density of total messages sent each month\n",
    "plt.hist([ultimate_plan_filtered['messages sent'], surf_plan_filtered['messages sent']], label= ['ultimate', 'surf'], density = True)\n",
    "plt.legend()\n",
    "plt.ylabel('Frequency Density')\n",
    "plt.xlabel('Total messages sent')\n",
    "plt.title('Frequency density of total messages sent per month');"
   ]
  },
  {
   "cell_type": "markdown",
   "metadata": {},
   "source": [
    "**Conclusion:** From the overlay of the histogram showing the distribution of total messages sent per month, we can see that `surf` plan had the most total messages sent per month. In the corresponding frequency density plot, we can see that both plans had similar trend. The `surf` plan had more users than the `ultimate` plan. "
   ]
  },
  {
   "cell_type": "markdown",
   "metadata": {},
   "source": [
    "###### Find the volume of data the users of each plan require per month"
   ]
  },
  {
   "cell_type": "code",
   "execution_count": 378,
   "metadata": {},
   "outputs": [
    {
     "data": {
      "text/html": [
       "<div>\n",
       "<style scoped>\n",
       "    .dataframe tbody tr th:only-of-type {\n",
       "        vertical-align: middle;\n",
       "    }\n",
       "\n",
       "    .dataframe tbody tr th {\n",
       "        vertical-align: top;\n",
       "    }\n",
       "\n",
       "    .dataframe thead th {\n",
       "        text-align: right;\n",
       "    }\n",
       "</style>\n",
       "<table border=\"1\" class=\"dataframe\">\n",
       "  <thead>\n",
       "    <tr style=\"text-align: right;\">\n",
       "      <th></th>\n",
       "      <th>mean</th>\n",
       "      <th>var</th>\n",
       "      <th>std</th>\n",
       "    </tr>\n",
       "    <tr>\n",
       "      <th>plan</th>\n",
       "      <th></th>\n",
       "      <th></th>\n",
       "      <th></th>\n",
       "    </tr>\n",
       "  </thead>\n",
       "  <tbody>\n",
       "    <tr>\n",
       "      <td>surf</td>\n",
       "      <td>17070.789574</td>\n",
       "      <td>6.457508e+07</td>\n",
       "      <td>8035.862417</td>\n",
       "    </tr>\n",
       "    <tr>\n",
       "      <td>ultimate</td>\n",
       "      <td>17722.311111</td>\n",
       "      <td>6.168830e+07</td>\n",
       "      <td>7854.190127</td>\n",
       "    </tr>\n",
       "  </tbody>\n",
       "</table>\n",
       "</div>"
      ],
      "text/plain": [
       "                  mean           var          std\n",
       "plan                                             \n",
       "surf      17070.789574  6.457508e+07  8035.862417\n",
       "ultimate  17722.311111  6.168830e+07  7854.190127"
      ]
     },
     "execution_count": 378,
     "metadata": {},
     "output_type": "execute_result"
    }
   ],
   "source": [
    "# volume of data users of each plan use per month\n",
    "agg_df.groupby('plan')['mb used'].agg([np.mean, np.var, np.std])"
   ]
  },
  {
   "cell_type": "markdown",
   "metadata": {},
   "source": [
    "What's the difference in average message sent for customers in the two plans?"
   ]
  },
  {
   "cell_type": "code",
   "execution_count": 379,
   "metadata": {},
   "outputs": [
    {
     "data": {
      "text/html": [
       "<div>\n",
       "<style scoped>\n",
       "    .dataframe tbody tr th:only-of-type {\n",
       "        vertical-align: middle;\n",
       "    }\n",
       "\n",
       "    .dataframe tbody tr th {\n",
       "        vertical-align: top;\n",
       "    }\n",
       "\n",
       "    .dataframe thead th {\n",
       "        text-align: right;\n",
       "    }\n",
       "</style>\n",
       "<table border=\"1\" class=\"dataframe\">\n",
       "  <thead>\n",
       "    <tr style=\"text-align: right;\">\n",
       "      <th></th>\n",
       "      <th>count</th>\n",
       "      <th>mean</th>\n",
       "      <th>std</th>\n",
       "      <th>min</th>\n",
       "      <th>25%</th>\n",
       "      <th>50%</th>\n",
       "      <th>75%</th>\n",
       "      <th>max</th>\n",
       "    </tr>\n",
       "    <tr>\n",
       "      <th>plan</th>\n",
       "      <th></th>\n",
       "      <th></th>\n",
       "      <th></th>\n",
       "      <th></th>\n",
       "      <th></th>\n",
       "      <th></th>\n",
       "      <th></th>\n",
       "      <th></th>\n",
       "    </tr>\n",
       "  </thead>\n",
       "  <tbody>\n",
       "    <tr>\n",
       "      <td>surf</td>\n",
       "      <td>1573.0</td>\n",
       "      <td>17070.789574</td>\n",
       "      <td>8035.862417</td>\n",
       "      <td>0.0</td>\n",
       "      <td>12288.0</td>\n",
       "      <td>17408.0</td>\n",
       "      <td>21504.0</td>\n",
       "      <td>71680.0</td>\n",
       "    </tr>\n",
       "    <tr>\n",
       "      <td>ultimate</td>\n",
       "      <td>720.0</td>\n",
       "      <td>17722.311111</td>\n",
       "      <td>7854.190127</td>\n",
       "      <td>0.0</td>\n",
       "      <td>13312.0</td>\n",
       "      <td>17408.0</td>\n",
       "      <td>21504.0</td>\n",
       "      <td>47104.0</td>\n",
       "    </tr>\n",
       "  </tbody>\n",
       "</table>\n",
       "</div>"
      ],
      "text/plain": [
       "           count          mean          std  min      25%      50%      75%  \\\n",
       "plan                                                                          \n",
       "surf      1573.0  17070.789574  8035.862417  0.0  12288.0  17408.0  21504.0   \n",
       "ultimate   720.0  17722.311111  7854.190127  0.0  13312.0  17408.0  21504.0   \n",
       "\n",
       "              max  \n",
       "plan               \n",
       "surf      71680.0  \n",
       "ultimate  47104.0  "
      ]
     },
     "execution_count": 379,
     "metadata": {},
     "output_type": "execute_result"
    }
   ],
   "source": [
    "# difference in average monthly mb used\n",
    "agg_df.groupby('plan')['mb used']. describe()"
   ]
  },
  {
   "cell_type": "markdown",
   "metadata": {},
   "source": [
    "We can see from the calculation above that on the average, users on the `ultimate` plan use up more data than users on the `surf` plan. Let's look at how this is distributed using the histogram plot and frquency distribution plot."
   ]
  },
  {
   "cell_type": "code",
   "execution_count": 380,
   "metadata": {},
   "outputs": [
    {
     "data": {
      "image/png": "[encoded data removed]",
      "text/plain": [
       "<Figure size 432x360 with 1 Axes>"
      ]
     },
     "metadata": {
      "needs_background": "light"
     },
     "output_type": "display_data"
    }
   ],
   "source": [
    "# histogram of volume of data used per month\n",
    "plt.figure(figsize=(6,5))\n",
    "plt.hist(ultimate_plan_filtered['mb used'], bins=20, alpha=0.5, label='ultimate')\n",
    "plt.hist(surf_plan_filtered['mb used'], bins=20, alpha=0.5, label='surf')\n",
    "\n",
    "plt.xlabel('Volume of data used', size=10)\n",
    "plt.ylabel('Count', size=10)\n",
    "plt.title('Histogram of volume of data used per month')\n",
    "plt.legend(loc='upper right');"
   ]
  },
  {
   "cell_type": "code",
   "execution_count": 381,
   "metadata": {},
   "outputs": [
    {
     "data": {
      "image/png": "[encoded data removed]",
      "text/plain": [
       "<Figure size 432x288 with 1 Axes>"
      ]
     },
     "metadata": {
      "needs_background": "light"
     },
     "output_type": "display_data"
    }
   ],
   "source": [
    "# density histogram showing frequency density of volume of data used per month\n",
    "plt.hist([ultimate_plan_filtered['mb used'], surf_plan_filtered['mb used']], label= ['ultimate', 'surf'], density = True)\n",
    "plt.legend()\n",
    "plt.ylabel('Frequency density')\n",
    "plt.xlabel('Volume of data used')\n",
    "plt.title('Frequency density of volume of data used per month', y=1.05);"
   ]
  },
  {
   "cell_type": "markdown",
   "metadata": {},
   "source": [
    "The histogram of volume of data required per users per month across plans shows that the `surf` plan had more users based on volume of data required per month. In the corresponding frequency density plot, we can see that both plan have the same trend except that `ultimate` has more values for volume of data used per month. "
   ]
  },
  {
   "cell_type": "code",
   "execution_count": 382,
   "metadata": {},
   "outputs": [
    {
     "name": "stdout",
     "output_type": "stream",
     "text": [
      "The average revenue for users of the ultimate plan is $70.57\n",
      "The average revenue for users of the surf plan is $55.50\n",
      "Percentage difference between ultimate plan revenue and surf plan revenue is 21.35%\n"
     ]
    }
   ],
   "source": [
    "# average revenue for users of ultimate and surf plan\n",
    "ultimate_avg = ultimate_plan_filtered['revenue'].sum() / len(ultimate_plan_filtered['revenue'])\n",
    "surf_avg = surf_plan_filtered['revenue'].sum() / len(surf_plan_filtered['revenue'])\n",
    "diff = (ultimate_avg - surf_avg) / ultimate_avg * 100\n",
    "print('The average revenue for users of the ultimate plan is ${:.2f}'.format(ultimate_avg))\n",
    "print('The average revenue for users of the surf plan is ${:.2f}'.format(surf_avg))\n",
    "print('Percentage difference between ultimate plan revenue and surf plan revenue is {:.2f}%'.format(diff))"
   ]
  },
  {
   "cell_type": "markdown",
   "metadata": {},
   "source": [
    "#### Conclusion"
   ]
  },
  {
   "cell_type": "markdown",
   "metadata": {},
   "source": [
    "In this section, we calculated the statistics of our data. We determined that `ultimate` users on the average make 58 calls, use 418 minutes per month, sent about 34 messages, and use 16877 MB of data per month. We also computed statistics for `surf` users, and observed that on the average users make 58 calls, use 418 minutes per month, sent about 28 messages, and use 16553 MB of data per month. We plotted the distribution and the frequency density of the plans per user and observed that `surf` users have more representation overall than `ultimate` users. Also, on the average, `ultimate` users has more call duration per month, send more text messages, require more data volume than users in the `surf` plan. We also determined that users in the `ultimate` plan brought in more revenue on the average than users in the `surf` plan."
   ]
  },
  {
   "cell_type": "markdown",
   "metadata": {},
   "source": [
    "<div class=\"alert alert-success\">\n",
    "<b>Reviewer's comment</b>\n",
    "<p>Nice analysis in this chapter! I like that you used appropriate style of plots and added the conclusions.</p> \n",
    "</div>"
   ]
  },
  {
   "cell_type": "markdown",
   "metadata": {},
   "source": [
    "<div id=\"test_hypothesis\">\n",
    "    <h2>Test the hypothesis</h2> \n",
    "</div>"
   ]
  },
  {
   "cell_type": "markdown",
   "metadata": {},
   "source": [
    "#### Test 1"
   ]
  },
  {
   "cell_type": "markdown",
   "metadata": {},
   "source": [
    "*Null Hypothesis*: There is *no difference* between the average revenue from users of Ultimate and Surf calling plans.\n",
    "\n",
    "We calculated the average revenue for users of Ultimate calling plan as USD70.57, and the average revenue for the surf plan as USD55.50. We want to know whether the difference between these numbers are significant? That depends on the variance of the samples the values are calculated from. Instead of basing our comparison on the mean alone, we use the data to perform a statistical test. In this experiment, the *null hypothesis* is that there is *no difference* between the average revenue from users of Ultimate and Surf calling plan. The *alternative* hypothesis is that the average revenue from users of Ultimate and Surf calling plans differs. We can carry out hypothesis testing to test the hypothesis. We use a significance level (or alpha) of 0.05, which means that only in 5% of the case will we reject the null hypothesis when it is true. We use a t-test to test the hypothesis because it is used to compare the means of two groups in order to determine whether two groups are different from one another. \n",
    "\n",
    "- $H_0$ (null hypothesis): average revenue per month for **ultimate** users = average revenue per month for **surf** users\n",
    "- $H_1$ (alternative hypothesis): average revenue per month for **ultimate** users <> average revenue per month for **surf** users\n",
    "- $\\alpha$ = 0.05\n",
    "- If p-value < $\\alpha$, then reject null hypothesis. If p-value > $\\alpha$, fail to reject null hypothesis."
   ]
  },
  {
   "cell_type": "code",
   "execution_count": 383,
   "metadata": {},
   "outputs": [
    {
     "name": "stdout",
     "output_type": "stream",
     "text": [
      "The p-value is: 1.3114892927704795e-38\n",
      "We reject the null hypohesis\n"
     ]
    }
   ],
   "source": [
    "# hypothesis testing\n",
    "ultimate = ultimate_plan_filtered['revenue']\n",
    "surf = surf_plan_filtered['revenue']\n",
    "\n",
    "# set critical statistical significance level\n",
    "alpha = 0.05\n",
    "\n",
    "# test the hypothesis that the means of the two independent population are equal\n",
    "results = st.ttest_ind(ultimate, surf, equal_var = False)\n",
    "print('The p-value is: {}'.format(results.pvalue))\n",
    "\n",
    "# compare the p-value with the significance level\n",
    "if (results.pvalue < alpha):\n",
    "    print('We reject the null hypohesis')\n",
    "else:\n",
    "    print('We fail to reject the null hypothesis')"
   ]
  },
  {
   "cell_type": "markdown",
   "metadata": {},
   "source": [
    "#### Conclusion"
   ]
  },
  {
   "cell_type": "markdown",
   "metadata": {},
   "source": [
    "We formulated the null hypothesis by stating that there is *no difference* between the average revenue from users of ultimate and surf calling plans. We used a significance level of 0.05. Since the p-value is less than 0.05, it means that the group are different hence **we reject the null hypothesis**. Our analysis suggest that average revenue from users of Ultimate and Surf calling plans differs. "
   ]
  },
  {
   "cell_type": "markdown",
   "metadata": {},
   "source": [
    "#### Test 2"
   ]
  },
  {
   "cell_type": "markdown",
   "metadata": {},
   "source": [
    "*Null Hypothesis*: There is *no difference* between the average revenue from users in NY-NJ area and users from other regions.\n",
    "\n",
    "*Alternative Hypothesis*: There is *a difference* between the average revenue from users in NY-NJ area and users from other regions. We carry out hypothesis testing to test the hypothesis. We use a significance level (or alpha) of 0.05, which means that only in 5% of the case will we reject the null hypothesis when it is true. We use a t-test to test the hypothesis because it is used to compare the means of two groups in order to determine whether two groups are different from one another.\n",
    "\n",
    "- $H_0$ (null hypothesis): average revenue for users in NY-NJ areas = average revenue for users from other regions\n",
    "- $H_1$ (alternative hypothesis): average revenue for users in NY-NJ areas <> average revenue for users from other regions\n",
    "- $\\alpha$ = 0.05\n",
    "- If p-value < $\\alpha$, then reject null hypothesis. If p-value > $\\alpha$, fail to reject null hypothesis."
   ]
  },
  {
   "cell_type": "code",
   "execution_count": 384,
   "metadata": {},
   "outputs": [
    {
     "name": "stdout",
     "output_type": "stream",
     "text": [
      "The average revenue of users in New York-New Jersey area is $59.92\n",
      "The average revenue of users from other regions is $65.22\n"
     ]
    }
   ],
   "source": [
    "newyork_jersey = agg_df.query('city == \"New York-Newark-Jersey City, NY-NJ-PA MSA\"')['revenue'] # revenue of users in NY-NJ\n",
    "not_newyork_jersey = agg_df.query('city != \"New York-Newark-Jersey City, NY-NJ-PA MSA\"')['revenue'] # revenue of users not in NY-NJ\n",
    "print('The average revenue of users in New York-New Jersey area is ${:.2f}'.format(newyork_jersey.mean()))\n",
    "print('The average revenue of users from other regions is ${:.2f}'.format(not_newyork_jersey.mean()))"
   ]
  },
  {
   "cell_type": "markdown",
   "metadata": {},
   "source": [
    "We have determined the average revenue of users in New York-New Jersey area as USD59.92, and the average revenue of users from other regions as USD65.22. We want to know whether the difference between these number is significant? We set up a hypothesis test for significance using a significance level (or $\\alpha$ values) of 0.05, which means that only in 5% of the case will we reject the null hypothesis when it is true. We use a t-test to test the hypothesis since it can be used to compare the means of two groups in order to determine whether the two groups are different from one another. The set is shown in the code below."
   ]
  },
  {
   "cell_type": "code",
   "execution_count": 385,
   "metadata": {},
   "outputs": [
    {
     "name": "stdout",
     "output_type": "stream",
     "text": [
      "The p-value is: 0.03352561588530057\n",
      "We reject the null hypohesis\n"
     ]
    }
   ],
   "source": [
    "# hypothesis testing\n",
    "newyork_jersey = agg_df.query('city == \"New York-Newark-Jersey City, NY-NJ-PA MSA\"')['revenue'] # revenue of users in NY-NJ\n",
    "not_newyork_jersey = agg_df.query('city != \"New York-Newark-Jersey City, NY-NJ-PA MSA\"')['revenue'] # revenue of users not in NY-NJ\n",
    "\n",
    "# set critical statistical significance level\n",
    "alpha = 0.05\n",
    "\n",
    "# test the hypothesis that the means of the two independent population are equal\n",
    "results = st.ttest_ind(newyork_jersey, not_newyork_jersey, equal_var = False)\n",
    "print('The p-value is: {}'.format(results.pvalue))\n",
    "\n",
    "# compare the p-value with the significance level\n",
    "if (results.pvalue < alpha):\n",
    "    print('We reject the null hypohesis')\n",
    "else:\n",
    "    print('We fail to reject the null hypothesis')"
   ]
  },
  {
   "cell_type": "markdown",
   "metadata": {},
   "source": [
    "#### Conclusion"
   ]
  },
  {
   "cell_type": "markdown",
   "metadata": {},
   "source": [
    "We formulated our null hypothesis by stating that there is *no difference* between the average revenue from users in New York-New Jersey area, and users from other region. We used a t-test to test the hypothesis using a significance level of 0.05. Since the p-value is less than 0.05, it means that the group are different hence **we reject the null hypothesis**. We may not know the size of the difference between the average revenue from users in New York-New Jersey area, and users from other regions. All the test tells us is that they are different. However, by calculating the average number for revenue from users in both groups, we can say with certainty that the mean of the revenue between the two groups are significantly different. "
   ]
  },
  {
   "cell_type": "markdown",
   "metadata": {},
   "source": [
    "<div class=\"alert alert-success\">\n",
    "<b>Reviewer's comment</b>\n",
    "<p>The implementation of tests is correct (good that you didn't forget equal_var=False), but the conclusions will change after you correct the inputs to be monthly revenues instead of total revenues by user.</p> \n",
    "</div>"
   ]
  },
  {
   "cell_type": "markdown",
   "metadata": {},
   "source": [
    "<div id=\"overall_conclusion\">\n",
    "    <h2>Overall conclusion</h2> \n",
    "</div>"
   ]
  },
  {
   "cell_type": "markdown",
   "metadata": {},
   "source": [
    "By looking at the general information of the data, we identified some errors like problem with the datatype and corrected them by converting datatype to the right format. We analyzed the data by carrying out exploratory data analysis and found that the distribution of the data is slightly **skewed to the right**. We detected and removed some outliers from the data, and used the filtered data to compute the statistics. We determined that `ultimate` users on the average make 58 calls, use 418 minutes per month, sent about 34 messages, and use 16877 MB of data per month. We also computed statistics for `surf` users, and observed that on the average users make 58 calls, use 418 minutes per month, sent about 28 messages, and use 16553 MB of data per month. \n",
    "\n",
    "We plotted the distribution and the frequency density of the plans per user and observed that `surf` users have more call count overall than `ultimate` users. Also, on the average, `ultimate` users has more call duration per month, send more text messages, require more data volume than users in the `surf` plan. We also determined that users in the `ultimate` plan brought in more revenue on the average than users in the `surf` plan. We also determined that `ultimate` users brought in more revenue on the average since the average revenue for users in the `ultimate` plan is $\\approx$ 21.4% greater than users in the `surf` plan. The calculated average revenue for users of `ultimate` calling plan is \\$70.57, while the average revenue for the `surf` plan as \\$55.50.\n",
    "\n",
    "We formulated the null hypothesis by stating that there is *no difference* between the average revenue from users of `ultimate` and `surf` calling plans. We used a significance level of 0.05 to calculate the p-value. From the hypothesis test, we determined that the group are different hence we reject the null hypothesis. The test suggested that average revenue from users of Ultimate and Surf calling plans differs. We also tested the hypothesis by stating that there is *no difference* between the average revenue from users in New York-New Jersey area, and users from other region. Our hypothesis test shows that the average revenue from users in New York-New Jersey area, and users from other region are different.\n",
    "\n",
    "We can conclude from this analysis that:\n",
    "- users on the `ultimate` plan has more call duration per month, send more text messages, require more data volume, and brings in more average revenue than users on the `surf` plan.\n",
    "- users on the `surf` plan on the average make more calls than users on the `ultimate` plan.\n",
    "- the average revenue from users in other regions is greater than revenue from users in the New York-New Jersey area.\n",
    "- the commercial department should adjust advertising budget and advertise more calls, messaging and internet data offers to the user in the `ultimate` plan. \n",
    "- the commercial department should invest in more advertisements in other regions since Megaline makes more money in that area than the New York-New Jersey area .\n",
    "- the `ultimate` plan is more profitable than the `surf` plan even though the `surf` plan has more users overall than the `ultimate` plan.\n",
    "\n",
    "We could carry out further analysis to determine the average revenue by age group. That will also inform Megaline telecom on which age group and advertising medium to target for marketing purposes. For instance, if we analyze that people in the age group 1 - 25 brings in more revenue, we can also determine whether marketing on social media apps like TikTok or Instagram will bring in more users and revenue than TV or billboard advertisement. "
   ]
  },
  {
   "cell_type": "markdown",
   "metadata": {},
   "source": [
    "<div class=\"alert alert-success\">\n",
    "<b>Reviewer's comment</b>\n",
    "<p>This is a perfect format for the conclusion 👍</p>\n",
    "<p>If you want, you can add additional structure to make it more clear which paragraph refers to which part of the reseach.</p>\n",
    "</div>"
   ]
  },
  {
   "cell_type": "code",
   "execution_count": null,
   "metadata": {},
   "outputs": [],
   "source": []
  }
 ],
 "metadata": {
  "kernelspec": {
   "display_name": "Python 3",
   "language": "python",
   "name": "python3"
  },
  "language_info": {
   "codemirror_mode": {
    "name": "ipython",
    "version": 3
   },
   "file_extension": ".py",
   "mimetype": "text/x-python",
   "name": "python",
   "nbconvert_exporter": "python",
   "pygments_lexer": "ipython3",
   "version": "3.7.8"
  },
  "toc": {
   "base_numbering": 1,
   "nav_menu": {},
   "number_sections": true,
   "sideBar": true,
   "skip_h1_title": true,
   "title_cell": "Table of Contents",
   "title_sidebar": "Contents",
   "toc_cell": false,
   "toc_position": {},
   "toc_section_display": true,
   "toc_window_display": false
  }
 },
 "nbformat": 4,
 "nbformat_minor": 4
}
