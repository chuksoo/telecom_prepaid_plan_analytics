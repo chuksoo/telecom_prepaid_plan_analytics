{
 "cells": [
  {
   "cell_type": "markdown",
   "metadata": {},
   "source": [
    "# Telecom prepaid plan analytics\n",
    "\n",
    "You work as an analyst for the telecom operator Megaline. The company offers its clients two prepaid plans, Surf and Ultimate. The commercial department wants to know which of the plans brings in more revenue in order to adjust the advertising budget.\n",
    "\n",
    "You are going to carry out a preliminary analysis of the plans based on a relatively small client selection. You'll have the data on 500 Megaline clients: who the clients are, where they're from, which plan they use, and the number of calls they made and text messages they sent in 2018. Your job is to analyze clients' behavior and determine which prepaid plan brings in more revenue."
   ]
  },
  {
   "cell_type": "markdown",
   "metadata": {},
   "source": [
    "# Objectives\n",
    "\n",
    "The objective of this project is to:\n",
    "- Analyze clients' behavior and determine which prepaid plans brings in more revenue\n",
    "- Use analytics to assists the comercial department in making adjustment in advertising budget\n",
    "- Apply Statistical Data Analysis to a real-life analytical case study."
   ]
  },
  {
   "cell_type": "markdown",
   "metadata": {},
   "source": [
    "<hr>\n",
    "\n",
    " # Table of contents\n",
    "\n",
    "<div class=\"alert alert-block alert-info\" style=\"margin-top: 20px\">\n",
    "    <ol>\n",
    "        <li><a href=\"#open_the_data\">Open the data file and study the general information</a></li>\n",
    "        <li><a href=\"#data_preparation\">Prepare the data</a></li>\n",
    "        <li><a href=\"#analyze_data\">Analyze the data</a></li>\n",
    "        <li><a href=\"#test_hypothesis\">Test the hypothesis</a></li>\n",
    "        <li><a href=\"#overall_conclusion\">Overall conclusion</a></li>\n",
    "    </ol>\n",
    "</div>\n",
    "<br>\n",
    "<hr>"
   ]
  },
  {
   "cell_type": "markdown",
   "metadata": {},
   "source": [
    "<div id=\"open_the_data\">\n",
    "    <h2>Open the data file and study the general information</h2> \n",
    "</div>"
   ]
  },
  {
   "cell_type": "markdown",
   "metadata": {},
   "source": [
    "We require the following libraries: *numpy* and *pandas* for data preprocessing and manipulation, *matplotlib* and *seaborn* for visualization, *math* for factorial calculation, *scipy* for statistical analysis."
   ]
  },
  {
   "cell_type": "code",
   "execution_count": 1,
   "metadata": {},
   "outputs": [
    {
     "name": "stdout",
     "output_type": "stream",
     "text": [
      "Project libraries has been successfully been imported!\n"
     ]
    }
   ],
   "source": [
    "# import pandas and numpy for data preprocessing and manipulation\n",
    "import numpy as np\n",
    "import pandas as pd\n",
    "from pandas.api.types import is_string_dtype\n",
    "from pandas.api.types import is_numeric_dtype\n",
    "\n",
    "# matplotlib for visualization\n",
    "import matplotlib.pyplot as plt\n",
    "%matplotlib inline\n",
    "\n",
    "# seaborn for statistical data visualization\n",
    "import seaborn as sns\n",
    "\n",
    "# import the math and scipy packages for statistical analysis\n",
    "import math as mt\n",
    "from math import factorial\n",
    "from scipy import stats as st\n",
    "\n",
    "print('Project libraries has been successfully been imported!')"
   ]
  },
  {
   "cell_type": "code",
   "execution_count": 2,
   "metadata": {},
   "outputs": [
    {
     "name": "stdout",
     "output_type": "stream",
     "text": [
      "Data has been read correctly!\n"
     ]
    }
   ],
   "source": [
    "# read the data\n",
    "try:\n",
    "    users = pd.read_csv('https://code.s3.yandex.net/datasets/megaline_users1.csv')\n",
    "    calls = pd.read_csv('https://code.s3.yandex.net/datasets/megaline_calls.csv')\n",
    "    messages = pd.read_csv('https://code.s3.yandex.net/datasets/megaline_messages.csv')\n",
    "    internet = pd.read_csv('https://code.s3.yandex.net/datasets/megaline_internet.csv')\n",
    "    plans = pd.read_csv('https://code.s3.yandex.net/datasets/megaline_plans.csv')\n",
    "except:\n",
    "    users = pd.read_csv('C:/Users/hotty/Desktop/Practicum by Yandex/Projects/Statistical Data Analysis/Data/megaline_users1.csv')\n",
    "    calls = pd.read_csv('C:/Users/hotty/Desktop/Practicum by Yandex/Projects/Statistical Data Analysis/Data/megaline_calls.csv')\n",
    "    messages = pd.read_csv('C:/Users/hotty/Desktop/Practicum by Yandex/Projects/Statistical Data Analysis/Data/megaline_messages.csv')\n",
    "    internet = pd.read_csv('C:/Users/hotty/Desktop/Practicum by Yandex/Projects/Statistical Data Analysis/Data/megaline_internet.csv')\n",
    "    plans = pd.read_csv('C:/Users/hotty/Desktop/Practicum by Yandex/Projects/Statistical Data Analysis/Data/megaline_plans.csv')\n",
    "print('Data has been read correctly!')"
   ]
  },
  {
   "cell_type": "code",
   "execution_count": 3,
   "metadata": {},
   "outputs": [
    {
     "name": "stdout",
     "output_type": "stream",
     "text": [
      "------------------------------------------------------------------------------\n",
      "The head of the calls dataframe is:\n",
      "         id  user_id   call_date  duration\n",
      "0   1000_93     1000  2018-12-27      8.52\n",
      "1  1000_145     1000  2018-12-27     13.66\n",
      "2  1000_247     1000  2018-12-27     14.48\n",
      "3  1000_309     1000  2018-12-28      5.76\n",
      "4  1000_380     1000  2018-12-30      4.22\n",
      "\n",
      "The structure of the calls dataframe is:\n",
      "<class 'pandas.core.frame.DataFrame'>\n",
      "RangeIndex: 137735 entries, 0 to 137734\n",
      "Data columns (total 4 columns):\n",
      " #   Column     Non-Null Count   Dtype  \n",
      "---  ------     --------------   -----  \n",
      " 0   id         137735 non-null  object \n",
      " 1   user_id    137735 non-null  int64  \n",
      " 2   call_date  137735 non-null  object \n",
      " 3   duration   137735 non-null  float64\n",
      "dtypes: float64(1), int64(1), object(2)\n",
      "memory usage: 4.2+ MB\n",
      "\n",
      "The shape of our data is (137735, 4) with 137735 rows and 4 columns\n",
      "\n",
      "------------------------------------------------------------------------------\n",
      "The head of the users dataframe is:\n",
      "   user_id first_name  last_name  age                                   city  \\\n",
      "0     1000   Anamaria      Bauer   45  Atlanta-Sandy Springs-Roswell, GA MSA   \n",
      "1     1001     Mickey  Wilkerson   28        Seattle-Tacoma-Bellevue, WA MSA   \n",
      "2     1002     Carlee    Hoffman   36   Las Vegas-Henderson-Paradise, NV MSA   \n",
      "3     1003   Reynaldo    Jenkins   52                          Tulsa, OK MSA   \n",
      "4     1004    Leonila   Thompson   40        Seattle-Tacoma-Bellevue, WA MSA   \n",
      "\n",
      "     reg_date    tariff churn_date  \n",
      "0  2018-12-24  ultimate        NaN  \n",
      "1  2018-08-13      surf        NaN  \n",
      "2  2018-10-21      surf        NaN  \n",
      "3  2018-01-28      surf        NaN  \n",
      "4  2018-05-23      surf        NaN  \n",
      "\n",
      "The structure of the users dataframe is:\n",
      "<class 'pandas.core.frame.DataFrame'>\n",
      "RangeIndex: 500 entries, 0 to 499\n",
      "Data columns (total 8 columns):\n",
      " #   Column      Non-Null Count  Dtype \n",
      "---  ------      --------------  ----- \n",
      " 0   user_id     500 non-null    int64 \n",
      " 1   first_name  500 non-null    object\n",
      " 2   last_name   500 non-null    object\n",
      " 3   age         500 non-null    int64 \n",
      " 4   city        500 non-null    object\n",
      " 5   reg_date    500 non-null    object\n",
      " 6   tariff      500 non-null    object\n",
      " 7   churn_date  34 non-null     object\n",
      "dtypes: int64(2), object(6)\n",
      "memory usage: 31.4+ KB\n",
      "\n",
      "The shape of our data is (500, 8) with 500 rows and 8 columns\n",
      "\n",
      "------------------------------------------------------------------------------\n",
      "The head of the messages dataframe is:\n",
      "         id  user_id message_date\n",
      "0  1000_125     1000   2018-12-27\n",
      "1  1000_160     1000   2018-12-31\n",
      "2  1000_223     1000   2018-12-31\n",
      "3  1000_251     1000   2018-12-27\n",
      "4  1000_255     1000   2018-12-26\n",
      "\n",
      "The structure of the messages dataframe is:\n",
      "<class 'pandas.core.frame.DataFrame'>\n",
      "RangeIndex: 76051 entries, 0 to 76050\n",
      "Data columns (total 3 columns):\n",
      " #   Column        Non-Null Count  Dtype \n",
      "---  ------        --------------  ----- \n",
      " 0   id            76051 non-null  object\n",
      " 1   user_id       76051 non-null  int64 \n",
      " 2   message_date  76051 non-null  object\n",
      "dtypes: int64(1), object(2)\n",
      "memory usage: 1.7+ MB\n",
      "\n",
      "The shape of our data is (76051, 3) with 76051 rows and 3 columns\n",
      "\n",
      "------------------------------------------------------------------------------\n",
      "The head of the internet dataframe is:\n",
      "         id  user_id session_date  mb_used\n",
      "0   1000_13     1000   2018-12-29    89.86\n",
      "1  1000_204     1000   2018-12-31     0.00\n",
      "2  1000_379     1000   2018-12-28   660.40\n",
      "3  1000_413     1000   2018-12-26   270.99\n",
      "4  1000_442     1000   2018-12-27   880.22\n",
      "\n",
      "The structure of the internet dataframe is:\n",
      "<class 'pandas.core.frame.DataFrame'>\n",
      "RangeIndex: 104825 entries, 0 to 104824\n",
      "Data columns (total 4 columns):\n",
      " #   Column        Non-Null Count   Dtype  \n",
      "---  ------        --------------   -----  \n",
      " 0   id            104825 non-null  object \n",
      " 1   user_id       104825 non-null  int64  \n",
      " 2   session_date  104825 non-null  object \n",
      " 3   mb_used       104825 non-null  float64\n",
      "dtypes: float64(1), int64(1), object(2)\n",
      "memory usage: 3.2+ MB\n",
      "\n",
      "The shape of our data is (104825, 4) with 104825 rows and 4 columns\n",
      "\n",
      "------------------------------------------------------------------------------\n",
      "The head of the plans dataframe is:\n",
      "   messages_included  mb_per_month_included  minutes_included  \\\n",
      "0                 50                  15360               500   \n",
      "1               1000                  30720              3000   \n",
      "\n",
      "   usd_monthly_pay  usd_per_gb  usd_per_message  usd_per_minute plan_name  \n",
      "0               20          10             0.03            0.03      surf  \n",
      "1               70           7             0.01            0.01  ultimate  \n",
      "\n",
      "The structure of the plans dataframe is:\n",
      "<class 'pandas.core.frame.DataFrame'>\n",
      "RangeIndex: 2 entries, 0 to 1\n",
      "Data columns (total 8 columns):\n",
      " #   Column                 Non-Null Count  Dtype  \n",
      "---  ------                 --------------  -----  \n",
      " 0   messages_included      2 non-null      int64  \n",
      " 1   mb_per_month_included  2 non-null      int64  \n",
      " 2   minutes_included       2 non-null      int64  \n",
      " 3   usd_monthly_pay        2 non-null      int64  \n",
      " 4   usd_per_gb             2 non-null      int64  \n",
      " 5   usd_per_message        2 non-null      float64\n",
      " 6   usd_per_minute         2 non-null      float64\n",
      " 7   plan_name              2 non-null      object \n",
      "dtypes: float64(2), int64(5), object(1)\n",
      "memory usage: 256.0+ bytes\n",
      "\n",
      "The shape of our data is (2, 8) with 2 rows and 8 columns\n",
      "\n"
     ]
    }
   ],
   "source": [
    "# study the general information about the dataset\n",
    "df_name = ['calls', 'users', 'messages', 'internet', 'plans']\n",
    "df_head = [calls, users, messages, internet, plans]\n",
    "\n",
    "for name, top_5_df in zip(df_name, df_head):\n",
    "    # use the head() method to view the first 10 rows\n",
    "    print('------------------------------------------------------------------------------')\n",
    "    print('The head of the {} dataframe is:'.format(name)) \n",
    "    print(top_5_df.head())\n",
    "    print()\n",
    "    # check the structure of our dataset\n",
    "    print('The structure of the {} dataframe is:'.format(name))\n",
    "    top_5_df.info()\n",
    "    print()\n",
    "    # check shape of our dataframe\n",
    "    print('The shape of our data is', top_5_df.shape, 'with {} rows and {} columns'.format(top_5_df.shape[0], top_5_df.shape[1]))\n",
    "    print()"
   ]
  },
  {
   "cell_type": "markdown",
   "metadata": {},
   "source": [
    "### Conclusion"
   ]
  },
  {
   "cell_type": "markdown",
   "metadata": {},
   "source": [
    "From the general information about the dataset, we can see that the dataset contains different data with different datatype. One of the problems identified while looking through the data is that some columns have the wrong datatype. We would need to change datatypes to the right format. For instance, *call_date* in the `calls` dataframe needs to be changed to datetime, *reg_date* and *churn_date* in the `users` need to be changed to datetime, *message_date* in the `messages` needs to be changed to datetime, *session_date* in the `internet` needs to be changed to datetime. We would also need to check for missing values, carry out some data preprocessing, and data type replacement. "
   ]
  },
  {
   "cell_type": "markdown",
   "metadata": {},
   "source": [
    "<div id=\"data_preparation\">\n",
    "    <h2>Prepare the data</h2> \n",
    "</div>"
   ]
  },
  {
   "cell_type": "markdown",
   "metadata": {},
   "source": [
    "#### Convert data to the necessary types"
   ]
  },
  {
   "cell_type": "code",
   "execution_count": 4,
   "metadata": {},
   "outputs": [
    {
     "data": {
      "text/plain": [
       "id           0\n",
       "user_id      0\n",
       "call_date    0\n",
       "duration     0\n",
       "dtype: int64"
      ]
     },
     "execution_count": 4,
     "metadata": {},
     "output_type": "execute_result"
    }
   ],
   "source": [
    "# check for null values\n",
    "calls.isnull().sum()"
   ]
  },
  {
   "cell_type": "markdown",
   "metadata": {},
   "source": [
    "First, we check for null values. We can see that there is no null values in the `calls` dataframe. We proceed to convert datatypes in the `calls` dataframe. By inspecting the `calls` data, we identified another problem with the data. Some data in the `duration` column has values greater than 0 but less than 1 minutes. For such values, we would be rounding up `duration` less than 1 minutes to 1 minutes."
   ]
  },
  {
   "cell_type": "code",
   "execution_count": 5,
   "metadata": {},
   "outputs": [],
   "source": [
    "# change the `calls_date` to datetime datatype\n",
    "calls['call_date'] = pd.to_datetime(calls['call_date'], format='%Y-%m-%d %H:%M:%S', errors='raise')"
   ]
  },
  {
   "cell_type": "code",
   "execution_count": 6,
   "metadata": {},
   "outputs": [
    {
     "name": "stdout",
     "output_type": "stream",
     "text": [
      "<class 'pandas.core.frame.DataFrame'>\n",
      "RangeIndex: 137735 entries, 0 to 137734\n",
      "Data columns (total 4 columns):\n",
      " #   Column     Non-Null Count   Dtype         \n",
      "---  ------     --------------   -----         \n",
      " 0   id         137735 non-null  object        \n",
      " 1   user       137735 non-null  int64         \n",
      " 2   call date  137735 non-null  datetime64[ns]\n",
      " 3   duration   137735 non-null  float64       \n",
      "dtypes: datetime64[ns](1), float64(1), int64(1), object(1)\n",
      "memory usage: 4.2+ MB\n"
     ]
    }
   ],
   "source": [
    "# check and convert call duration that lasted 1 sec to 1 minutes\n",
    "calls.loc[calls['duration'] <= 1, 'duration'] = 1\n",
    "\n",
    "# rename columns\n",
    "calls.columns = ['id', 'user', 'call date', 'duration']\n",
    "calls.info() "
   ]
  },
  {
   "cell_type": "markdown",
   "metadata": {},
   "source": [
    "We look at the `user` dataframe by checking for null values and change datatype in this dataframe. Another error we noticed is in the `churn_date` column where 466 values is missing. This large portion of missing values in the `churn_date` field will be transformed into either churn ='Yes' or no churn = 'No', thus it can be analyzed as a categorcal variable."
   ]
  },
  {
   "cell_type": "code",
   "execution_count": 7,
   "metadata": {},
   "outputs": [
    {
     "data": {
      "text/plain": [
       "user_id         0\n",
       "first_name      0\n",
       "last_name       0\n",
       "age             0\n",
       "city            0\n",
       "reg_date        0\n",
       "tariff          0\n",
       "churn_date    466\n",
       "dtype: int64"
      ]
     },
     "execution_count": 7,
     "metadata": {},
     "output_type": "execute_result"
    }
   ],
   "source": [
    "# check for null values\n",
    "users.isna().sum()"
   ]
  },
  {
   "cell_type": "code",
   "execution_count": 8,
   "metadata": {},
   "outputs": [],
   "source": [
    "# change the `reg_date` in the `users` to datetime\n",
    "users['reg_date'] = pd.to_datetime(users['reg_date'], format='%Y-%m-%d %H:%M:%S', errors='raise')\n",
    "\n",
    "# change the `churn date` to datetime\n",
    "users['churn_date'] = pd.to_datetime(users['churn_date'], format='%Y-%m-%d %H:%M:%S', errors='raise')\n",
    "users.columns = ['user', 'first name', 'last name', 'age', 'city', 'subscription date', 'plan', 'churn date']"
   ]
  },
  {
   "cell_type": "code",
   "execution_count": 9,
   "metadata": {},
   "outputs": [
    {
     "name": "stdout",
     "output_type": "stream",
     "text": [
      "<class 'pandas.core.frame.DataFrame'>\n",
      "RangeIndex: 500 entries, 0 to 499\n",
      "Data columns (total 9 columns):\n",
      " #   Column             Non-Null Count  Dtype         \n",
      "---  ------             --------------  -----         \n",
      " 0   user               500 non-null    int64         \n",
      " 1   first name         500 non-null    object        \n",
      " 2   last name          500 non-null    object        \n",
      " 3   age                500 non-null    int64         \n",
      " 4   city               500 non-null    object        \n",
      " 5   subscription date  500 non-null    datetime64[ns]\n",
      " 6   plan               500 non-null    object        \n",
      " 7   churn date         34 non-null     datetime64[ns]\n",
      " 8   customer churn     500 non-null    object        \n",
      "dtypes: datetime64[ns](2), int64(2), object(5)\n",
      "memory usage: 35.3+ KB\n"
     ]
    }
   ],
   "source": [
    "# create categorical variable for whether customer churn or not\n",
    "users['customer churn'] = np.where(users['churn date'].isnull(), 'No', 'Yes')\n",
    "users.info() "
   ]
  },
  {
   "cell_type": "markdown",
   "metadata": {},
   "source": [
    "We look at the `messages`, `internet` and `plans`. We need to change datatype to datetime, and rename the columns."
   ]
  },
  {
   "cell_type": "code",
   "execution_count": 10,
   "metadata": {},
   "outputs": [
    {
     "name": "stdout",
     "output_type": "stream",
     "text": [
      "<class 'pandas.core.frame.DataFrame'>\n",
      "RangeIndex: 76051 entries, 0 to 76050\n",
      "Data columns (total 3 columns):\n",
      " #   Column        Non-Null Count  Dtype         \n",
      "---  ------        --------------  -----         \n",
      " 0   id            76051 non-null  object        \n",
      " 1   user          76051 non-null  int64         \n",
      " 2   message date  76051 non-null  datetime64[ns]\n",
      "dtypes: datetime64[ns](1), int64(1), object(1)\n",
      "memory usage: 1.7+ MB\n"
     ]
    }
   ],
   "source": [
    "# change the `message_date` in the `messages` to datetime\n",
    "messages['message_date'] = pd.to_datetime(messages['message_date'], format='%Y-%m-%d %H:%M:%S', errors='raise')\n",
    "messages.columns = ['id', 'user', 'message date']\n",
    "messages.info()"
   ]
  },
  {
   "cell_type": "code",
   "execution_count": 11,
   "metadata": {},
   "outputs": [
    {
     "name": "stdout",
     "output_type": "stream",
     "text": [
      "<class 'pandas.core.frame.DataFrame'>\n",
      "RangeIndex: 91078 entries, 0 to 91077\n",
      "Data columns (total 4 columns):\n",
      " #   Column        Non-Null Count  Dtype         \n",
      "---  ------        --------------  -----         \n",
      " 0   id            91078 non-null  object        \n",
      " 1   user          91078 non-null  int64         \n",
      " 2   session date  91078 non-null  datetime64[ns]\n",
      " 3   data used     91078 non-null  float64       \n",
      "dtypes: datetime64[ns](1), float64(1), int64(1), object(1)\n",
      "memory usage: 2.8+ MB\n"
     ]
    }
   ],
   "source": [
    "# change the `session_date` in `internet` to datetime\n",
    "internet['session_date'] = pd.to_datetime(internet['session_date'], format='%Y-%m-%d %H:%M:%S', errors='raise')\n",
    "internet = internet.loc[internet['mb_used'] != 0] # drop `mb_used` less than 0\n",
    "internet = internet.reset_index(drop=True, inplace=False)\n",
    "internet.columns = ['id', 'user', 'session date', 'data used'] # rename columns\n",
    "internet.info()"
   ]
  },
  {
   "cell_type": "code",
   "execution_count": 12,
   "metadata": {},
   "outputs": [
    {
     "name": "stdout",
     "output_type": "stream",
     "text": [
      "<class 'pandas.core.frame.DataFrame'>\n",
      "RangeIndex: 2 entries, 0 to 1\n",
      "Data columns (total 8 columns):\n",
      " #   Column                 Non-Null Count  Dtype  \n",
      "---  ------                 --------------  -----  \n",
      " 0   messages included      2 non-null      int64  \n",
      " 1   data volume per month  2 non-null      int64  \n",
      " 2   minutes included       2 non-null      int64  \n",
      " 3   monthly fee            2 non-null      int64  \n",
      " 4   price per gb           2 non-null      int64  \n",
      " 5   price per message      2 non-null      float64\n",
      " 6   price per minute       2 non-null      float64\n",
      " 7   plan                   2 non-null      object \n",
      "dtypes: float64(2), int64(5), object(1)\n",
      "memory usage: 256.0+ bytes\n"
     ]
    }
   ],
   "source": [
    "# rename `plans` columns\n",
    "plans.columns = ['messages included', 'data volume per month', 'minutes included', 'monthly fee', 'price per gb', 'price per message', 'price per minute', 'plan']\n",
    "plans.info()"
   ]
  },
  {
   "cell_type": "markdown",
   "metadata": {},
   "source": [
    "#### Conclusion"
   ]
  },
  {
   "cell_type": "markdown",
   "metadata": {},
   "source": [
    "We identified the problem with the datatype in earlier section. In this section, we fixed some of the problems identifies. One of the problems identified in the dataset is that the *subscription date*, *churn date* in the `users` dataframe, *call date* in the `calls` dataframe, *message date* in the `messages` dataframe, and *session date* in the `internet` dataframe are of datatype object. We converted this datatype to datetime datatype. We also rounded up individual calls for call durations less than 1 minutes as one minute. In addition, we created a new column in the `users` dataframe to show whether a customer churn or not. In the `internet` dataframe, 13,747 rows of data with 0 *data used (mb_used)* were filtered."
   ]
  },
  {
   "cell_type": "markdown",
   "metadata": {},
   "source": [
    "#### Make calculations"
   ]
  },
  {
   "cell_type": "code",
   "execution_count": 13,
   "metadata": {},
   "outputs": [],
   "source": [
    "# add new features to table\n",
    "calls['month'] = calls['call date'].dt.month # create `month` call was placed\n",
    "internet['month'] = internet['session date'].dt.month # create session `month` \n",
    "messages['month'] = messages['message date'].dt.month # create `month` messages were sent"
   ]
  },
  {
   "cell_type": "code",
   "execution_count": 14,
   "metadata": {},
   "outputs": [
    {
     "data": {
      "text/html": [
       "<div>\n",
       "<style scoped>\n",
       "    .dataframe tbody tr th:only-of-type {\n",
       "        vertical-align: middle;\n",
       "    }\n",
       "\n",
       "    .dataframe tbody tr th {\n",
       "        vertical-align: top;\n",
       "    }\n",
       "\n",
       "    .dataframe thead th {\n",
       "        text-align: right;\n",
       "    }\n",
       "</style>\n",
       "<table border=\"1\" class=\"dataframe\">\n",
       "  <thead>\n",
       "    <tr style=\"text-align: right;\">\n",
       "      <th></th>\n",
       "      <th>user</th>\n",
       "      <th>number of calls</th>\n",
       "      <th>total minutes used</th>\n",
       "    </tr>\n",
       "  </thead>\n",
       "  <tbody>\n",
       "    <tr>\n",
       "      <th>0</th>\n",
       "      <td>1000</td>\n",
       "      <td>16</td>\n",
       "      <td>116.83</td>\n",
       "    </tr>\n",
       "    <tr>\n",
       "      <th>1</th>\n",
       "      <td>1001</td>\n",
       "      <td>261</td>\n",
       "      <td>1702.19</td>\n",
       "    </tr>\n",
       "    <tr>\n",
       "      <th>2</th>\n",
       "      <td>1002</td>\n",
       "      <td>113</td>\n",
       "      <td>797.74</td>\n",
       "    </tr>\n",
       "    <tr>\n",
       "      <th>3</th>\n",
       "      <td>1003</td>\n",
       "      <td>149</td>\n",
       "      <td>1073.39</td>\n",
       "    </tr>\n",
       "    <tr>\n",
       "      <th>4</th>\n",
       "      <td>1004</td>\n",
       "      <td>370</td>\n",
       "      <td>2688.68</td>\n",
       "    </tr>\n",
       "  </tbody>\n",
       "</table>\n",
       "</div>"
      ],
      "text/plain": [
       "   user  number of calls  total minutes used\n",
       "0  1000               16              116.83\n",
       "1  1001              261             1702.19\n",
       "2  1002              113              797.74\n",
       "3  1003              149             1073.39\n",
       "4  1004              370             2688.68"
      ]
     },
     "execution_count": 14,
     "metadata": {},
     "output_type": "execute_result"
    }
   ],
   "source": [
    "# number of calls made and minutes used per month\n",
    "calls_per_month = (calls\n",
    "                   .pivot_table(index='user', values='duration', aggfunc=['count', 'sum']).reset_index())\n",
    "calls_per_month.columns = ['user', 'number of calls', 'total minutes used']\n",
    "calls_per_month.head()"
   ]
  },
  {
   "cell_type": "code",
   "execution_count": 15,
   "metadata": {},
   "outputs": [
    {
     "data": {
      "text/html": [
       "<div>\n",
       "<style scoped>\n",
       "    .dataframe tbody tr th:only-of-type {\n",
       "        vertical-align: middle;\n",
       "    }\n",
       "\n",
       "    .dataframe tbody tr th {\n",
       "        vertical-align: top;\n",
       "    }\n",
       "\n",
       "    .dataframe thead th {\n",
       "        text-align: right;\n",
       "    }\n",
       "</style>\n",
       "<table border=\"1\" class=\"dataframe\">\n",
       "  <thead>\n",
       "    <tr style=\"text-align: right;\">\n",
       "      <th></th>\n",
       "      <th>user</th>\n",
       "      <th>number of calls</th>\n",
       "      <th>total minutes used</th>\n",
       "    </tr>\n",
       "  </thead>\n",
       "  <tbody>\n",
       "    <tr>\n",
       "      <th>count</th>\n",
       "      <td>481.000000</td>\n",
       "      <td>481.000000</td>\n",
       "      <td>481.000000</td>\n",
       "    </tr>\n",
       "    <tr>\n",
       "      <th>mean</th>\n",
       "      <td>1250.636175</td>\n",
       "      <td>286.351351</td>\n",
       "      <td>1993.376029</td>\n",
       "    </tr>\n",
       "    <tr>\n",
       "      <th>std</th>\n",
       "      <td>144.955118</td>\n",
       "      <td>238.182107</td>\n",
       "      <td>1660.736804</td>\n",
       "    </tr>\n",
       "    <tr>\n",
       "      <th>min</th>\n",
       "      <td>1000.000000</td>\n",
       "      <td>2.000000</td>\n",
       "      <td>5.600000</td>\n",
       "    </tr>\n",
       "    <tr>\n",
       "      <th>25%</th>\n",
       "      <td>1125.000000</td>\n",
       "      <td>108.000000</td>\n",
       "      <td>773.400000</td>\n",
       "    </tr>\n",
       "    <tr>\n",
       "      <th>50%</th>\n",
       "      <td>1251.000000</td>\n",
       "      <td>216.000000</td>\n",
       "      <td>1496.780000</td>\n",
       "    </tr>\n",
       "    <tr>\n",
       "      <th>75%</th>\n",
       "      <td>1376.000000</td>\n",
       "      <td>413.000000</td>\n",
       "      <td>2814.250000</td>\n",
       "    </tr>\n",
       "    <tr>\n",
       "      <th>max</th>\n",
       "      <td>1499.000000</td>\n",
       "      <td>1300.000000</td>\n",
       "      <td>9214.400000</td>\n",
       "    </tr>\n",
       "  </tbody>\n",
       "</table>\n",
       "</div>"
      ],
      "text/plain": [
       "              user  number of calls  total minutes used\n",
       "count   481.000000       481.000000          481.000000\n",
       "mean   1250.636175       286.351351         1993.376029\n",
       "std     144.955118       238.182107         1660.736804\n",
       "min    1000.000000         2.000000            5.600000\n",
       "25%    1125.000000       108.000000          773.400000\n",
       "50%    1251.000000       216.000000         1496.780000\n",
       "75%    1376.000000       413.000000         2814.250000\n",
       "max    1499.000000      1300.000000         9214.400000"
      ]
     },
     "execution_count": 15,
     "metadata": {},
     "output_type": "execute_result"
    }
   ],
   "source": [
    "# summary of calls made and minutes used per month\n",
    "calls_per_month.describe()"
   ]
  },
  {
   "cell_type": "markdown",
   "metadata": {},
   "source": [
    "From the number of calls made per month, we can see that about 481 users made calls out of 500 users. It is reasonable to assume that 19 users did not make any call. The person with the highest call rate made 1300 calls while the person with the lowest call rate made just 2 calls. Since the mean is *greater* than the median, we expect the distribution to be skewed to the right. This means the data could contain outliers."
   ]
  },
  {
   "cell_type": "code",
   "execution_count": 16,
   "metadata": {},
   "outputs": [
    {
     "data": {
      "text/html": [
       "<div>\n",
       "<style scoped>\n",
       "    .dataframe tbody tr th:only-of-type {\n",
       "        vertical-align: middle;\n",
       "    }\n",
       "\n",
       "    .dataframe tbody tr th {\n",
       "        vertical-align: top;\n",
       "    }\n",
       "\n",
       "    .dataframe thead th {\n",
       "        text-align: right;\n",
       "    }\n",
       "</style>\n",
       "<table border=\"1\" class=\"dataframe\">\n",
       "  <thead>\n",
       "    <tr style=\"text-align: right;\">\n",
       "      <th></th>\n",
       "      <th>user</th>\n",
       "      <th>messages sent</th>\n",
       "    </tr>\n",
       "  </thead>\n",
       "  <tbody>\n",
       "    <tr>\n",
       "      <th>0</th>\n",
       "      <td>1000</td>\n",
       "      <td>11</td>\n",
       "    </tr>\n",
       "    <tr>\n",
       "      <th>1</th>\n",
       "      <td>1001</td>\n",
       "      <td>207</td>\n",
       "    </tr>\n",
       "    <tr>\n",
       "      <th>2</th>\n",
       "      <td>1002</td>\n",
       "      <td>88</td>\n",
       "    </tr>\n",
       "    <tr>\n",
       "      <th>3</th>\n",
       "      <td>1003</td>\n",
       "      <td>50</td>\n",
       "    </tr>\n",
       "    <tr>\n",
       "      <th>4</th>\n",
       "      <td>1004</td>\n",
       "      <td>177</td>\n",
       "    </tr>\n",
       "  </tbody>\n",
       "</table>\n",
       "</div>"
      ],
      "text/plain": [
       "   user  messages sent\n",
       "0  1000             11\n",
       "1  1001            207\n",
       "2  1002             88\n",
       "3  1003             50\n",
       "4  1004            177"
      ]
     },
     "execution_count": 16,
     "metadata": {},
     "output_type": "execute_result"
    }
   ],
   "source": [
    "# number of text messages sent per month\n",
    "text_per_month = (messages\n",
    "                   .pivot_table(index='user', values='month', aggfunc='count').reset_index())\n",
    "text_per_month.columns = ['user', 'messages sent']\n",
    "text_per_month.head()"
   ]
  },
  {
   "cell_type": "code",
   "execution_count": 17,
   "metadata": {},
   "outputs": [
    {
     "data": {
      "text/html": [
       "<div>\n",
       "<style scoped>\n",
       "    .dataframe tbody tr th:only-of-type {\n",
       "        vertical-align: middle;\n",
       "    }\n",
       "\n",
       "    .dataframe tbody tr th {\n",
       "        vertical-align: top;\n",
       "    }\n",
       "\n",
       "    .dataframe thead th {\n",
       "        text-align: right;\n",
       "    }\n",
       "</style>\n",
       "<table border=\"1\" class=\"dataframe\">\n",
       "  <thead>\n",
       "    <tr style=\"text-align: right;\">\n",
       "      <th></th>\n",
       "      <th>user</th>\n",
       "      <th>messages sent</th>\n",
       "    </tr>\n",
       "  </thead>\n",
       "  <tbody>\n",
       "    <tr>\n",
       "      <th>count</th>\n",
       "      <td>402.000000</td>\n",
       "      <td>402.000000</td>\n",
       "    </tr>\n",
       "    <tr>\n",
       "      <th>mean</th>\n",
       "      <td>1248.639303</td>\n",
       "      <td>189.181592</td>\n",
       "    </tr>\n",
       "    <tr>\n",
       "      <th>std</th>\n",
       "      <td>143.678749</td>\n",
       "      <td>192.207920</td>\n",
       "    </tr>\n",
       "    <tr>\n",
       "      <th>min</th>\n",
       "      <td>1000.000000</td>\n",
       "      <td>1.000000</td>\n",
       "    </tr>\n",
       "    <tr>\n",
       "      <th>25%</th>\n",
       "      <td>1124.250000</td>\n",
       "      <td>60.000000</td>\n",
       "    </tr>\n",
       "    <tr>\n",
       "      <th>50%</th>\n",
       "      <td>1247.500000</td>\n",
       "      <td>126.500000</td>\n",
       "    </tr>\n",
       "    <tr>\n",
       "      <th>75%</th>\n",
       "      <td>1372.750000</td>\n",
       "      <td>258.750000</td>\n",
       "    </tr>\n",
       "    <tr>\n",
       "      <th>max</th>\n",
       "      <td>1497.000000</td>\n",
       "      <td>1288.000000</td>\n",
       "    </tr>\n",
       "  </tbody>\n",
       "</table>\n",
       "</div>"
      ],
      "text/plain": [
       "              user  messages sent\n",
       "count   402.000000     402.000000\n",
       "mean   1248.639303     189.181592\n",
       "std     143.678749     192.207920\n",
       "min    1000.000000       1.000000\n",
       "25%    1124.250000      60.000000\n",
       "50%    1247.500000     126.500000\n",
       "75%    1372.750000     258.750000\n",
       "max    1497.000000    1288.000000"
      ]
     },
     "execution_count": 17,
     "metadata": {},
     "output_type": "execute_result"
    }
   ],
   "source": [
    "# summary of messages sent per month\n",
    "text_per_month.describe()"
   ]
  },
  {
   "cell_type": "markdown",
   "metadata": {},
   "source": [
    "On the average, about 189 messages was sent per user per month. The least number of message sent was 1 while the most message sent was 1288. Since the mean is *greater* than the median, we expect the distribution to be skewed to the right. This means the data could contain outliers. "
   ]
  },
  {
   "cell_type": "code",
   "execution_count": 18,
   "metadata": {},
   "outputs": [
    {
     "data": {
      "text/html": [
       "<div>\n",
       "<style scoped>\n",
       "    .dataframe tbody tr th:only-of-type {\n",
       "        vertical-align: middle;\n",
       "    }\n",
       "\n",
       "    .dataframe tbody tr th {\n",
       "        vertical-align: top;\n",
       "    }\n",
       "\n",
       "    .dataframe thead th {\n",
       "        text-align: right;\n",
       "    }\n",
       "</style>\n",
       "<table border=\"1\" class=\"dataframe\">\n",
       "  <thead>\n",
       "    <tr style=\"text-align: right;\">\n",
       "      <th></th>\n",
       "      <th>user</th>\n",
       "      <th>data volume</th>\n",
       "    </tr>\n",
       "  </thead>\n",
       "  <tbody>\n",
       "    <tr>\n",
       "      <th>0</th>\n",
       "      <td>1000</td>\n",
       "      <td>1901.47</td>\n",
       "    </tr>\n",
       "    <tr>\n",
       "      <th>1</th>\n",
       "      <td>1001</td>\n",
       "      <td>80437.94</td>\n",
       "    </tr>\n",
       "    <tr>\n",
       "      <th>2</th>\n",
       "      <td>1002</td>\n",
       "      <td>40293.33</td>\n",
       "    </tr>\n",
       "    <tr>\n",
       "      <th>3</th>\n",
       "      <td>1003</td>\n",
       "      <td>27044.14</td>\n",
       "    </tr>\n",
       "    <tr>\n",
       "      <th>4</th>\n",
       "      <td>1004</td>\n",
       "      <td>156352.81</td>\n",
       "    </tr>\n",
       "  </tbody>\n",
       "</table>\n",
       "</div>"
      ],
      "text/plain": [
       "   user  data volume\n",
       "0  1000      1901.47\n",
       "1  1001     80437.94\n",
       "2  1002     40293.33\n",
       "3  1003     27044.14\n",
       "4  1004    156352.81"
      ]
     },
     "execution_count": 18,
     "metadata": {},
     "output_type": "execute_result"
    }
   ],
   "source": [
    "# volume of data per month\n",
    "volume_per_month = (internet\n",
    "                    .pivot_table(index='user', values='data used', aggfunc='sum').reset_index())\n",
    "volume_per_month.columns = ['user', 'data volume'] \n",
    "volume_per_month.head()"
   ]
  },
  {
   "cell_type": "code",
   "execution_count": 19,
   "metadata": {},
   "outputs": [
    {
     "data": {
      "text/html": [
       "<div>\n",
       "<style scoped>\n",
       "    .dataframe tbody tr th:only-of-type {\n",
       "        vertical-align: middle;\n",
       "    }\n",
       "\n",
       "    .dataframe tbody tr th {\n",
       "        vertical-align: top;\n",
       "    }\n",
       "\n",
       "    .dataframe thead th {\n",
       "        text-align: right;\n",
       "    }\n",
       "</style>\n",
       "<table border=\"1\" class=\"dataframe\">\n",
       "  <thead>\n",
       "    <tr style=\"text-align: right;\">\n",
       "      <th></th>\n",
       "      <th>user</th>\n",
       "      <th>data volume</th>\n",
       "    </tr>\n",
       "  </thead>\n",
       "  <tbody>\n",
       "    <tr>\n",
       "      <th>count</th>\n",
       "      <td>489.000000</td>\n",
       "      <td>489.000000</td>\n",
       "    </tr>\n",
       "    <tr>\n",
       "      <th>mean</th>\n",
       "      <td>1248.464213</td>\n",
       "      <td>78610.968732</td>\n",
       "    </tr>\n",
       "    <tr>\n",
       "      <th>std</th>\n",
       "      <td>144.361253</td>\n",
       "      <td>61940.374028</td>\n",
       "    </tr>\n",
       "    <tr>\n",
       "      <th>min</th>\n",
       "      <td>1000.000000</td>\n",
       "      <td>92.680000</td>\n",
       "    </tr>\n",
       "    <tr>\n",
       "      <th>25%</th>\n",
       "      <td>1123.000000</td>\n",
       "      <td>29401.530000</td>\n",
       "    </tr>\n",
       "    <tr>\n",
       "      <th>50%</th>\n",
       "      <td>1247.000000</td>\n",
       "      <td>62354.370000</td>\n",
       "    </tr>\n",
       "    <tr>\n",
       "      <th>75%</th>\n",
       "      <td>1373.000000</td>\n",
       "      <td>115737.760000</td>\n",
       "    </tr>\n",
       "    <tr>\n",
       "      <th>max</th>\n",
       "      <td>1499.000000</td>\n",
       "      <td>390159.350000</td>\n",
       "    </tr>\n",
       "  </tbody>\n",
       "</table>\n",
       "</div>"
      ],
      "text/plain": [
       "              user    data volume\n",
       "count   489.000000     489.000000\n",
       "mean   1248.464213   78610.968732\n",
       "std     144.361253   61940.374028\n",
       "min    1000.000000      92.680000\n",
       "25%    1123.000000   29401.530000\n",
       "50%    1247.000000   62354.370000\n",
       "75%    1373.000000  115737.760000\n",
       "max    1499.000000  390159.350000"
      ]
     },
     "execution_count": 19,
     "metadata": {},
     "output_type": "execute_result"
    }
   ],
   "source": [
    "# summary of volume of data per month per user\n",
    "volume_per_month.describe()"
   ]
  },
  {
   "cell_type": "markdown",
   "metadata": {},
   "source": [
    "From the volume of data used per month, we can see that about 489 users used data out of 500 users. It is reasonable to assume that 11 users did not use data in a month. On the average, about 78,601MB of data was used per month. The person with the lowest data volume used $\\approx$93MB while the person with the most data usage used $\\approx$390,159MB of data. Since the mean is *greater* than the median, we would expect the distribution to be skewed to the right. This means that the data could contain outliers. "
   ]
  },
  {
   "cell_type": "markdown",
   "metadata": {},
   "source": [
    "We proceed to join the calculated values to obtain a new dataset."
   ]
  },
  {
   "cell_type": "code",
   "execution_count": 20,
   "metadata": {},
   "outputs": [
    {
     "data": {
      "text/html": [
       "<div>\n",
       "<style scoped>\n",
       "    .dataframe tbody tr th:only-of-type {\n",
       "        vertical-align: middle;\n",
       "    }\n",
       "\n",
       "    .dataframe tbody tr th {\n",
       "        vertical-align: top;\n",
       "    }\n",
       "\n",
       "    .dataframe thead th {\n",
       "        text-align: right;\n",
       "    }\n",
       "</style>\n",
       "<table border=\"1\" class=\"dataframe\">\n",
       "  <thead>\n",
       "    <tr style=\"text-align: right;\">\n",
       "      <th></th>\n",
       "      <th>user</th>\n",
       "      <th>city</th>\n",
       "      <th>plan</th>\n",
       "    </tr>\n",
       "  </thead>\n",
       "  <tbody>\n",
       "    <tr>\n",
       "      <th>0</th>\n",
       "      <td>1000</td>\n",
       "      <td>Atlanta-Sandy Springs-Roswell, GA MSA</td>\n",
       "      <td>ultimate</td>\n",
       "    </tr>\n",
       "    <tr>\n",
       "      <th>1</th>\n",
       "      <td>1001</td>\n",
       "      <td>Seattle-Tacoma-Bellevue, WA MSA</td>\n",
       "      <td>surf</td>\n",
       "    </tr>\n",
       "    <tr>\n",
       "      <th>2</th>\n",
       "      <td>1002</td>\n",
       "      <td>Las Vegas-Henderson-Paradise, NV MSA</td>\n",
       "      <td>surf</td>\n",
       "    </tr>\n",
       "    <tr>\n",
       "      <th>3</th>\n",
       "      <td>1003</td>\n",
       "      <td>Tulsa, OK MSA</td>\n",
       "      <td>surf</td>\n",
       "    </tr>\n",
       "    <tr>\n",
       "      <th>4</th>\n",
       "      <td>1004</td>\n",
       "      <td>Seattle-Tacoma-Bellevue, WA MSA</td>\n",
       "      <td>surf</td>\n",
       "    </tr>\n",
       "  </tbody>\n",
       "</table>\n",
       "</div>"
      ],
      "text/plain": [
       "   user                                   city      plan\n",
       "0  1000  Atlanta-Sandy Springs-Roswell, GA MSA  ultimate\n",
       "1  1001        Seattle-Tacoma-Bellevue, WA MSA      surf\n",
       "2  1002   Las Vegas-Henderson-Paradise, NV MSA      surf\n",
       "3  1003                          Tulsa, OK MSA      surf\n",
       "4  1004        Seattle-Tacoma-Bellevue, WA MSA      surf"
      ]
     },
     "execution_count": 20,
     "metadata": {},
     "output_type": "execute_result"
    }
   ],
   "source": [
    "# plans for each user\n",
    "user_plans = users[['user', 'city', 'plan']]\n",
    "user_plans.head()"
   ]
  },
  {
   "cell_type": "code",
   "execution_count": 21,
   "metadata": {},
   "outputs": [
    {
     "data": {
      "text/html": [
       "<div>\n",
       "<style scoped>\n",
       "    .dataframe tbody tr th:only-of-type {\n",
       "        vertical-align: middle;\n",
       "    }\n",
       "\n",
       "    .dataframe tbody tr th {\n",
       "        vertical-align: top;\n",
       "    }\n",
       "\n",
       "    .dataframe thead th {\n",
       "        text-align: right;\n",
       "    }\n",
       "</style>\n",
       "<table border=\"1\" class=\"dataframe\">\n",
       "  <thead>\n",
       "    <tr style=\"text-align: right;\">\n",
       "      <th></th>\n",
       "      <th>user</th>\n",
       "      <th>number of calls</th>\n",
       "      <th>total minutes used</th>\n",
       "      <th>messages sent</th>\n",
       "      <th>data volume</th>\n",
       "      <th>city</th>\n",
       "      <th>plan</th>\n",
       "    </tr>\n",
       "  </thead>\n",
       "  <tbody>\n",
       "    <tr>\n",
       "      <th>0</th>\n",
       "      <td>1000</td>\n",
       "      <td>16</td>\n",
       "      <td>116.83</td>\n",
       "      <td>11</td>\n",
       "      <td>1901.47</td>\n",
       "      <td>Atlanta-Sandy Springs-Roswell, GA MSA</td>\n",
       "      <td>ultimate</td>\n",
       "    </tr>\n",
       "    <tr>\n",
       "      <th>1</th>\n",
       "      <td>1001</td>\n",
       "      <td>261</td>\n",
       "      <td>1702.19</td>\n",
       "      <td>207</td>\n",
       "      <td>80437.94</td>\n",
       "      <td>Seattle-Tacoma-Bellevue, WA MSA</td>\n",
       "      <td>surf</td>\n",
       "    </tr>\n",
       "    <tr>\n",
       "      <th>2</th>\n",
       "      <td>1002</td>\n",
       "      <td>113</td>\n",
       "      <td>797.74</td>\n",
       "      <td>88</td>\n",
       "      <td>40293.33</td>\n",
       "      <td>Las Vegas-Henderson-Paradise, NV MSA</td>\n",
       "      <td>surf</td>\n",
       "    </tr>\n",
       "    <tr>\n",
       "      <th>3</th>\n",
       "      <td>1003</td>\n",
       "      <td>149</td>\n",
       "      <td>1073.39</td>\n",
       "      <td>50</td>\n",
       "      <td>27044.14</td>\n",
       "      <td>Tulsa, OK MSA</td>\n",
       "      <td>surf</td>\n",
       "    </tr>\n",
       "    <tr>\n",
       "      <th>4</th>\n",
       "      <td>1004</td>\n",
       "      <td>370</td>\n",
       "      <td>2688.68</td>\n",
       "      <td>177</td>\n",
       "      <td>156352.81</td>\n",
       "      <td>Seattle-Tacoma-Bellevue, WA MSA</td>\n",
       "      <td>surf</td>\n",
       "    </tr>\n",
       "  </tbody>\n",
       "</table>\n",
       "</div>"
      ],
      "text/plain": [
       "   user  number of calls  total minutes used  messages sent  data volume  \\\n",
       "0  1000               16              116.83             11      1901.47   \n",
       "1  1001              261             1702.19            207     80437.94   \n",
       "2  1002              113              797.74             88     40293.33   \n",
       "3  1003              149             1073.39             50     27044.14   \n",
       "4  1004              370             2688.68            177    156352.81   \n",
       "\n",
       "                                    city      plan  \n",
       "0  Atlanta-Sandy Springs-Roswell, GA MSA  ultimate  \n",
       "1        Seattle-Tacoma-Bellevue, WA MSA      surf  \n",
       "2   Las Vegas-Henderson-Paradise, NV MSA      surf  \n",
       "3                          Tulsa, OK MSA      surf  \n",
       "4        Seattle-Tacoma-Bellevue, WA MSA      surf  "
      ]
     },
     "execution_count": 21,
     "metadata": {},
     "output_type": "execute_result"
    }
   ],
   "source": [
    "# join tables to gether using `merge()`\n",
    "first_join = pd.merge(calls_per_month, text_per_month, on='user', how='inner')\n",
    "second_join = pd.merge(first_join, volume_per_month, on='user', how='inner')\n",
    "all_join = pd.merge(second_join, user_plans, on='user')\n",
    "all_join.head()"
   ]
  },
  {
   "cell_type": "code",
   "execution_count": 22,
   "metadata": {},
   "outputs": [
    {
     "data": {
      "text/html": [
       "<div>\n",
       "<style scoped>\n",
       "    .dataframe tbody tr th:only-of-type {\n",
       "        vertical-align: middle;\n",
       "    }\n",
       "\n",
       "    .dataframe tbody tr th {\n",
       "        vertical-align: top;\n",
       "    }\n",
       "\n",
       "    .dataframe thead th {\n",
       "        text-align: right;\n",
       "    }\n",
       "</style>\n",
       "<table border=\"1\" class=\"dataframe\">\n",
       "  <thead>\n",
       "    <tr style=\"text-align: right;\">\n",
       "      <th></th>\n",
       "      <th>user</th>\n",
       "      <th>number of calls</th>\n",
       "      <th>total minutes used</th>\n",
       "      <th>messages sent</th>\n",
       "      <th>data volume</th>\n",
       "      <th>plan</th>\n",
       "    </tr>\n",
       "  </thead>\n",
       "  <tbody>\n",
       "    <tr>\n",
       "      <th>0</th>\n",
       "      <td>1000</td>\n",
       "      <td>16</td>\n",
       "      <td>116.83</td>\n",
       "      <td>11</td>\n",
       "      <td>1901.47</td>\n",
       "      <td>ultimate</td>\n",
       "    </tr>\n",
       "    <tr>\n",
       "      <th>1</th>\n",
       "      <td>1001</td>\n",
       "      <td>261</td>\n",
       "      <td>1702.19</td>\n",
       "      <td>207</td>\n",
       "      <td>80437.94</td>\n",
       "      <td>surf</td>\n",
       "    </tr>\n",
       "    <tr>\n",
       "      <th>2</th>\n",
       "      <td>1002</td>\n",
       "      <td>113</td>\n",
       "      <td>797.74</td>\n",
       "      <td>88</td>\n",
       "      <td>40293.33</td>\n",
       "      <td>surf</td>\n",
       "    </tr>\n",
       "    <tr>\n",
       "      <th>3</th>\n",
       "      <td>1003</td>\n",
       "      <td>149</td>\n",
       "      <td>1073.39</td>\n",
       "      <td>50</td>\n",
       "      <td>27044.14</td>\n",
       "      <td>surf</td>\n",
       "    </tr>\n",
       "    <tr>\n",
       "      <th>4</th>\n",
       "      <td>1004</td>\n",
       "      <td>370</td>\n",
       "      <td>2688.68</td>\n",
       "      <td>177</td>\n",
       "      <td>156352.81</td>\n",
       "      <td>surf</td>\n",
       "    </tr>\n",
       "  </tbody>\n",
       "</table>\n",
       "</div>"
      ],
      "text/plain": [
       "   user  number of calls  total minutes used  messages sent  data volume  \\\n",
       "0  1000               16              116.83             11      1901.47   \n",
       "1  1001              261             1702.19            207     80437.94   \n",
       "2  1002              113              797.74             88     40293.33   \n",
       "3  1003              149             1073.39             50     27044.14   \n",
       "4  1004              370             2688.68            177    156352.81   \n",
       "\n",
       "       plan  \n",
       "0  ultimate  \n",
       "1      surf  \n",
       "2      surf  \n",
       "3      surf  \n",
       "4      surf  "
      ]
     },
     "execution_count": 22,
     "metadata": {},
     "output_type": "execute_result"
    }
   ],
   "source": [
    "data = all_join[['user', 'number of calls', 'total minutes used', 'messages sent', 'data volume', 'plan']]\n",
    "data.head()"
   ]
  },
  {
   "cell_type": "markdown",
   "metadata": {},
   "source": [
    "We have been able to aggregate our data. We now have the number of calls per month, total minutes used per month, messages sent per month, volume of data per month, monthly plan, and volume of data in gigabytes. Now we have to calculate the monthly revenue from each user."
   ]
  },
  {
   "cell_type": "code",
   "execution_count": 23,
   "metadata": {},
   "outputs": [],
   "source": [
    "# function to calculate if a user is over their plan usage\n",
    "def fill_na(df):\n",
    "    if df.isna().sum().sum() !=0:\n",
    "        df.fillna(0,inplace=True)\n",
    "    return df\n",
    "\n",
    "def calculate_overage(df, df_plan):   \n",
    "    over_minutes = []\n",
    "    over_messages = []\n",
    "    over_data_volume = []\n",
    "    \n",
    "    # ultimate allowances\n",
    "    ultimate_monthly_messages = 1000 \n",
    "    ultimate_monthly_data = 30720 \n",
    "    ultimate_monthly_minutes = 3000 \n",
    "    \n",
    "    # surf allowances\n",
    "    surf_monthly_messages = 50   \n",
    "    surf_monthly_data = 15360  \n",
    "    surf_monthly_minutes = 500 \n",
    "    duration= 0\n",
    "    mb_used = 0\n",
    "    total_messages = 0\n",
    "    plan = 0\n",
    "    \n",
    "    # Create a tuple of every row\n",
    "    for duration, mb_used, total_messages, plan in zip(df['total minutes used'], df['data volume'], df['messages sent'], df['plan']):\n",
    "        if plan == 'ultimate':\n",
    "            if duration <= ultimate_monthly_minutes:\n",
    "                over_minutes.append(0)\n",
    "            else:\n",
    "                over_minutes.append(duration - ultimate_monthly_minutes)\n",
    "                \n",
    "            if mb_used <= ultimate_monthly_data:\n",
    "                over_data_volume.append(0)\n",
    "            else:\n",
    "                over_data_volume.append(mb_used - ultimate_monthly_data)\n",
    "                \n",
    "            if total_messages <= ultimate_monthly_messages:\n",
    "                over_messages.append(0)\n",
    "            else:\n",
    "                over_messages.append(total_messages - ultimate_monthly_messages)\n",
    "                \n",
    "        else: # surf case \n",
    "            if duration <= surf_monthly_minutes:\n",
    "                over_minutes.append(0)\n",
    "            else:\n",
    "                over_minutes.append(duration - surf_monthly_minutes)\n",
    "                \n",
    "            if mb_used <= surf_monthly_data:\n",
    "                over_data_volume.append(0)\n",
    "            else:\n",
    "                over_data_volume.append(mb_used - surf_monthly_data)\n",
    "                \n",
    "            if total_messages <= surf_monthly_messages:\n",
    "                over_messages.append(0)\n",
    "            else:\n",
    "                over_messages.append(total_messages - surf_monthly_messages)\n",
    "    \n",
    "    return np.ceil(over_minutes), np.ceil(over_data_volume), np.ceil(over_messages)\n",
    "data['over_minutes'], data['over_data_volume'], data['over_messages'] = calculate_overage(data, plans)"
   ]
  },
  {
   "cell_type": "code",
   "execution_count": 24,
   "metadata": {},
   "outputs": [],
   "source": [
    "# function to calculate revenue\n",
    "def calc_revenue(df, df_plan):\n",
    "    \n",
    "    revenue = []\n",
    "    user_sum = 0\n",
    " \n",
    "    # ultimate allowance and charge\n",
    "    ultimate_monthly_charge = 70 \n",
    "    ultimate_exceed_message_charge = 0.01 \n",
    "    ultimate_exceed_data_charge = 7 \n",
    "    ultimate_exceed_minute_charge = 0.01 \n",
    "    \n",
    "    # surf allowance and charge\n",
    "    surf_monthly_charge = 20 \n",
    "    surf_exceed_message_charge = 0.03 \n",
    "    surf_exceed_data_charge = 10 \n",
    "    surf_exceed_minute_charge = 0.03 \n",
    "    \n",
    "    for over_minutes, over_data_volume, over_messages, plan in zip(df['over_minutes'], df['over_data_volume'], df['over_messages'], df['plan']):\n",
    "        if plan == 'ultimate':\n",
    "            user_sum += ultimate_monthly_charge\n",
    "            user_sum += ultimate_exceed_message_charge * over_messages\n",
    "            user_sum += ultimate_exceed_data_charge * (over_data_volume / 1024)\n",
    "            user_sum += ultimate_exceed_minute_charge * over_minutes\n",
    "        else:\n",
    "            user_sum += surf_monthly_charge\n",
    "            user_sum += surf_exceed_message_charge * over_messages\n",
    "            user_sum += surf_exceed_data_charge * (over_data_volume / 1024)\n",
    "            user_sum += surf_exceed_minute_charge * over_minutes\n",
    "        revenue.append(user_sum)\n",
    "        user_sum = 0\n",
    "    return revenue"
   ]
  },
  {
   "cell_type": "code",
   "execution_count": 25,
   "metadata": {},
   "outputs": [
    {
     "data": {
      "text/html": [
       "<div>\n",
       "<style scoped>\n",
       "    .dataframe tbody tr th:only-of-type {\n",
       "        vertical-align: middle;\n",
       "    }\n",
       "\n",
       "    .dataframe tbody tr th {\n",
       "        vertical-align: top;\n",
       "    }\n",
       "\n",
       "    .dataframe thead th {\n",
       "        text-align: right;\n",
       "    }\n",
       "</style>\n",
       "<table border=\"1\" class=\"dataframe\">\n",
       "  <thead>\n",
       "    <tr style=\"text-align: right;\">\n",
       "      <th></th>\n",
       "      <th>user</th>\n",
       "      <th>number of calls</th>\n",
       "      <th>total minutes used</th>\n",
       "      <th>messages sent</th>\n",
       "      <th>data volume</th>\n",
       "      <th>plan</th>\n",
       "      <th>over minutes</th>\n",
       "      <th>over data volume</th>\n",
       "      <th>over messages</th>\n",
       "      <th>revenue</th>\n",
       "    </tr>\n",
       "  </thead>\n",
       "  <tbody>\n",
       "    <tr>\n",
       "      <th>0</th>\n",
       "      <td>1000</td>\n",
       "      <td>16</td>\n",
       "      <td>116.83</td>\n",
       "      <td>11</td>\n",
       "      <td>1901.47</td>\n",
       "      <td>ultimate</td>\n",
       "      <td>0.0</td>\n",
       "      <td>0.0</td>\n",
       "      <td>0.0</td>\n",
       "      <td>70.000000</td>\n",
       "    </tr>\n",
       "    <tr>\n",
       "      <th>1</th>\n",
       "      <td>1001</td>\n",
       "      <td>261</td>\n",
       "      <td>1702.19</td>\n",
       "      <td>207</td>\n",
       "      <td>80437.94</td>\n",
       "      <td>surf</td>\n",
       "      <td>1203.0</td>\n",
       "      <td>65078.0</td>\n",
       "      <td>157.0</td>\n",
       "      <td>696.327344</td>\n",
       "    </tr>\n",
       "    <tr>\n",
       "      <th>2</th>\n",
       "      <td>1002</td>\n",
       "      <td>113</td>\n",
       "      <td>797.74</td>\n",
       "      <td>88</td>\n",
       "      <td>40293.33</td>\n",
       "      <td>surf</td>\n",
       "      <td>298.0</td>\n",
       "      <td>24934.0</td>\n",
       "      <td>38.0</td>\n",
       "      <td>273.576094</td>\n",
       "    </tr>\n",
       "    <tr>\n",
       "      <th>3</th>\n",
       "      <td>1003</td>\n",
       "      <td>149</td>\n",
       "      <td>1073.39</td>\n",
       "      <td>50</td>\n",
       "      <td>27044.14</td>\n",
       "      <td>surf</td>\n",
       "      <td>574.0</td>\n",
       "      <td>11685.0</td>\n",
       "      <td>0.0</td>\n",
       "      <td>151.331328</td>\n",
       "    </tr>\n",
       "    <tr>\n",
       "      <th>4</th>\n",
       "      <td>1004</td>\n",
       "      <td>370</td>\n",
       "      <td>2688.68</td>\n",
       "      <td>177</td>\n",
       "      <td>156352.81</td>\n",
       "      <td>surf</td>\n",
       "      <td>2189.0</td>\n",
       "      <td>140993.0</td>\n",
       "      <td>127.0</td>\n",
       "      <td>1466.364766</td>\n",
       "    </tr>\n",
       "    <tr>\n",
       "      <th>5</th>\n",
       "      <td>1005</td>\n",
       "      <td>59</td>\n",
       "      <td>480.00</td>\n",
       "      <td>11</td>\n",
       "      <td>17140.17</td>\n",
       "      <td>surf</td>\n",
       "      <td>0.0</td>\n",
       "      <td>1781.0</td>\n",
       "      <td>0.0</td>\n",
       "      <td>37.392578</td>\n",
       "    </tr>\n",
       "    <tr>\n",
       "      <th>6</th>\n",
       "      <td>1006</td>\n",
       "      <td>11</td>\n",
       "      <td>66.11</td>\n",
       "      <td>154</td>\n",
       "      <td>34187.19</td>\n",
       "      <td>ultimate</td>\n",
       "      <td>0.0</td>\n",
       "      <td>3468.0</td>\n",
       "      <td>0.0</td>\n",
       "      <td>93.707031</td>\n",
       "    </tr>\n",
       "    <tr>\n",
       "      <th>7</th>\n",
       "      <td>1007</td>\n",
       "      <td>380</td>\n",
       "      <td>2566.57</td>\n",
       "      <td>255</td>\n",
       "      <td>143852.74</td>\n",
       "      <td>surf</td>\n",
       "      <td>2067.0</td>\n",
       "      <td>128493.0</td>\n",
       "      <td>205.0</td>\n",
       "      <td>1342.974453</td>\n",
       "    </tr>\n",
       "    <tr>\n",
       "      <th>8</th>\n",
       "      <td>1008</td>\n",
       "      <td>219</td>\n",
       "      <td>1527.11</td>\n",
       "      <td>84</td>\n",
       "      <td>55473.04</td>\n",
       "      <td>ultimate</td>\n",
       "      <td>0.0</td>\n",
       "      <td>24754.0</td>\n",
       "      <td>0.0</td>\n",
       "      <td>239.216797</td>\n",
       "    </tr>\n",
       "    <tr>\n",
       "      <th>9</th>\n",
       "      <td>1011</td>\n",
       "      <td>413</td>\n",
       "      <td>2845.76</td>\n",
       "      <td>371</td>\n",
       "      <td>131778.60</td>\n",
       "      <td>ultimate</td>\n",
       "      <td>0.0</td>\n",
       "      <td>101059.0</td>\n",
       "      <td>0.0</td>\n",
       "      <td>760.833008</td>\n",
       "    </tr>\n",
       "  </tbody>\n",
       "</table>\n",
       "</div>"
      ],
      "text/plain": [
       "   user  number of calls  total minutes used  messages sent  data volume  \\\n",
       "0  1000               16              116.83             11      1901.47   \n",
       "1  1001              261             1702.19            207     80437.94   \n",
       "2  1002              113              797.74             88     40293.33   \n",
       "3  1003              149             1073.39             50     27044.14   \n",
       "4  1004              370             2688.68            177    156352.81   \n",
       "5  1005               59              480.00             11     17140.17   \n",
       "6  1006               11               66.11            154     34187.19   \n",
       "7  1007              380             2566.57            255    143852.74   \n",
       "8  1008              219             1527.11             84     55473.04   \n",
       "9  1011              413             2845.76            371    131778.60   \n",
       "\n",
       "       plan  over minutes  over data volume  over messages      revenue  \n",
       "0  ultimate           0.0               0.0            0.0    70.000000  \n",
       "1      surf        1203.0           65078.0          157.0   696.327344  \n",
       "2      surf         298.0           24934.0           38.0   273.576094  \n",
       "3      surf         574.0           11685.0            0.0   151.331328  \n",
       "4      surf        2189.0          140993.0          127.0  1466.364766  \n",
       "5      surf           0.0            1781.0            0.0    37.392578  \n",
       "6  ultimate           0.0            3468.0            0.0    93.707031  \n",
       "7      surf        2067.0          128493.0          205.0  1342.974453  \n",
       "8  ultimate           0.0           24754.0            0.0   239.216797  \n",
       "9  ultimate           0.0          101059.0            0.0   760.833008  "
      ]
     },
     "metadata": {},
     "output_type": "display_data"
    },
    {
     "name": "stdout",
     "output_type": "stream",
     "text": [
      "The mean of the revenue is: 580.32\n"
     ]
    }
   ],
   "source": [
    "# calculate revenue and determine mean of revenue\n",
    "data['revenue'] = calc_revenue(data, plans)\n",
    "data.columns = ['user', 'number of calls', 'total minutes used', 'messages sent', 'data volume', 'plan', 'over minutes', 'over data volume', 'over messages', 'revenue']\n",
    "display(data.head(10))\n",
    "print('The mean of the revenue is: {:.2f}'.format(data['revenue'].mean()))"
   ]
  },
  {
   "cell_type": "markdown",
   "metadata": {},
   "source": [
    "#### Conclusion"
   ]
  },
  {
   "cell_type": "markdown",
   "metadata": {},
   "source": [
    "At the end of this section, we have been able to prepare the data for analysis by first converting to the appropriate datatypes. We also found some errors in the data which was handled. One of the errors observed was that some data in the `duration` column has values greater than 0 but less than 1 minutes. For such values, we rounded up duration less than 1 minutes to 1 minutes. We transformed the large portion of missing values in the `churn_date` field into either churn ='Yes' or no churn = 'No', thus it can be analyzed as a categorcal variable. We made some calculations and determined that 481 users made calls, 189 messages were sent per user per month, 78,601 MB of data was used on the average per month. We observe that the *mean* of the data is greater than the *median* so we expect the distribution to be skewed to the right and the data will contain outliers which we will deal with in later section. We joined the data and calculated if a user is over their plan, and computed the revenue. We determined the average revenue to be $580.32."
   ]
  },
  {
   "cell_type": "markdown",
   "metadata": {},
   "source": [
    "<div id=\"analyze_data\">\n",
    "    <h2>Analyze the data</h2> \n",
    "</div>"
   ]
  },
  {
   "cell_type": "markdown",
   "metadata": {},
   "source": [
    "#### Carry out Exploratory Data Analysis"
   ]
  },
  {
   "cell_type": "markdown",
   "metadata": {},
   "source": [
    "We begin by carrying out exploratory data analysis to describe the distribution of our data. "
   ]
  },
  {
   "cell_type": "code",
   "execution_count": 26,
   "metadata": {},
   "outputs": [
    {
     "name": "stdout",
     "output_type": "stream",
     "text": [
      "['number of calls', 'total minutes used', 'messages sent', 'data volume', 'over minutes', 'over data volume', 'over messages', 'revenue']\n",
      "['plan']\n"
     ]
    }
   ],
   "source": [
    "# populate the list of numeric and categorical attributes\n",
    "num_list = []\n",
    "cat_list = []\n",
    "plot_data = data[['number of calls', 'total minutes used', 'messages sent', 'data volume', 'plan', 'over minutes', 'over data volume', 'over messages', 'revenue']]\n",
    "\n",
    "for column in plot_data:\n",
    "    if is_numeric_dtype(plot_data[column]):\n",
    "        num_list.append(column)\n",
    "    elif is_string_dtype(plot_data[column]):\n",
    "        cat_list.append(column)\n",
    "        \n",
    "print(num_list)\n",
    "print(cat_list)"
   ]
  },
  {
   "cell_type": "code",
   "execution_count": 27,
   "metadata": {},
   "outputs": [
    {
     "data": {
      "image/png": "[encoded data removed]",
      "text/plain": [
       "<Figure size 432x288 with 1 Axes>"
      ]
     },
     "metadata": {
      "needs_background": "light"
     },
     "output_type": "display_data"
    },
    {
     "data": {
      "image/png": "[encoded data removed]",
      "text/plain": [
       "<Figure size 432x288 with 1 Axes>"
      ]
     },
     "metadata": {
      "needs_background": "light"
     },
     "output_type": "display_data"
    },
    {
     "data": {
      "image/png": "[encoded data removed]",
      "text/plain": [
       "<Figure size 432x288 with 1 Axes>"
      ]
     },
     "metadata": {
      "needs_background": "light"
     },
     "output_type": "display_data"
    },
    {
     "data": {
      "image/png": "[encoded data removed]",
      "text/plain": [
       "<Figure size 432x288 with 1 Axes>"
      ]
     },
     "metadata": {
      "needs_background": "light"
     },
     "output_type": "display_data"
    },
    {
     "data": {
      "image/png": "[encoded data removed]",
      "text/plain": [
       "<Figure size 432x288 with 1 Axes>"
      ]
     },
     "metadata": {
      "needs_background": "light"
     },
     "output_type": "display_data"
    },
    {
     "data": {
      "image/png": "[encoded data removed]",
      "text/plain": [
       "<Figure size 432x288 with 1 Axes>"
      ]
     },
     "metadata": {
      "needs_background": "light"
     },
     "output_type": "display_data"
    },
    {
     "data": {
      "image/png": "[encoded data removed]",
      "text/plain": [
       "<Figure size 432x288 with 1 Axes>"
      ]
     },
     "metadata": {
      "needs_background": "light"
     },
     "output_type": "display_data"
    },
    {
     "data": {
      "image/png": "[encoded data removed]",
      "text/plain": [
       "<Figure size 432x288 with 1 Axes>"
      ]
     },
     "metadata": {
      "needs_background": "light"
     },
     "output_type": "display_data"
    },
    {
     "data": {
      "image/png": "[encoded data removed]",
      "text/plain": [
       "<Figure size 432x288 with 1 Axes>"
      ]
     },
     "metadata": {
      "needs_background": "light"
     },
     "output_type": "display_data"
    }
   ],
   "source": [
    "# create histogram and bar chart\n",
    "for column in plot_data:\n",
    "    plt.figure(column)\n",
    "    plt.xlabel(column)\n",
    "    plt.ylabel('frequency')\n",
    "    plt.title('Histogram of ' + column)\n",
    "    if is_numeric_dtype(plot_data[column]):\n",
    "        data[column].plot(kind = 'hist')\n",
    "    elif is_string_dtype(plot_data[column]):\n",
    "        data[column].value_counts().plot(kind = 'bar')"
   ]
  },
  {
   "cell_type": "markdown",
   "metadata": {},
   "source": [
    "#### Conclusion"
   ]
  },
  {
   "cell_type": "markdown",
   "metadata": {},
   "source": [
    "We used a for loop to iterate through the columns in the data frame and create a plot for each column. We use a histogram to plot numerical variables and a bar plot for categorical variables. The plot above shows the frequency distribution of the features in our data. All the charts above with the exception of the `histogram of plan` show that the distribution is **skewed right**. In the histogram of number of calls, most number of calls is between 2 and 1300. Since the *mean* is greater than the *median*, we can conclude that the data has some outliers. The minimum total minutes used is 6 and the maximum is 9214 with a *standard deviation* of 1676. This shows that we have outlier in this column since the *mean* at 1950 is greater than the *median* at 1454. The histogram of messages sent shows that most messages was between 1 and 600 with some outlier at 1200 messages. The bar plot for the plan shows that surf had the most frequency than ultimate. This means more people used the surf plan than the ultimate plan. We need to further analyze the data to determine which plan brings in more revenue. Since the data is skewed, we would have to detect and remove outliers in the data."
   ]
  },
  {
   "cell_type": "markdown",
   "metadata": {},
   "source": [
    "#### Outlier detection and removal"
   ]
  },
  {
   "cell_type": "markdown",
   "metadata": {},
   "source": [
    "We will determine the upper limits of outliers, remove the outliers and store them in a separate DataFrame, and continue your work with the filtered data. "
   ]
  },
  {
   "cell_type": "code",
   "execution_count": 28,
   "metadata": {},
   "outputs": [
    {
     "name": "stdout",
     "output_type": "stream",
     "text": [
      "The inter-quartile range are - number of calls: 293.0, total minutes used: 2055.32, messages sent: 195.0,  data volume: 82911.08, and revenue: 779.47\n",
      "\n",
      "The upper bound are - number of calls: 837.5, total minutes used: 5833.15, messages sent: 547.50,  data volume: 235581.80, and revenue: 2054.96\n",
      "\n",
      "The lower bound are - number of calls: -334.5, total minutes used: -2388.13, messages sent: -232.50,  data volume: -96062.52, and revenue: -1062.91\n"
     ]
    }
   ],
   "source": [
    "# upper limit of the outliers\n",
    "telecom = data[['number of calls', 'total minutes used', 'messages sent', 'data volume', 'revenue']]\n",
    "iqr = telecom.quantile(0.75) - telecom.quantile(0.25)\n",
    "telecom_outliers_upper = telecom.quantile(0.75) + iqr*1.5\n",
    "telecom_outliers_lower = telecom.quantile(0.25) - iqr*1.5\n",
    "print('The inter-quartile range are - number of calls: {}, total minutes used: {:.2f}, messages sent: {},  data volume: {:.2f}, and revenue: {:.2f}'.format(*iqr))\n",
    "print()\n",
    "print('The upper bound are - number of calls: {}, total minutes used: {:.2f}, messages sent: {:.2f},  data volume: {:.2f}, and revenue: {:.2f}'.format(*telecom_outliers_upper))\n",
    "print()\n",
    "print('The lower bound are - number of calls: {}, total minutes used: {:.2f}, messages sent: {:.2f},  data volume: {:.2f}, and revenue: {:.2f}'.format(*telecom_outliers_lower))"
   ]
  },
  {
   "cell_type": "code",
   "execution_count": 29,
   "metadata": {},
   "outputs": [
    {
     "data": {
      "text/plain": [
       "array([[-1.10117894, -1.09566082, -0.93381386, -1.22897812, -0.91453296],\n",
       "       [-0.08042229, -0.14856229,  0.10447899,  0.07630473,  0.20789881],\n",
       "       [-0.69704264, -0.68888327, -0.5259131 , -0.59090213, -0.54970732],\n",
       "       ...,\n",
       "       [ 0.58202795,  0.49038393, -0.07033562,  0.25831544,  0.45526588],\n",
       "       [-0.35540163, -0.31974806, -0.64775358, -0.19243042, -0.09813623],\n",
       "       [-0.9428575 , -0.99110338, -0.72721477, -1.07598891, -0.91453296]])"
      ]
     },
     "execution_count": 29,
     "metadata": {},
     "output_type": "execute_result"
    }
   ],
   "source": [
    "# import stats from scipy\n",
    "from scipy import stats\n",
    "\n",
    "# z-score for 'number of calls', 'total minutes used', 'messages sent', 'data volume', 'revenue'\n",
    "stats.zscore(telecom)"
   ]
  },
  {
   "cell_type": "code",
   "execution_count": 30,
   "metadata": {},
   "outputs": [
    {
     "data": {
      "text/html": [
       "<div>\n",
       "<style scoped>\n",
       "    .dataframe tbody tr th:only-of-type {\n",
       "        vertical-align: middle;\n",
       "    }\n",
       "\n",
       "    .dataframe tbody tr th {\n",
       "        vertical-align: top;\n",
       "    }\n",
       "\n",
       "    .dataframe thead th {\n",
       "        text-align: right;\n",
       "    }\n",
       "</style>\n",
       "<table border=\"1\" class=\"dataframe\">\n",
       "  <thead>\n",
       "    <tr style=\"text-align: right;\">\n",
       "      <th></th>\n",
       "      <th>number of calls</th>\n",
       "      <th>total minutes used</th>\n",
       "      <th>messages sent</th>\n",
       "      <th>data volume</th>\n",
       "      <th>revenue</th>\n",
       "    </tr>\n",
       "  </thead>\n",
       "  <tbody>\n",
       "    <tr>\n",
       "      <th>0</th>\n",
       "      <td>16</td>\n",
       "      <td>116.83</td>\n",
       "      <td>11</td>\n",
       "      <td>1901.47</td>\n",
       "      <td>70.000000</td>\n",
       "    </tr>\n",
       "    <tr>\n",
       "      <th>1</th>\n",
       "      <td>261</td>\n",
       "      <td>1702.19</td>\n",
       "      <td>207</td>\n",
       "      <td>80437.94</td>\n",
       "      <td>696.327344</td>\n",
       "    </tr>\n",
       "    <tr>\n",
       "      <th>2</th>\n",
       "      <td>113</td>\n",
       "      <td>797.74</td>\n",
       "      <td>88</td>\n",
       "      <td>40293.33</td>\n",
       "      <td>273.576094</td>\n",
       "    </tr>\n",
       "    <tr>\n",
       "      <th>3</th>\n",
       "      <td>149</td>\n",
       "      <td>1073.39</td>\n",
       "      <td>50</td>\n",
       "      <td>27044.14</td>\n",
       "      <td>151.331328</td>\n",
       "    </tr>\n",
       "    <tr>\n",
       "      <th>4</th>\n",
       "      <td>370</td>\n",
       "      <td>2688.68</td>\n",
       "      <td>177</td>\n",
       "      <td>156352.81</td>\n",
       "      <td>1466.364766</td>\n",
       "    </tr>\n",
       "    <tr>\n",
       "      <th>...</th>\n",
       "      <td>...</td>\n",
       "      <td>...</td>\n",
       "      <td>...</td>\n",
       "      <td>...</td>\n",
       "      <td>...</td>\n",
       "    </tr>\n",
       "    <tr>\n",
       "      <th>371</th>\n",
       "      <td>462</td>\n",
       "      <td>3431.59</td>\n",
       "      <td>409</td>\n",
       "      <td>63050.67</td>\n",
       "      <td>584.462422</td>\n",
       "    </tr>\n",
       "    <tr>\n",
       "      <th>372</th>\n",
       "      <td>164</td>\n",
       "      <td>1039.23</td>\n",
       "      <td>108</td>\n",
       "      <td>40823.96</td>\n",
       "      <td>286.611875</td>\n",
       "    </tr>\n",
       "    <tr>\n",
       "      <th>373</th>\n",
       "      <td>420</td>\n",
       "      <td>2771.73</td>\n",
       "      <td>174</td>\n",
       "      <td>91389.19</td>\n",
       "      <td>834.360469</td>\n",
       "    </tr>\n",
       "    <tr>\n",
       "      <th>374</th>\n",
       "      <td>195</td>\n",
       "      <td>1415.64</td>\n",
       "      <td>65</td>\n",
       "      <td>64268.64</td>\n",
       "      <td>525.556953</td>\n",
       "    </tr>\n",
       "    <tr>\n",
       "      <th>375</th>\n",
       "      <td>54</td>\n",
       "      <td>291.85</td>\n",
       "      <td>50</td>\n",
       "      <td>11106.55</td>\n",
       "      <td>70.000000</td>\n",
       "    </tr>\n",
       "  </tbody>\n",
       "</table>\n",
       "<p>376 rows × 5 columns</p>\n",
       "</div>"
      ],
      "text/plain": [
       "     number of calls  total minutes used  messages sent  data volume  \\\n",
       "0                 16              116.83             11      1901.47   \n",
       "1                261             1702.19            207     80437.94   \n",
       "2                113              797.74             88     40293.33   \n",
       "3                149             1073.39             50     27044.14   \n",
       "4                370             2688.68            177    156352.81   \n",
       "..               ...                 ...            ...          ...   \n",
       "371              462             3431.59            409     63050.67   \n",
       "372              164             1039.23            108     40823.96   \n",
       "373              420             2771.73            174     91389.19   \n",
       "374              195             1415.64             65     64268.64   \n",
       "375               54              291.85             50     11106.55   \n",
       "\n",
       "         revenue  \n",
       "0      70.000000  \n",
       "1     696.327344  \n",
       "2     273.576094  \n",
       "3     151.331328  \n",
       "4    1466.364766  \n",
       "..           ...  \n",
       "371   584.462422  \n",
       "372   286.611875  \n",
       "373   834.360469  \n",
       "374   525.556953  \n",
       "375    70.000000  \n",
       "\n",
       "[376 rows x 5 columns]"
      ]
     },
     "execution_count": 30,
     "metadata": {},
     "output_type": "execute_result"
    }
   ],
   "source": [
    "# filtered dataset\n",
    "telecom_filtered = telecom[(np.abs(stats.zscore(telecom)) < 3).all(axis=1)]\n",
    "telecom_filtered = telecom_filtered.reset_index(drop=True, inplace=False)\n",
    "telecom_filtered"
   ]
  },
  {
   "cell_type": "code",
   "execution_count": 31,
   "metadata": {},
   "outputs": [
    {
     "data": {
      "text/html": [
       "<div>\n",
       "<style scoped>\n",
       "    .dataframe tbody tr th:only-of-type {\n",
       "        vertical-align: middle;\n",
       "    }\n",
       "\n",
       "    .dataframe tbody tr th {\n",
       "        vertical-align: top;\n",
       "    }\n",
       "\n",
       "    .dataframe thead th {\n",
       "        text-align: right;\n",
       "    }\n",
       "</style>\n",
       "<table border=\"1\" class=\"dataframe\">\n",
       "  <thead>\n",
       "    <tr style=\"text-align: right;\">\n",
       "      <th></th>\n",
       "      <th>number of calls</th>\n",
       "      <th>total minutes used</th>\n",
       "      <th>messages sent</th>\n",
       "      <th>data volume</th>\n",
       "      <th>revenue</th>\n",
       "    </tr>\n",
       "  </thead>\n",
       "  <tbody>\n",
       "    <tr>\n",
       "      <th>count</th>\n",
       "      <td>376.000000</td>\n",
       "      <td>376.000000</td>\n",
       "      <td>376.000000</td>\n",
       "      <td>376.000000</td>\n",
       "      <td>376.000000</td>\n",
       "    </tr>\n",
       "    <tr>\n",
       "      <th>mean</th>\n",
       "      <td>253.343085</td>\n",
       "      <td>1763.232101</td>\n",
       "      <td>170.178191</td>\n",
       "      <td>69565.841968</td>\n",
       "      <td>522.997914</td>\n",
       "    </tr>\n",
       "    <tr>\n",
       "      <th>std</th>\n",
       "      <td>198.535429</td>\n",
       "      <td>1386.669411</td>\n",
       "      <td>156.092187</td>\n",
       "      <td>50873.131572</td>\n",
       "      <td>479.430159</td>\n",
       "    </tr>\n",
       "    <tr>\n",
       "      <th>min</th>\n",
       "      <td>2.000000</td>\n",
       "      <td>6.150000</td>\n",
       "      <td>1.000000</td>\n",
       "      <td>92.680000</td>\n",
       "      <td>20.000000</td>\n",
       "    </tr>\n",
       "    <tr>\n",
       "      <th>25%</th>\n",
       "      <td>99.500000</td>\n",
       "      <td>665.067500</td>\n",
       "      <td>56.750000</td>\n",
       "      <td>25001.032500</td>\n",
       "      <td>92.968965</td>\n",
       "    </tr>\n",
       "    <tr>\n",
       "      <th>50%</th>\n",
       "      <td>200.000000</td>\n",
       "      <td>1404.100000</td>\n",
       "      <td>120.000000</td>\n",
       "      <td>57390.460000</td>\n",
       "      <td>402.323437</td>\n",
       "    </tr>\n",
       "    <tr>\n",
       "      <th>75%</th>\n",
       "      <td>370.250000</td>\n",
       "      <td>2561.950000</td>\n",
       "      <td>243.250000</td>\n",
       "      <td>104560.592500</td>\n",
       "      <td>816.532070</td>\n",
       "    </tr>\n",
       "    <tr>\n",
       "      <th>max</th>\n",
       "      <td>945.000000</td>\n",
       "      <td>6454.380000</td>\n",
       "      <td>740.000000</td>\n",
       "      <td>226437.930000</td>\n",
       "      <td>2004.560234</td>\n",
       "    </tr>\n",
       "  </tbody>\n",
       "</table>\n",
       "</div>"
      ],
      "text/plain": [
       "       number of calls  total minutes used  messages sent    data volume  \\\n",
       "count       376.000000          376.000000     376.000000     376.000000   \n",
       "mean        253.343085         1763.232101     170.178191   69565.841968   \n",
       "std         198.535429         1386.669411     156.092187   50873.131572   \n",
       "min           2.000000            6.150000       1.000000      92.680000   \n",
       "25%          99.500000          665.067500      56.750000   25001.032500   \n",
       "50%         200.000000         1404.100000     120.000000   57390.460000   \n",
       "75%         370.250000         2561.950000     243.250000  104560.592500   \n",
       "max         945.000000         6454.380000     740.000000  226437.930000   \n",
       "\n",
       "           revenue  \n",
       "count   376.000000  \n",
       "mean    522.997914  \n",
       "std     479.430159  \n",
       "min      20.000000  \n",
       "25%      92.968965  \n",
       "50%     402.323437  \n",
       "75%     816.532070  \n",
       "max    2004.560234  "
      ]
     },
     "execution_count": 31,
     "metadata": {},
     "output_type": "execute_result"
    }
   ],
   "source": [
    "# describe the filtered data\n",
    "telecom_filtered.describe()"
   ]
  },
  {
   "cell_type": "code",
   "execution_count": 32,
   "metadata": {},
   "outputs": [
    {
     "data": {
      "image/png": "[encoded data removed]",
      "text/plain": [
       "<Figure size 1080x720 with 6 Axes>"
      ]
     },
     "metadata": {
      "needs_background": "light"
     },
     "output_type": "display_data"
    }
   ],
   "source": [
    "# plot histogram of filtered data\n",
    "telecom_filtered[['number of calls', 'total minutes used', 'messages sent', 'data volume', 'revenue']].hist(bins=30, figsize=(15, 10))\n",
    "plt.suptitle('Histogram of selected parameters in filtered data', y=0.95);"
   ]
  },
  {
   "cell_type": "markdown",
   "metadata": {},
   "source": [
    "Before removing outliers, we had high values in the histogram of the data. After removing outliers using the Z-score technique, we observe from the histogram that the mean is closer to the median, and the distribution of the data is closer to a normal distribution than before."
   ]
  },
  {
   "cell_type": "markdown",
   "metadata": {},
   "source": [
    "#### Conclusion"
   ]
  },
  {
   "cell_type": "markdown",
   "metadata": {},
   "source": [
    "We detected outlier in the data from the initial histogram plotted. We use the `stats` package in scipy to determine the Z-score and filter the data to obtain the distribution where the mean is 0 and the standard deviation is 1. We have successfully removed outliers from the data. By looking at the statistics of the filtered data, we can see that outliers have been removed. For instance, the maximum number of calls is 945 against 1300 in the initial dataset. "
   ]
  },
  {
   "cell_type": "markdown",
   "metadata": {},
   "source": [
    "#### Describe the customers' behavior"
   ]
  },
  {
   "cell_type": "code",
   "execution_count": 33,
   "metadata": {},
   "outputs": [
    {
     "data": {
      "text/html": [
       "<div>\n",
       "<style scoped>\n",
       "    .dataframe tbody tr th:only-of-type {\n",
       "        vertical-align: middle;\n",
       "    }\n",
       "\n",
       "    .dataframe tbody tr th {\n",
       "        vertical-align: top;\n",
       "    }\n",
       "\n",
       "    .dataframe thead th {\n",
       "        text-align: right;\n",
       "    }\n",
       "</style>\n",
       "<table border=\"1\" class=\"dataframe\">\n",
       "  <thead>\n",
       "    <tr style=\"text-align: right;\">\n",
       "      <th></th>\n",
       "      <th>number of calls</th>\n",
       "      <th>total minutes used</th>\n",
       "      <th>messages sent</th>\n",
       "      <th>data volume</th>\n",
       "      <th>revenue</th>\n",
       "    </tr>\n",
       "  </thead>\n",
       "  <tbody>\n",
       "    <tr>\n",
       "      <th>count</th>\n",
       "      <td>125.0000</td>\n",
       "      <td>125.000000</td>\n",
       "      <td>125.000000</td>\n",
       "      <td>125.000000</td>\n",
       "      <td>125.000000</td>\n",
       "    </tr>\n",
       "    <tr>\n",
       "      <th>mean</th>\n",
       "      <td>251.4720</td>\n",
       "      <td>1739.341360</td>\n",
       "      <td>182.328000</td>\n",
       "      <td>68592.166000</td>\n",
       "      <td>358.339753</td>\n",
       "    </tr>\n",
       "    <tr>\n",
       "      <th>std</th>\n",
       "      <td>205.1504</td>\n",
       "      <td>1424.704993</td>\n",
       "      <td>160.871807</td>\n",
       "      <td>50933.037711</td>\n",
       "      <td>323.408730</td>\n",
       "    </tr>\n",
       "    <tr>\n",
       "      <th>min</th>\n",
       "      <td>4.0000</td>\n",
       "      <td>10.630000</td>\n",
       "      <td>2.000000</td>\n",
       "      <td>1901.470000</td>\n",
       "      <td>70.000000</td>\n",
       "    </tr>\n",
       "    <tr>\n",
       "      <th>25%</th>\n",
       "      <td>94.0000</td>\n",
       "      <td>655.140000</td>\n",
       "      <td>58.000000</td>\n",
       "      <td>25042.660000</td>\n",
       "      <td>70.000000</td>\n",
       "    </tr>\n",
       "    <tr>\n",
       "      <th>50%</th>\n",
       "      <td>182.0000</td>\n",
       "      <td>1276.360000</td>\n",
       "      <td>128.000000</td>\n",
       "      <td>55610.930000</td>\n",
       "      <td>240.153320</td>\n",
       "    </tr>\n",
       "    <tr>\n",
       "      <th>75%</th>\n",
       "      <td>380.0000</td>\n",
       "      <td>2568.110000</td>\n",
       "      <td>255.000000</td>\n",
       "      <td>100277.250000</td>\n",
       "      <td>545.494141</td>\n",
       "    </tr>\n",
       "    <tr>\n",
       "      <th>max</th>\n",
       "      <td>945.0000</td>\n",
       "      <td>6454.380000</td>\n",
       "      <td>600.000000</td>\n",
       "      <td>226437.930000</td>\n",
       "      <td>1407.916016</td>\n",
       "    </tr>\n",
       "  </tbody>\n",
       "</table>\n",
       "</div>"
      ],
      "text/plain": [
       "       number of calls  total minutes used  messages sent    data volume  \\\n",
       "count         125.0000          125.000000     125.000000     125.000000   \n",
       "mean          251.4720         1739.341360     182.328000   68592.166000   \n",
       "std           205.1504         1424.704993     160.871807   50933.037711   \n",
       "min             4.0000           10.630000       2.000000    1901.470000   \n",
       "25%            94.0000          655.140000      58.000000   25042.660000   \n",
       "50%           182.0000         1276.360000     128.000000   55610.930000   \n",
       "75%           380.0000         2568.110000     255.000000  100277.250000   \n",
       "max           945.0000         6454.380000     600.000000  226437.930000   \n",
       "\n",
       "           revenue  \n",
       "count   125.000000  \n",
       "mean    358.339753  \n",
       "std     323.408730  \n",
       "min      70.000000  \n",
       "25%      70.000000  \n",
       "50%     240.153320  \n",
       "75%     545.494141  \n",
       "max    1407.916016  "
      ]
     },
     "execution_count": 33,
     "metadata": {},
     "output_type": "execute_result"
    }
   ],
   "source": [
    "# extract filtered data for the ultimate plan\n",
    "ultimate_data = data.query(\"plan == 'ultimate'\")\n",
    "ultimate_plan = ultimate_data[['number of calls', 'total minutes used', 'messages sent', 'data volume', 'revenue']]\n",
    "\n",
    "ultimate_plan_filtered = ultimate_plan[(np.abs(stats.zscore(ultimate_plan)) < 3).all(axis=1)]\n",
    "ultimate_plan_filtered = ultimate_plan_filtered.reset_index(drop=True, inplace=False)\n",
    "ultimate_plan_filtered.describe()"
   ]
  },
  {
   "cell_type": "code",
   "execution_count": 34,
   "metadata": {},
   "outputs": [
    {
     "name": "stdout",
     "output_type": "stream",
     "text": [
      "Variance of the number of calls is 42086.69\n",
      "Variance of the total minutes used is 2029784.32\n",
      "Variance of the messages sent is 25879.74\n",
      "Variance of the data volume is 2594174330.45\n",
      "Variance of the revenue is 104593.21\n"
     ]
    }
   ],
   "source": [
    "# variance of the ultimate plan\n",
    "for column in ultimate_plan_filtered:\n",
    "    ultimate_plan_filtered[column].var()\n",
    "    print('Variance of the ' + column + ' is {: >5.2f}'.format(ultimate_plan_filtered[column].var()))"
   ]
  },
  {
   "cell_type": "markdown",
   "metadata": {},
   "source": [
    "From the above `describe()` method, we determined that `ultimate` users on the average make 251 calls, use 1739 minutes per month, send about 182 messages, and use 68592 MB of data per month. The variance of the data for ultimate user is 2,029,784.32 total minutes, 25879 messages sent, and 2,594,174,330.45 MB of data volume"
   ]
  },
  {
   "cell_type": "code",
   "execution_count": 35,
   "metadata": {},
   "outputs": [
    {
     "data": {
      "text/html": [
       "<div>\n",
       "<style scoped>\n",
       "    .dataframe tbody tr th:only-of-type {\n",
       "        vertical-align: middle;\n",
       "    }\n",
       "\n",
       "    .dataframe tbody tr th {\n",
       "        vertical-align: top;\n",
       "    }\n",
       "\n",
       "    .dataframe thead th {\n",
       "        text-align: right;\n",
       "    }\n",
       "</style>\n",
       "<table border=\"1\" class=\"dataframe\">\n",
       "  <thead>\n",
       "    <tr style=\"text-align: right;\">\n",
       "      <th></th>\n",
       "      <th>number of calls</th>\n",
       "      <th>total minutes used</th>\n",
       "      <th>messages sent</th>\n",
       "      <th>data volume</th>\n",
       "      <th>revenue</th>\n",
       "    </tr>\n",
       "  </thead>\n",
       "  <tbody>\n",
       "    <tr>\n",
       "      <th>count</th>\n",
       "      <td>252.000000</td>\n",
       "      <td>252.000000</td>\n",
       "      <td>252.000000</td>\n",
       "      <td>252.000000</td>\n",
       "      <td>252.000000</td>\n",
       "    </tr>\n",
       "    <tr>\n",
       "      <th>mean</th>\n",
       "      <td>256.559524</td>\n",
       "      <td>1791.338532</td>\n",
       "      <td>164.055556</td>\n",
       "      <td>71250.477341</td>\n",
       "      <td>617.162693</td>\n",
       "    </tr>\n",
       "    <tr>\n",
       "      <th>std</th>\n",
       "      <td>197.609802</td>\n",
       "      <td>1384.616555</td>\n",
       "      <td>151.478073</td>\n",
       "      <td>52980.052382</td>\n",
       "      <td>542.508279</td>\n",
       "    </tr>\n",
       "    <tr>\n",
       "      <th>min</th>\n",
       "      <td>2.000000</td>\n",
       "      <td>6.150000</td>\n",
       "      <td>1.000000</td>\n",
       "      <td>92.680000</td>\n",
       "      <td>20.000000</td>\n",
       "    </tr>\n",
       "    <tr>\n",
       "      <th>25%</th>\n",
       "      <td>101.500000</td>\n",
       "      <td>672.465000</td>\n",
       "      <td>56.750000</td>\n",
       "      <td>26418.465000</td>\n",
       "      <td>146.423105</td>\n",
       "    </tr>\n",
       "    <tr>\n",
       "      <th>50%</th>\n",
       "      <td>209.500000</td>\n",
       "      <td>1428.625000</td>\n",
       "      <td>112.000000</td>\n",
       "      <td>59955.270000</td>\n",
       "      <td>487.147656</td>\n",
       "    </tr>\n",
       "    <tr>\n",
       "      <th>75%</th>\n",
       "      <td>372.750000</td>\n",
       "      <td>2561.950000</td>\n",
       "      <td>238.250000</td>\n",
       "      <td>108922.722500</td>\n",
       "      <td>986.957871</td>\n",
       "    </tr>\n",
       "    <tr>\n",
       "      <th>max</th>\n",
       "      <td>905.000000</td>\n",
       "      <td>6114.410000</td>\n",
       "      <td>690.000000</td>\n",
       "      <td>245534.400000</td>\n",
       "      <td>2344.602734</td>\n",
       "    </tr>\n",
       "  </tbody>\n",
       "</table>\n",
       "</div>"
      ],
      "text/plain": [
       "       number of calls  total minutes used  messages sent    data volume  \\\n",
       "count       252.000000          252.000000     252.000000     252.000000   \n",
       "mean        256.559524         1791.338532     164.055556   71250.477341   \n",
       "std         197.609802         1384.616555     151.478073   52980.052382   \n",
       "min           2.000000            6.150000       1.000000      92.680000   \n",
       "25%         101.500000          672.465000      56.750000   26418.465000   \n",
       "50%         209.500000         1428.625000     112.000000   59955.270000   \n",
       "75%         372.750000         2561.950000     238.250000  108922.722500   \n",
       "max         905.000000         6114.410000     690.000000  245534.400000   \n",
       "\n",
       "           revenue  \n",
       "count   252.000000  \n",
       "mean    617.162693  \n",
       "std     542.508279  \n",
       "min      20.000000  \n",
       "25%     146.423105  \n",
       "50%     487.147656  \n",
       "75%     986.957871  \n",
       "max    2344.602734  "
      ]
     },
     "execution_count": 35,
     "metadata": {},
     "output_type": "execute_result"
    }
   ],
   "source": [
    "# extract filtered data for the surf plan\n",
    "surf_data = data.query(\"plan == 'surf'\")\n",
    "surf_plan = surf_data[['number of calls', 'total minutes used', 'messages sent', 'data volume', 'revenue']]\n",
    "\n",
    "surf_plan_filtered = surf_plan[(np.abs(stats.zscore(surf_plan)) < 3).all(axis=1)]\n",
    "surf_plan_filtered = surf_plan_filtered.reset_index(drop=True, inplace=False)\n",
    "surf_plan_filtered.describe()"
   ]
  },
  {
   "cell_type": "code",
   "execution_count": 36,
   "metadata": {},
   "outputs": [
    {
     "name": "stdout",
     "output_type": "stream",
     "text": [
      "Variance of number of calls is: 39049.63\n",
      "Variance of total minutes used is: 1917163.00\n",
      "Variance of messages sent is: 22945.61\n",
      "Variance of data volume is: 2806885950.42\n",
      "Variance of revenue is: 294315.23\n"
     ]
    }
   ],
   "source": [
    "# variance for the surf plan\n",
    "for column in surf_plan_filtered:\n",
    "    surf_plan_filtered[column].var()\n",
    "    print('Variance of ' + column + ' is: {: >5.2f}'.format(surf_plan_filtered[column].var()))"
   ]
  },
  {
   "cell_type": "markdown",
   "metadata": {},
   "source": [
    "Similarly when we use the `describe()` method on the data for `surf` users, we can see that on the average users make 256 calls, use 1791 minutes per month, send about 164 messages, and use 71250 MB of data per month. The variance of the data for surf user is 1,917,163 total minutes, 22945 messages sent, and 2,806,885,950.42 MB of data volume."
   ]
  },
  {
   "cell_type": "code",
   "execution_count": 37,
   "metadata": {},
   "outputs": [
    {
     "data": {
      "image/png": "[encoded data removed]",
      "text/plain": [
       "<Figure size 432x360 with 1 Axes>"
      ]
     },
     "metadata": {
      "needs_background": "light"
     },
     "output_type": "display_data"
    }
   ],
   "source": [
    "# histogram of number of calls per month\n",
    "plt.figure(figsize=(6,5))\n",
    "plt.hist(ultimate_plan_filtered['number of calls'], bins=20, alpha=0.5, label='ultimate')\n",
    "plt.hist(surf_plan_filtered['number of calls'], bins=20, alpha=0.5, label='surf')\n",
    "\n",
    "plt.xlabel('Number of calls', size=10)\n",
    "plt.ylabel('Count', size=10)\n",
    "plt.title('Overlay of histogram for number of calls made per month')\n",
    "plt.legend(loc='upper right');"
   ]
  },
  {
   "cell_type": "markdown",
   "metadata": {},
   "source": [
    "We first plotted an overlay of histogram to visually compare the distribution of number of calls per month across plans. From the overlay of histogram plot, we can see that the `surf` plan had the most representation for the number of calls per month. "
   ]
  },
  {
   "cell_type": "code",
   "execution_count": 38,
   "metadata": {},
   "outputs": [
    {
     "data": {
      "image/png": "[encoded data removed]",
      "text/plain": [
       "<Figure size 432x288 with 1 Axes>"
      ]
     },
     "metadata": {
      "needs_background": "light"
     },
     "output_type": "display_data"
    }
   ],
   "source": [
    "# density histogram showing frequency density of number of calls per month\n",
    "plt.hist([ultimate_plan_filtered['number of calls'], surf_plan_filtered['number of calls']], label= ['ultimate', 'surf'], density = True)\n",
    "plt.legend()\n",
    "plt.ylabel('Frequency Density')\n",
    "plt.xlabel('Number of calls')\n",
    "plt.title('Frequency density of number of calls per month');"
   ]
  },
  {
   "cell_type": "markdown",
   "metadata": {},
   "source": [
    "We compare the frequency density distribution of number of calls for each user per month in order to compare values across groups. We did this by plotting a grouped density histogram where multiple distributions are plotted in a single plot. Looking at the plot, the `surf` plan had the most number of calls per month than the `ultimate` plan. With the frequency density plot, we can see the number of calls made per users across phone plan. We can see at a glance that the `surf` plan has more number of calls than the `ultimate` plan."
   ]
  },
  {
   "cell_type": "code",
   "execution_count": 39,
   "metadata": {},
   "outputs": [
    {
     "data": {
      "image/png": "[encoded data removed]",
      "text/plain": [
       "<Figure size 432x360 with 1 Axes>"
      ]
     },
     "metadata": {
      "needs_background": "light"
     },
     "output_type": "display_data"
    }
   ],
   "source": [
    "# histogram of minutes the users require each month\n",
    "plt.figure(figsize=(6,5))\n",
    "plt.hist(ultimate_plan_filtered['total minutes used'], bins=20, alpha=0.5, label='ultimate')\n",
    "plt.hist(surf_plan_filtered['total minutes used'], bins=20, alpha=0.5, label='surf')\n",
    "\n",
    "plt.xlabel('Total minutes used', size=10)\n",
    "plt.ylabel('Count', size=10)\n",
    "plt.title('Histogram of minutes the users require per month')\n",
    "plt.legend(loc='upper right');"
   ]
  },
  {
   "cell_type": "code",
   "execution_count": 40,
   "metadata": {},
   "outputs": [
    {
     "data": {
      "image/png": "[encoded data removed]",
      "text/plain": [
       "<Figure size 432x288 with 1 Axes>"
      ]
     },
     "metadata": {
      "needs_background": "light"
     },
     "output_type": "display_data"
    }
   ],
   "source": [
    "# density histogram showing frequency density of total minutes used per month\n",
    "plt.hist([ultimate_plan_filtered['total minutes used'], surf_plan_filtered['total minutes used']], label= ['ultimate', 'surf'], density = True)\n",
    "plt.legend()\n",
    "plt.ylabel('Frequency Density')\n",
    "plt.xlabel('Total minutes used')\n",
    "plt.title('Frequency density of total minutes used per month');"
   ]
  },
  {
   "cell_type": "markdown",
   "metadata": {},
   "source": [
    "From the overlay of histogram plot, we can see that `surf` plan has the most users per month based on the total minutes used. The frequency density showing the total minutes used per month by each user shows that the distribution is skewed to the left. We can also see that the frequency density shows almost similar distribution. "
   ]
  },
  {
   "cell_type": "code",
   "execution_count": 41,
   "metadata": {},
   "outputs": [
    {
     "data": {
      "image/png": "[encoded data removed]",
      "text/plain": [
       "<Figure size 432x360 with 1 Axes>"
      ]
     },
     "metadata": {
      "needs_background": "light"
     },
     "output_type": "display_data"
    }
   ],
   "source": [
    "# histogram of messages sent each month\n",
    "plt.figure(figsize=(6,5))\n",
    "plt.hist(ultimate_plan_filtered['messages sent'], bins=20, alpha=0.5, label='ultimate')\n",
    "plt.hist(surf_plan_filtered['messages sent'], bins=20, alpha=0.5, label='surf')\n",
    "\n",
    "plt.xlabel('Messages sent', size=10)\n",
    "plt.ylabel('Count', size=10)\n",
    "plt.title('Histogram of total messages sent per month')\n",
    "plt.legend(loc='upper right');"
   ]
  },
  {
   "cell_type": "code",
   "execution_count": 42,
   "metadata": {},
   "outputs": [
    {
     "data": {
      "image/png": "[encoded data removed]",
      "text/plain": [
       "<Figure size 432x288 with 1 Axes>"
      ]
     },
     "metadata": {
      "needs_background": "light"
     },
     "output_type": "display_data"
    }
   ],
   "source": [
    "# density histogram showing frequency density of total messages sent each month\n",
    "plt.hist([ultimate_plan_filtered['messages sent'], surf_plan_filtered['messages sent']], label= ['ultimate', 'surf'], density = True)\n",
    "plt.legend()\n",
    "plt.ylabel('Frequency Density')\n",
    "plt.xlabel('Total messages sent')\n",
    "plt.title('Frequency density of total messages sent per month');"
   ]
  },
  {
   "cell_type": "markdown",
   "metadata": {},
   "source": [
    "From the overlay of the histogram showing the distribution of total messages sent per month, we can see that `surf` plan had the most total messages sent per month. In the corresponding frequency density plot, we can see that both plans had similar trend. The `surf` plan had more users than the `ultimate` plan. "
   ]
  },
  {
   "cell_type": "code",
   "execution_count": 43,
   "metadata": {},
   "outputs": [
    {
     "data": {
      "image/png": "[encoded data removed]",
      "text/plain": [
       "<Figure size 432x360 with 1 Axes>"
      ]
     },
     "metadata": {
      "needs_background": "light"
     },
     "output_type": "display_data"
    }
   ],
   "source": [
    "# histogram of volume of data required per month\n",
    "plt.figure(figsize=(6,5))\n",
    "plt.hist(ultimate_plan_filtered['data volume'], bins=20, alpha=0.5, label='ultimate')\n",
    "plt.hist(surf_plan_filtered['data volume'], bins=20, alpha=0.5, label='surf')\n",
    "\n",
    "plt.xlabel('Volume of data', size=10)\n",
    "plt.ylabel('Count', size=10)\n",
    "plt.title('Histogram of volume of data required per month')\n",
    "plt.legend(loc='upper right');"
   ]
  },
  {
   "cell_type": "code",
   "execution_count": 44,
   "metadata": {},
   "outputs": [
    {
     "data": {
      "image/png": "[encoded data removed]",
      "text/plain": [
       "<Figure size 432x288 with 1 Axes>"
      ]
     },
     "metadata": {
      "needs_background": "light"
     },
     "output_type": "display_data"
    }
   ],
   "source": [
    "# density histogram showing frequency density of volume of data required per month\n",
    "plt.hist([ultimate_plan_filtered['data volume'], surf_plan_filtered['data volume']], label= ['ultimate', 'surf'], density = True)\n",
    "plt.legend()\n",
    "plt.ylabel('Frequency density')\n",
    "plt.xlabel('Volume of data')\n",
    "plt.title('Frequency density of volume of data required per month', y=1.05);"
   ]
  },
  {
   "cell_type": "markdown",
   "metadata": {},
   "source": [
    "The histogram of volume of data required per users per month across plans shows that the `surf` plan had more users based on volume of data required per month. In the corresponding frequency density plot, we can see that both plan have the same trend except that `surf` has more values for volume of data required per month. "
   ]
  },
  {
   "cell_type": "code",
   "execution_count": 45,
   "metadata": {},
   "outputs": [
    {
     "name": "stdout",
     "output_type": "stream",
     "text": [
      "The average revenue for users of the ultimate plan is $358.34\n",
      "The average revenue for users of the surf plan is $617.16\n",
      "Percentage difference between surf plan revenue and ultimate plan revenue is 41.94%\n"
     ]
    }
   ],
   "source": [
    "# average revenue for from users of ultimate and surf plan\n",
    "ultimate_avg = ultimate_plan_filtered['revenue'].sum() / len(ultimate_plan_filtered['revenue'])\n",
    "surf_avg = surf_plan_filtered['revenue'].sum() / len(surf_plan_filtered['revenue'])\n",
    "diff = (surf_avg - ultimate_avg) / surf_avg * 100\n",
    "print('The average revenue for users of the ultimate plan is ${:.2f}'.format(ultimate_avg))\n",
    "print('The average revenue for users of the surf plan is ${:.2f}'.format(surf_avg))\n",
    "print('Percentage difference between surf plan revenue and ultimate plan revenue is {:.2f}%'.format(diff))"
   ]
  },
  {
   "cell_type": "markdown",
   "metadata": {},
   "source": [
    "#### Conclusion"
   ]
  },
  {
   "cell_type": "markdown",
   "metadata": {},
   "source": [
    "In this section, we calculated the statistics of our data. We determined that `ultimate` users on the average make 251 calls, use 1739 minutes per month, send about 182 messages, and use 68592 MB of data per month. We also computed statistics for `surf` users, and observed that on the average users make 256 calls, use 1791 minutes per month, send about 164 messages, and use 71250 MB of data per month. We plotted the distribution and the frequency density of the plans per user and observed that `surf` users have more representation overall than `ultimate` users. We also determined that `surf` brought in more revenue on the average since the average revenue for users in the `surf` plan is $\\approx$ 42% greater than users in the `ultimate` plan."
   ]
  },
  {
   "cell_type": "markdown",
   "metadata": {},
   "source": [
    "<div id=\"test_hypothesis\">\n",
    "    <h2>Test the hypothesis</h2> \n",
    "</div>"
   ]
  },
  {
   "cell_type": "markdown",
   "metadata": {},
   "source": [
    "#### Test 1"
   ]
  },
  {
   "cell_type": "markdown",
   "metadata": {},
   "source": [
    "*Null Hypothesis*: There is *no difference* between the average revenue from users of Ultimate and Surf calling plans.\n",
    "\n",
    "We calculated the average revenue for users of Ultimate calling plan as USD358.34, and the average revenue for the surf plan as USD617.16. We want to know whether the difference between these numbers are significant? That depends on the variance of the samples the values are calculated from. Instead of basing our comparison on the mean alone, we use the data to perform a statistical test. In this experiment, the *null hypothesis* is that there is *no difference* between the average revenue from users of Ultimate and Surf calling plan. The *alternative* hypothesis is that the average revenue from users of Ultimate and Surf calling plans differs. We can carry out hypothesis testing to test the hypothesis. We use a significance level (or alpha) of 0.05, which means that only in 5% of the case will we reject the null hypothesis when it is true. We use a t-test to test the hypothesis because it is used to compare the means of two groups in order to determine whether two groups are different from one another. "
   ]
  },
  {
   "cell_type": "code",
   "execution_count": 46,
   "metadata": {},
   "outputs": [
    {
     "name": "stdout",
     "output_type": "stream",
     "text": [
      "The p-value is: 1.6048953607567302e-08\n",
      "We reject the null hypohesis\n"
     ]
    }
   ],
   "source": [
    "# hypothesis testing\n",
    "ultimate = ultimate_plan_filtered['revenue']\n",
    "surf = surf_plan_filtered['revenue']\n",
    "\n",
    "# set critical statistical significance level\n",
    "alpha = 0.05\n",
    "\n",
    "# test the hypothesis that the means of the two independent population are equal\n",
    "results = st.ttest_ind(ultimate, surf, equal_var = False)\n",
    "print('The p-value is: {}'.format(results.pvalue))\n",
    "\n",
    "# compare the p-value with the significance level\n",
    "if (results.pvalue < alpha):\n",
    "    print('We reject the null hypohesis')\n",
    "else:\n",
    "    print('We fail to reject the null hypothesis')"
   ]
  },
  {
   "cell_type": "markdown",
   "metadata": {},
   "source": [
    "#### Conclusion"
   ]
  },
  {
   "cell_type": "markdown",
   "metadata": {},
   "source": [
    "We formulated the null hypothesis by stating that there is *no difference* between the average revenue from users of ultimate and surf calling plans. We used a significance level of 0.05. Since the p-value is less than 0.05, it means that the group are different hence **we reject the null hypothesis**. Our analysis suggest that average revenue from users of Ultimate and Surf calling plans differs. "
   ]
  },
  {
   "cell_type": "markdown",
   "metadata": {},
   "source": [
    "#### Test 2"
   ]
  },
  {
   "cell_type": "markdown",
   "metadata": {},
   "source": [
    "*Null Hypothesis*: There is *no difference* between the average revenue from users in NY-NJ area and users from other regions.\n",
    "\n",
    "*Alternative Hypothesis*: There is *a difference* between the average revenue from users in NY-NJ area and users from other regions. We carry out hypothesis testing to test the hypothesis. We use a significance level (or alpha) of 0.05, which means that only in 5% of the case will we reject the null hypothesis when it is true. We use a t-test to test the hypothesis because it is used to compare the means of two groups in order to determine whether two groups are different from one another."
   ]
  },
  {
   "cell_type": "code",
   "execution_count": 75,
   "metadata": {},
   "outputs": [
    {
     "name": "stdout",
     "output_type": "stream",
     "text": [
      "The average revenue of users in New York-New Jersey area is $592.04\n",
      "The average revenue of users from other regions is $578.04\n"
     ]
    }
   ],
   "source": [
    "city_data = all_join[['user', 'city']]\n",
    "new_data = pd.merge(data, city_data, on='user')\n",
    "newyork_jersey = new_data.query('city == \"New York-Newark-Jersey City, NY-NJ-PA MSA\"')['revenue'] # revenue of users in NY-NJ\n",
    "not_newyork_jersey = new_data.query('city != \"New York-Newark-Jersey City, NY-NJ-PA MSA\"')['revenue'] # revenue of users not in NY-NJ\n",
    "print('The average revenue of users in New York-New Jersey area is ${:.2f}'.format(newyork_jersey.mean()))\n",
    "print('The average revenue of users from other regions is ${:.2f}'.format(not_newyork_jersey.mean()))"
   ]
  },
  {
   "cell_type": "markdown",
   "metadata": {},
   "source": [
    "We have determined the average revenue of users in New York-New Jersey area as USD592.04, and the average revenue of users from other regions as USD578.04. We want to know whether the difference between these number is significant? We set up a hypothesis test for significance using a significance level (or $\\alpha$ values) of 0.05, which means that only in 5% of the case will we reject the null hypothesis when it is true. We use a t-test to test the hypothesis since it can be used to compare the means of two groups in order to determine whether the two groups are different from one another. The set is shown in the code below."
   ]
  },
  {
   "cell_type": "code",
   "execution_count": 96,
   "metadata": {},
   "outputs": [
    {
     "name": "stdout",
     "output_type": "stream",
     "text": [
      "The p-value is: 0.8570018583359007\n",
      "We fail to reject the null hypothesis\n"
     ]
    }
   ],
   "source": [
    "# hypothesis testing\n",
    "newyork_jersey = new_data.query('city == \"New York-Newark-Jersey City, NY-NJ-PA MSA\"')['revenue'] # revenue of users in NY-NJ\n",
    "not_newyork_jersey = new_data.query('city != \"New York-Newark-Jersey City, NY-NJ-PA MSA\"')['revenue'] # revenue of users not in NY-NJ\n",
    "\n",
    "# set critical statistical significance level\n",
    "alpha = 0.05\n",
    "\n",
    "# test the hypothesis that the means of the two independent population are equal\n",
    "results = st.ttest_ind(newyork_jersey, not_newyork_jersey, equal_var = False)\n",
    "print('The p-value is: {}'.format(results.pvalue))\n",
    "\n",
    "# compare the p-value with the significance level\n",
    "if (results.pvalue < alpha):\n",
    "    print('We reject the null hypohesis')\n",
    "else:\n",
    "    print('We fail to reject the null hypothesis')"
   ]
  },
  {
   "cell_type": "markdown",
   "metadata": {},
   "source": [
    "#### Conclusion"
   ]
  },
  {
   "cell_type": "markdown",
   "metadata": {},
   "source": [
    "We formulated our null hypothesis by stating that there is *no difference* between the average revenue from users in New York-New Jersey area, and users from other region. We used a t-test to test the hypothesis using a significance level of 0.05. Since the p-value is not less than 0.05, then the groups are not different hence **we fail to reject the null hypothesis**. We may not know the size of the difference between the average revenue from users in New York-New Jersey area, and users from other regions. All the test tells us is that they are different. However, by calculating the average number for revenue from users in both groups, we can say with certainty that the mean of the revenue between the two groups are not significantly different. "
   ]
  },
  {
   "cell_type": "markdown",
   "metadata": {},
   "source": [
    "<div id=\"overall_conclusion\">\n",
    "    <h2>Overall conclusion</h2> \n",
    "</div>"
   ]
  },
  {
   "cell_type": "markdown",
   "metadata": {},
   "source": [
    "By looking at the general information of the data, we identified some errors like problem with the datatype and corrected them by converting datatype to the right format. We made calculation and determined that 481 users made calls, 189 messages were sent per user per month, 78,601 MB of data was used on the average per month. We analyzed the data by carrying out exploratory data analysis and found that the distribution of the data is **skewed to the right**. We detected and removed outliers from the data, and used the filtered data to compute the statistics.  \n",
    "\n",
    "We determined that `ultimate` users on the average make 251 calls, use 1739 minutes per month, send about 182 messages, and use 68592 MB of data per month. We also computed statistics for `surf` users, and observed that on the average users make 256 calls, use 1791 minutes per month, send about 164 messages, and use 71250 MB of data per month. We plotted the distribution and the frequency density of the plans per user and observed that `surf` users have more representation overall than `ultimate` users. We also determined that `surf` brought in more revenue on the average since the average revenue for users in the `surf` plan is $\\approx$ 42% greater than users in the `ultimate` plan. The calculated average revenue for users of `ultimate` calling plan is USD358.34, while the average revenue for the `surf` plan as USD617.16.\n",
    "\n",
    "We formulated the null hypothesis by stating that there is *no difference* between the average revenue from users of `ultimate` and `surf` calling plans. We used a significance level of 0.05 to calculate the p-value. From the hypothesis test, we determined that the group are different hence we reject the null hypothesis. The test suggested that average revenue from users of Ultimate and Surf calling plans differs. We also tested the hypothesis by stating that there is *no difference* between the average revenue from users in New York-New Jersey area, and users from other region. Our hypothesis test shows that the average revenue from users in New York-New Jersey area, and users from other region are not different.\n",
    "\n",
    "We can conclude from this analysis that:\n",
    "- users on the `surf` plan on the average make more calls, use more minutes per month, send less messages, and use more internet data than users on the `ultimate` plan.\n",
    "- users on the `surf` plan brings in more average revenue than users on the `ultimate` plan\n",
    "- the average revenue from users in the New York-New Jersey area is a little bit greater than revenue from users in other regions \n",
    "- the commercial department should adjust advertising budget and advertise more calls and internet data offers to the user in the `surf` plan, and more messaging offers to users in the `ultimate` plan\n",
    "- the commercial department should invest in more advertisements in the New York-New Jersey area since Megaline makes more money in that area than any other region.\n",
    "- the `surf` plan is more profitable than the `ultimate` plan.\n",
    "\n",
    "We could carry out further analysis to determine the average revenue by age group. That will also inform Megaline telecom on which age group and advertising medium to target for marketing purposes. For instance, if we analyze that people in the age group 0 - 25 brings in more revenue, we can also determine whether marketing on social media apps like TikTok or Instagram will bring in more users and revenue than TV or billboard advertisement. "
   ]
  },
  {
   "cell_type": "code",
   "execution_count": null,
   "metadata": {},
   "outputs": [],
   "source": []
  }
 ],
 "metadata": {
  "kernelspec": {
   "display_name": "Python 3",
   "language": "python",
   "name": "python3"
  },
  "language_info": {
   "codemirror_mode": {
    "name": "ipython",
    "version": 3
   },
   "file_extension": ".py",
   "mimetype": "text/x-python",
   "name": "python",
   "nbconvert_exporter": "python",
   "pygments_lexer": "ipython3",
   "version": "3.8.5"
  }
 },
 "nbformat": 4,
 "nbformat_minor": 4
}
